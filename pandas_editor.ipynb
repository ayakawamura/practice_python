{
  "nbformat": 4,
  "nbformat_minor": 0,
  "metadata": {
    "kernelspec": {
      "display_name": "Python 3",
      "language": "python",
      "name": "python3"
    },
    "language_info": {
      "codemirror_mode": {
        "name": "ipython",
        "version": 3
      },
      "file_extension": ".py",
      "mimetype": "text/x-python",
      "name": "python",
      "nbconvert_exporter": "python",
      "pygments_lexer": "ipython3",
      "version": "3.6.7"
    },
    "toc": {
      "base_numbering": 1,
      "nav_menu": {},
      "number_sections": true,
      "sideBar": true,
      "skip_h1_title": false,
      "title_cell": "Table of Contents",
      "title_sidebar": "Contents",
      "toc_cell": false,
      "toc_position": {},
      "toc_section_display": true,
      "toc_window_display": false
    },
    "varInspector": {
      "cols": {
        "lenName": 16,
        "lenType": 16,
        "lenVar": 40
      },
      "kernels_config": {
        "python": {
          "delete_cmd_postfix": "",
          "delete_cmd_prefix": "del ",
          "library": "var_list.py",
          "varRefreshCmd": "print(var_dic_list())"
        },
        "r": {
          "delete_cmd_postfix": ") ",
          "delete_cmd_prefix": "rm(",
          "library": "var_list.r",
          "varRefreshCmd": "cat(var_dic_list()) "
        }
      },
      "types_to_exclude": [
        "module",
        "function",
        "builtin_function_or_method",
        "instance",
        "_Feature"
      ],
      "window_display": false
    },
    "colab": {
      "name": "pandas_editor.ipynb",
      "provenance": [],
      "collapsed_sections": [
        "ef9p2LI8qrQ0",
        "wasYMKGKqrQ1",
        "uxafKr1VqrQ1",
        "ImDSYJS7qrQ1",
        "ykSSY9g7qrQ1",
        "J-7kdliHqrQ1",
        "bk2xIW-lqrQ2",
        "FKJhsFK0qrQ2",
        "skAKw4_NqrQ2",
        "6IqZ6BZSqrQ2",
        "PiQTq1CoqrQ2",
        "kuGaVv8LqrQ3",
        "bMuYrZTeqrQ3",
        "tLz4XVX2qrQ3",
        "7n-YM-tiqrQ3",
        "3KoNVIytqrQ3",
        "FHRGjT5rqrQ3",
        "_HsJUt-4qrQ4",
        "Jqr10MNBqrQ4",
        "3R5WgHZ1qrQ4",
        "iRpYDr9NqrQ4",
        "G_ZHrDanqrQ4",
        "XfZg9DrwqrQ4",
        "y7pn4zWjqrQ4",
        "5I3Af6GfqrQ5",
        "aoA6iqTQqrQ5",
        "Qu59wBB_qrQ5",
        "AWj19dV9qrQ5",
        "Sc8T65iHqrQ5",
        "T-L3sLmXqrQ5",
        "qwShzY5pqrQ5",
        "DC97j3okqrQ5",
        "4UlmsUvkqrQ5",
        "GW6ZBbGxqrQ6",
        "RVjSwo9TqrQ6",
        "4BHshPlsqrQ6",
        "WbVLkqqdqrQ6",
        "gfN2oHYgqrQ6",
        "eTdOo7O4qrQ6",
        "tqVeUXLcqrQ6",
        "SEEJBcjyqrQ6",
        "InrvlIvXqrQ6",
        "PtHGgx9MqrQ7",
        "nx_-uuoLqrQ7",
        "o6V84oP3qrQ7",
        "f9h-PIEIqrQ7",
        "zfGzd7g0qrQ7",
        "p8gioHBaqrQ7",
        "kLNRDY59qrQ7",
        "Xqy6ra2rqrQ7",
        "ApfqnHQAqrQ7",
        "bHQ135U6qrQ8",
        "k3E3e9DWqrQ8",
        "-EuK8OAQqrQ8"
      ],
      "include_colab_link": true
    }
  },
  "cells": [
    {
      "cell_type": "markdown",
      "metadata": {
        "id": "view-in-github",
        "colab_type": "text"
      },
      "source": [
        "<a href=\"https://colab.research.google.com/github/ayakawamura/practice_python/blob/main/pandas_editor.ipynb\" target=\"_parent\"><img src=\"https://colab.research.google.com/assets/colab-badge.svg\" alt=\"Open In Colab\"/></a>"
      ]
    },
    {
      "cell_type": "markdown",
      "metadata": {
        "id": "abrLs56lqrQo"
      },
      "source": [
        "# pandas exercises\n",
        "\n",
        "\n",
        "1. データの読み込み方法について学習します。(2問)\n",
        "2. データの状態を確認する方法について学習します。（11問）\n",
        "3. データの条件を指定する方法について学習します。（11問）\n",
        "4. データの集計方法について学習します。（7問）\n",
        "5. データの整形方法について学習します。（13問）\n",
        "6. 文字列の整形について学習します。（6問）"
      ]
    },
    {
      "cell_type": "markdown",
      "metadata": {
        "id": "ZOKRdb_YqrQs"
      },
      "source": [
        "### 0. 事前準備"
      ]
    },
    {
      "cell_type": "markdown",
      "metadata": {
        "id": "IhFEqkbrqrQt"
      },
      "source": [
        "#### 0.1 「pandasをpd、numpyをnpと読み込んでください。」"
      ]
    },
    {
      "cell_type": "code",
      "metadata": {
        "id": "eEwCgcjYqrQu"
      },
      "source": [
        "import pandas as pd\n",
        "import numpy as np"
      ],
      "execution_count": null,
      "outputs": []
    },
    {
      "cell_type": "markdown",
      "metadata": {
        "id": "5Xj9SWvKqrQv"
      },
      "source": [
        "#### 0.2 「次のコードを実行してください。※data変数に格納してください。」"
      ]
    },
    {
      "cell_type": "code",
      "metadata": {
        "id": "8QQn0Z7rqrQv"
      },
      "source": [
        "data = pd.DataFrame({'name': ['A', 'B', 'C', 'D'], '数学': [80, 15, 90, 50], '英語': [80, 70, 50, 65],\n",
        "                    '国語': [ 90, 60, 60,  60]})"
      ],
      "execution_count": null,
      "outputs": []
    },
    {
      "cell_type": "markdown",
      "metadata": {
        "id": "V994EtnKqrQw"
      },
      "source": [
        "#### 0.3 「次のコードを実行してください。※e_data変数に格納してください。」"
      ]
    },
    {
      "cell_type": "code",
      "metadata": {
        "id": "uwskrYCvqrQw"
      },
      "source": [
        "e_data = pd.DataFrame({'name':'E','国語':[30],'数学':[30],'英語':[30]})"
      ],
      "execution_count": null,
      "outputs": []
    },
    {
      "cell_type": "markdown",
      "metadata": {
        "id": "Kz04kk2bqrQx"
      },
      "source": [
        "#### 0.4 「次のコードを実行してください。※data_2変数に格納してください。」"
      ]
    },
    {
      "cell_type": "code",
      "metadata": {
        "id": "GuANeE1WqrQy"
      },
      "source": [
        "data_2 = pd.DataFrame({'name': ['A', 'B', 'C', 'D','D'], '国語-数学': [\"30:20\", np.NAN, \"90:50\", \"50:30\", \"50:30\"], '英語': [\"80.2\",\"60.5\",\"34,2\",0,0]})"
      ],
      "execution_count": null,
      "outputs": []
    },
    {
      "cell_type": "markdown",
      "metadata": {
        "id": "3AFKKAERqrQy"
      },
      "source": [
        "#### 0.5 「次のコードを実行してください。※data_3変数に格納してください。」"
      ]
    },
    {
      "cell_type": "code",
      "metadata": {
        "id": "6CETFigTqrQz"
      },
      "source": [
        "data_3 = pd.DataFrame({'name': ['A', 'B', 'C', 'D'],\n",
        "                     '性別': ['男性', '男性', '女性', '男性'],\n",
        "                     '経歴': ['学部卒', '修士卒', '学部卒', '博士卒'],\n",
        "                     '特技': ['ボーリング', '野球', 'サッカー', '野球をやっていた']})"
      ],
      "execution_count": null,
      "outputs": []
    },
    {
      "cell_type": "markdown",
      "metadata": {
        "id": "0tynvdGbqrQz"
      },
      "source": [
        "### 1. データを読み込む方法について学習します。（2問）"
      ]
    },
    {
      "cell_type": "markdown",
      "metadata": {
        "id": "EimfgsO-qrQz"
      },
      "source": [
        "#### 1.1 「data変数を現在のディレクトリ配下に「a.csv」という名前で保存してください。」"
      ]
    },
    {
      "cell_type": "code",
      "metadata": {
        "id": "UVHnsIP3qrQ0"
      },
      "source": [
        "data.to_csv (\"./a.csv\", index = False)"
      ],
      "execution_count": null,
      "outputs": []
    },
    {
      "cell_type": "markdown",
      "metadata": {
        "id": "ef9p2LI8qrQ0"
      },
      "source": [
        "#### 1.2「「a.csv」というファイルを読み込み、dataという名前の変数に格納してください。」"
      ]
    },
    {
      "cell_type": "code",
      "metadata": {
        "id": "bH_4GZjvtFb0"
      },
      "source": [
        "data = pd.read_csv(\"./a.csv\",index_col = False)"
      ],
      "execution_count": null,
      "outputs": []
    },
    {
      "cell_type": "code",
      "metadata": {
        "colab": {
          "base_uri": "https://localhost:8080/",
          "height": 174
        },
        "id": "KrluAgsVqrQ0",
        "outputId": "e5553de5-3f0a-4801-9942-f3a74f268311"
      },
      "source": [
        "data.tail()"
      ],
      "execution_count": null,
      "outputs": [
        {
          "output_type": "execute_result",
          "data": {
            "text/html": [
              "<div>\n",
              "<style scoped>\n",
              "    .dataframe tbody tr th:only-of-type {\n",
              "        vertical-align: middle;\n",
              "    }\n",
              "\n",
              "    .dataframe tbody tr th {\n",
              "        vertical-align: top;\n",
              "    }\n",
              "\n",
              "    .dataframe thead th {\n",
              "        text-align: right;\n",
              "    }\n",
              "</style>\n",
              "<table border=\"1\" class=\"dataframe\">\n",
              "  <thead>\n",
              "    <tr style=\"text-align: right;\">\n",
              "      <th></th>\n",
              "      <th>name</th>\n",
              "      <th>数学</th>\n",
              "      <th>英語</th>\n",
              "      <th>国語</th>\n",
              "    </tr>\n",
              "  </thead>\n",
              "  <tbody>\n",
              "    <tr>\n",
              "      <th>0</th>\n",
              "      <td>A</td>\n",
              "      <td>80</td>\n",
              "      <td>80</td>\n",
              "      <td>90</td>\n",
              "    </tr>\n",
              "    <tr>\n",
              "      <th>1</th>\n",
              "      <td>B</td>\n",
              "      <td>15</td>\n",
              "      <td>70</td>\n",
              "      <td>60</td>\n",
              "    </tr>\n",
              "    <tr>\n",
              "      <th>2</th>\n",
              "      <td>C</td>\n",
              "      <td>90</td>\n",
              "      <td>50</td>\n",
              "      <td>60</td>\n",
              "    </tr>\n",
              "    <tr>\n",
              "      <th>3</th>\n",
              "      <td>D</td>\n",
              "      <td>50</td>\n",
              "      <td>65</td>\n",
              "      <td>60</td>\n",
              "    </tr>\n",
              "  </tbody>\n",
              "</table>\n",
              "</div>"
            ],
            "text/plain": [
              "  name  数学  英語  国語\n",
              "0    A  80  80  90\n",
              "1    B  15  70  60\n",
              "2    C  90  50  60\n",
              "3    D  50  65  60"
            ]
          },
          "metadata": {},
          "execution_count": 14
        }
      ]
    },
    {
      "cell_type": "markdown",
      "metadata": {
        "id": "wasYMKGKqrQ1"
      },
      "source": [
        "### 2.データの状態を確認する方法について学習します。（11問）"
      ]
    },
    {
      "cell_type": "markdown",
      "metadata": {
        "id": "uxafKr1VqrQ1"
      },
      "source": [
        "#### 2.1 「data変数のデータ形式を表示してください。」"
      ]
    },
    {
      "cell_type": "code",
      "metadata": {
        "colab": {
          "base_uri": "https://localhost:8080/"
        },
        "id": "XMy8-PeAqrQ1",
        "outputId": "e98e1d21-a37e-4f02-b343-5b12ab8c7033"
      },
      "source": [
        "type(data)"
      ],
      "execution_count": null,
      "outputs": [
        {
          "output_type": "execute_result",
          "data": {
            "text/plain": [
              "pandas.core.frame.DataFrame"
            ]
          },
          "metadata": {},
          "execution_count": 15
        }
      ]
    },
    {
      "cell_type": "markdown",
      "metadata": {
        "id": "ImDSYJS7qrQ1"
      },
      "source": [
        "#### 2.2 「pandasでSeries型データを作成して、データ形式を確認してください。※Seriesの中身は何でも良いです。」"
      ]
    },
    {
      "cell_type": "code",
      "metadata": {
        "colab": {
          "base_uri": "https://localhost:8080/"
        },
        "id": "Sn-7fLHuqrQ1",
        "outputId": "9c2a7179-c67b-4f5b-dbc0-385b67b289ab"
      },
      "source": [
        "a = pd.Series([1,2,3])\n",
        "type(a)"
      ],
      "execution_count": null,
      "outputs": [
        {
          "output_type": "execute_result",
          "data": {
            "text/plain": [
              "pandas.core.series.Series"
            ]
          },
          "metadata": {},
          "execution_count": 16
        }
      ]
    },
    {
      "cell_type": "markdown",
      "metadata": {
        "id": "ykSSY9g7qrQ1"
      },
      "source": [
        "#### 2.3 「pandasでDataFrame型データを作成して、データ形式を確認してください。※DataFrameの中身は何でも良いです。」"
      ]
    },
    {
      "cell_type": "code",
      "metadata": {
        "colab": {
          "base_uri": "https://localhost:8080/"
        },
        "id": "5tUIqS-2qrQ1",
        "outputId": "49f5e9ee-2e75-4224-dba7-d947da634ae3"
      },
      "source": [
        "b = pd.DataFrame({'name':['太郎',\"二郎\",'三郎'],'age':[10,9,16]})\n",
        "type(b)"
      ],
      "execution_count": null,
      "outputs": [
        {
          "output_type": "execute_result",
          "data": {
            "text/plain": [
              "pandas.core.frame.DataFrame"
            ]
          },
          "metadata": {},
          "execution_count": 17
        }
      ]
    },
    {
      "cell_type": "markdown",
      "metadata": {
        "id": "J-7kdliHqrQ1"
      },
      "source": [
        "#### 2.4 「data変数の行と列を表示してください。」"
      ]
    },
    {
      "cell_type": "code",
      "metadata": {
        "colab": {
          "base_uri": "https://localhost:8080/"
        },
        "id": "U97mDtdgqrQ2",
        "outputId": "33e45361-a773-45f1-e3c1-6ac25669e878"
      },
      "source": [
        "data.shape"
      ],
      "execution_count": null,
      "outputs": [
        {
          "output_type": "execute_result",
          "data": {
            "text/plain": [
              "(4, 4)"
            ]
          },
          "metadata": {},
          "execution_count": 18
        }
      ]
    },
    {
      "cell_type": "markdown",
      "metadata": {
        "id": "bk2xIW-lqrQ2"
      },
      "source": [
        "#### 2.5 「data変数の上から2行表示してください。」"
      ]
    },
    {
      "cell_type": "code",
      "metadata": {
        "colab": {
          "base_uri": "https://localhost:8080/",
          "height": 112
        },
        "id": "rDiYAsWuqrQ2",
        "outputId": "8c6530c8-21b4-44da-94d6-1a674f66cda0"
      },
      "source": [
        "data.head(2)"
      ],
      "execution_count": null,
      "outputs": [
        {
          "output_type": "execute_result",
          "data": {
            "text/html": [
              "<div>\n",
              "<style scoped>\n",
              "    .dataframe tbody tr th:only-of-type {\n",
              "        vertical-align: middle;\n",
              "    }\n",
              "\n",
              "    .dataframe tbody tr th {\n",
              "        vertical-align: top;\n",
              "    }\n",
              "\n",
              "    .dataframe thead th {\n",
              "        text-align: right;\n",
              "    }\n",
              "</style>\n",
              "<table border=\"1\" class=\"dataframe\">\n",
              "  <thead>\n",
              "    <tr style=\"text-align: right;\">\n",
              "      <th></th>\n",
              "      <th>name</th>\n",
              "      <th>数学</th>\n",
              "      <th>英語</th>\n",
              "      <th>国語</th>\n",
              "    </tr>\n",
              "  </thead>\n",
              "  <tbody>\n",
              "    <tr>\n",
              "      <th>0</th>\n",
              "      <td>A</td>\n",
              "      <td>80</td>\n",
              "      <td>80</td>\n",
              "      <td>90</td>\n",
              "    </tr>\n",
              "    <tr>\n",
              "      <th>1</th>\n",
              "      <td>B</td>\n",
              "      <td>15</td>\n",
              "      <td>70</td>\n",
              "      <td>60</td>\n",
              "    </tr>\n",
              "  </tbody>\n",
              "</table>\n",
              "</div>"
            ],
            "text/plain": [
              "  name  数学  英語  国語\n",
              "0    A  80  80  90\n",
              "1    B  15  70  60"
            ]
          },
          "metadata": {},
          "execution_count": 19
        }
      ]
    },
    {
      "cell_type": "markdown",
      "metadata": {
        "id": "FKJhsFK0qrQ2"
      },
      "source": [
        "#### 2.6 「data変数の下から3行表示してください。」"
      ]
    },
    {
      "cell_type": "code",
      "metadata": {
        "colab": {
          "base_uri": "https://localhost:8080/",
          "height": 143
        },
        "id": "D0jSfTO-qrQ2",
        "outputId": "2aa64f30-341d-4a6d-aab3-0030eace0bbe"
      },
      "source": [
        "data.tail(3)"
      ],
      "execution_count": null,
      "outputs": [
        {
          "output_type": "execute_result",
          "data": {
            "text/html": [
              "<div>\n",
              "<style scoped>\n",
              "    .dataframe tbody tr th:only-of-type {\n",
              "        vertical-align: middle;\n",
              "    }\n",
              "\n",
              "    .dataframe tbody tr th {\n",
              "        vertical-align: top;\n",
              "    }\n",
              "\n",
              "    .dataframe thead th {\n",
              "        text-align: right;\n",
              "    }\n",
              "</style>\n",
              "<table border=\"1\" class=\"dataframe\">\n",
              "  <thead>\n",
              "    <tr style=\"text-align: right;\">\n",
              "      <th></th>\n",
              "      <th>name</th>\n",
              "      <th>数学</th>\n",
              "      <th>英語</th>\n",
              "      <th>国語</th>\n",
              "    </tr>\n",
              "  </thead>\n",
              "  <tbody>\n",
              "    <tr>\n",
              "      <th>1</th>\n",
              "      <td>B</td>\n",
              "      <td>15</td>\n",
              "      <td>70</td>\n",
              "      <td>60</td>\n",
              "    </tr>\n",
              "    <tr>\n",
              "      <th>2</th>\n",
              "      <td>C</td>\n",
              "      <td>90</td>\n",
              "      <td>50</td>\n",
              "      <td>60</td>\n",
              "    </tr>\n",
              "    <tr>\n",
              "      <th>3</th>\n",
              "      <td>D</td>\n",
              "      <td>50</td>\n",
              "      <td>65</td>\n",
              "      <td>60</td>\n",
              "    </tr>\n",
              "  </tbody>\n",
              "</table>\n",
              "</div>"
            ],
            "text/plain": [
              "  name  数学  英語  国語\n",
              "1    B  15  70  60\n",
              "2    C  90  50  60\n",
              "3    D  50  65  60"
            ]
          },
          "metadata": {},
          "execution_count": 20
        }
      ]
    },
    {
      "cell_type": "markdown",
      "metadata": {
        "id": "skAKw4_NqrQ2"
      },
      "source": [
        "#### 2.7 「data変数のカラムを表示してください。」"
      ]
    },
    {
      "cell_type": "code",
      "metadata": {
        "colab": {
          "base_uri": "https://localhost:8080/"
        },
        "id": "3fU6dE5yqrQ2",
        "outputId": "82569b0f-00ad-490f-c2ac-3c4e264699d4"
      },
      "source": [
        "data.columns"
      ],
      "execution_count": null,
      "outputs": [
        {
          "output_type": "execute_result",
          "data": {
            "text/plain": [
              "Index(['name', '数学', '英語', '国語'], dtype='object')"
            ]
          },
          "metadata": {},
          "execution_count": 21
        }
      ]
    },
    {
      "cell_type": "markdown",
      "metadata": {
        "id": "6IqZ6BZSqrQ2"
      },
      "source": [
        "#### 2.8 「data変数のインデックスを表示してください。」"
      ]
    },
    {
      "cell_type": "code",
      "metadata": {
        "colab": {
          "base_uri": "https://localhost:8080/"
        },
        "id": "nr70rHkBqrQ2",
        "outputId": "fc57ec8b-bacb-4702-93e6-c0b971e63f77"
      },
      "source": [
        "data.index"
      ],
      "execution_count": null,
      "outputs": [
        {
          "output_type": "execute_result",
          "data": {
            "text/plain": [
              "RangeIndex(start=0, stop=4, step=1)"
            ]
          },
          "metadata": {},
          "execution_count": 22
        }
      ]
    },
    {
      "cell_type": "markdown",
      "metadata": {
        "id": "PiQTq1CoqrQ2"
      },
      "source": [
        "#### 2.9 「data変数の各カラムのdata型を表示してください。」"
      ]
    },
    {
      "cell_type": "code",
      "metadata": {
        "colab": {
          "base_uri": "https://localhost:8080/"
        },
        "id": "Fqhqnw2cqrQ3",
        "outputId": "17533cf9-5cf8-4bee-f268-d9a219d7e6c3"
      },
      "source": [
        "data.dtypes"
      ],
      "execution_count": null,
      "outputs": [
        {
          "output_type": "execute_result",
          "data": {
            "text/plain": [
              "name    object\n",
              "数学       int64\n",
              "英語       int64\n",
              "国語       int64\n",
              "dtype: object"
            ]
          },
          "metadata": {},
          "execution_count": 23
        }
      ]
    },
    {
      "cell_type": "markdown",
      "metadata": {
        "id": "kuGaVv8LqrQ3"
      },
      "source": [
        "#### 2.10 「data変数の各カラムのユニーク数を表示してください。」"
      ]
    },
    {
      "cell_type": "code",
      "metadata": {
        "colab": {
          "base_uri": "https://localhost:8080/"
        },
        "id": "21WfnfYxqrQ3",
        "outputId": "a164e9ea-fa95-4f67-c64b-e86e3a5e9ddb"
      },
      "source": [
        "data.nunique()"
      ],
      "execution_count": null,
      "outputs": [
        {
          "output_type": "execute_result",
          "data": {
            "text/plain": [
              "name    4\n",
              "数学      4\n",
              "英語      4\n",
              "国語      2\n",
              "dtype: int64"
            ]
          },
          "metadata": {},
          "execution_count": 24
        }
      ]
    },
    {
      "cell_type": "markdown",
      "metadata": {
        "id": "bMuYrZTeqrQ3"
      },
      "source": [
        "#### 2.11 「data変数の各インデックスのユニーク数を表示してください。」"
      ]
    },
    {
      "cell_type": "code",
      "metadata": {
        "colab": {
          "base_uri": "https://localhost:8080/"
        },
        "id": "xrtyfRu2EG3Y",
        "outputId": "e424bfaa-8273-4efd-f1d9-0ccd9398c5bb"
      },
      "source": [
        "data.nunique(axis=1)"
      ],
      "execution_count": null,
      "outputs": [
        {
          "output_type": "execute_result",
          "data": {
            "text/plain": [
              "0    3\n",
              "1    4\n",
              "2    4\n",
              "3    4\n",
              "dtype: int64"
            ]
          },
          "metadata": {},
          "execution_count": 25
        }
      ]
    },
    {
      "cell_type": "markdown",
      "metadata": {
        "id": "tLz4XVX2qrQ3"
      },
      "source": [
        "### 3.データの条件を指定する方法について学習します。（11問）"
      ]
    },
    {
      "cell_type": "markdown",
      "metadata": {
        "id": "7n-YM-tiqrQ3"
      },
      "source": [
        "#### 3.1 「data変数の上から4行目のデータを表示してください。」"
      ]
    },
    {
      "cell_type": "code",
      "metadata": {
        "colab": {
          "base_uri": "https://localhost:8080/"
        },
        "id": "WWC5lJGfqrQ3",
        "outputId": "020c2bf5-6463-468f-a2c5-b99aafdb38be"
      },
      "source": [
        "data.loc[3]"
      ],
      "execution_count": null,
      "outputs": [
        {
          "output_type": "execute_result",
          "data": {
            "text/plain": [
              "name     D\n",
              "数学      50\n",
              "英語      65\n",
              "国語      60\n",
              "Name: 3, dtype: object"
            ]
          },
          "metadata": {},
          "execution_count": 26
        }
      ]
    },
    {
      "cell_type": "markdown",
      "metadata": {
        "id": "3KoNVIytqrQ3"
      },
      "source": [
        "#### 3.2 「data変数の中で国語が70点以上の人を表示してください。」"
      ]
    },
    {
      "cell_type": "code",
      "metadata": {
        "colab": {
          "base_uri": "https://localhost:8080/",
          "height": 81
        },
        "id": "1o6sHc4TqrQ3",
        "outputId": "f6696be3-45d1-493f-b57b-95187b65be09"
      },
      "source": [
        "data[data['国語']>70]"
      ],
      "execution_count": null,
      "outputs": [
        {
          "output_type": "execute_result",
          "data": {
            "text/html": [
              "<div>\n",
              "<style scoped>\n",
              "    .dataframe tbody tr th:only-of-type {\n",
              "        vertical-align: middle;\n",
              "    }\n",
              "\n",
              "    .dataframe tbody tr th {\n",
              "        vertical-align: top;\n",
              "    }\n",
              "\n",
              "    .dataframe thead th {\n",
              "        text-align: right;\n",
              "    }\n",
              "</style>\n",
              "<table border=\"1\" class=\"dataframe\">\n",
              "  <thead>\n",
              "    <tr style=\"text-align: right;\">\n",
              "      <th></th>\n",
              "      <th>name</th>\n",
              "      <th>数学</th>\n",
              "      <th>英語</th>\n",
              "      <th>国語</th>\n",
              "    </tr>\n",
              "  </thead>\n",
              "  <tbody>\n",
              "    <tr>\n",
              "      <th>0</th>\n",
              "      <td>A</td>\n",
              "      <td>80</td>\n",
              "      <td>80</td>\n",
              "      <td>90</td>\n",
              "    </tr>\n",
              "  </tbody>\n",
              "</table>\n",
              "</div>"
            ],
            "text/plain": [
              "  name  数学  英語  国語\n",
              "0    A  80  80  90"
            ]
          },
          "metadata": {},
          "execution_count": 27
        }
      ]
    },
    {
      "cell_type": "markdown",
      "metadata": {
        "id": "FHRGjT5rqrQ3"
      },
      "source": [
        "#### 3.3 「data変数の中で数学が30点未満の人を表示してください。」"
      ]
    },
    {
      "cell_type": "code",
      "metadata": {
        "colab": {
          "base_uri": "https://localhost:8080/",
          "height": 81
        },
        "id": "Go2MaMeRqrQ4",
        "outputId": "3f3a0136-353a-482d-d6ad-9c2d0bce5495"
      },
      "source": [
        "data[data['数学']<30]"
      ],
      "execution_count": null,
      "outputs": [
        {
          "output_type": "execute_result",
          "data": {
            "text/html": [
              "<div>\n",
              "<style scoped>\n",
              "    .dataframe tbody tr th:only-of-type {\n",
              "        vertical-align: middle;\n",
              "    }\n",
              "\n",
              "    .dataframe tbody tr th {\n",
              "        vertical-align: top;\n",
              "    }\n",
              "\n",
              "    .dataframe thead th {\n",
              "        text-align: right;\n",
              "    }\n",
              "</style>\n",
              "<table border=\"1\" class=\"dataframe\">\n",
              "  <thead>\n",
              "    <tr style=\"text-align: right;\">\n",
              "      <th></th>\n",
              "      <th>name</th>\n",
              "      <th>数学</th>\n",
              "      <th>英語</th>\n",
              "      <th>国語</th>\n",
              "    </tr>\n",
              "  </thead>\n",
              "  <tbody>\n",
              "    <tr>\n",
              "      <th>1</th>\n",
              "      <td>B</td>\n",
              "      <td>15</td>\n",
              "      <td>70</td>\n",
              "      <td>60</td>\n",
              "    </tr>\n",
              "  </tbody>\n",
              "</table>\n",
              "</div>"
            ],
            "text/plain": [
              "  name  数学  英語  国語\n",
              "1    B  15  70  60"
            ]
          },
          "metadata": {},
          "execution_count": 28
        }
      ]
    },
    {
      "cell_type": "markdown",
      "metadata": {
        "id": "_HsJUt-4qrQ4"
      },
      "source": [
        "#### 3.4 「data変数の中で国語が60点ピッタリの人が何人いるか表示してください。」"
      ]
    },
    {
      "cell_type": "code",
      "metadata": {
        "colab": {
          "base_uri": "https://localhost:8080/"
        },
        "id": "R3CHUWMgqrQ4",
        "outputId": "7807ae0e-b55a-4a5a-9b38-f3f8823e9925"
      },
      "source": [
        "len(data[data['国語']==60])"
      ],
      "execution_count": null,
      "outputs": [
        {
          "output_type": "execute_result",
          "data": {
            "text/plain": [
              "3"
            ]
          },
          "metadata": {},
          "execution_count": 29
        }
      ]
    },
    {
      "cell_type": "markdown",
      "metadata": {
        "id": "Jqr10MNBqrQ4"
      },
      "source": [
        "#### 3.5 「data変数の中で数学が50点以上の人が何人いるか表示してください。」"
      ]
    },
    {
      "cell_type": "code",
      "metadata": {
        "colab": {
          "base_uri": "https://localhost:8080/"
        },
        "id": "cTCkgedbqrQ4",
        "outputId": "da15bee4-f3cb-47b9-a218-88280ff7bdf2"
      },
      "source": [
        "len(data[data['数学']>=50])"
      ],
      "execution_count": null,
      "outputs": [
        {
          "output_type": "execute_result",
          "data": {
            "text/plain": [
              "3"
            ]
          },
          "metadata": {},
          "execution_count": 30
        }
      ]
    },
    {
      "cell_type": "markdown",
      "metadata": {
        "id": "3R5WgHZ1qrQ4"
      },
      "source": [
        "#### 3.6「data変数の中で国語の点数が1番高い人を表示してください。」"
      ]
    },
    {
      "cell_type": "code",
      "metadata": {
        "colab": {
          "base_uri": "https://localhost:8080/"
        },
        "id": "CcmHErfmqrQ4",
        "outputId": "247c47f2-cb6f-438f-ee10-0accfd5ba502"
      },
      "source": [
        "data[data['国語']==data['国語'].max()][\"name\"]\n"
      ],
      "execution_count": null,
      "outputs": [
        {
          "output_type": "execute_result",
          "data": {
            "text/plain": [
              "0    A\n",
              "Name: name, dtype: object"
            ]
          },
          "metadata": {},
          "execution_count": 31
        }
      ]
    },
    {
      "cell_type": "markdown",
      "metadata": {
        "id": "iRpYDr9NqrQ4"
      },
      "source": [
        "#### 3.7 「data変数の中で全ての人の国語の点数を表示してください。」"
      ]
    },
    {
      "cell_type": "code",
      "metadata": {
        "colab": {
          "base_uri": "https://localhost:8080/"
        },
        "id": "3bFvcYxuqrQ4",
        "outputId": "9c274885-d20a-4cf0-93e8-4c8bdad9d83c"
      },
      "source": [
        "data[\"国語\"]"
      ],
      "execution_count": null,
      "outputs": [
        {
          "output_type": "execute_result",
          "data": {
            "text/plain": [
              "0    90\n",
              "1    60\n",
              "2    60\n",
              "3    60\n",
              "Name: 国語, dtype: int64"
            ]
          },
          "metadata": {},
          "execution_count": 32
        }
      ]
    },
    {
      "cell_type": "markdown",
      "metadata": {
        "id": "G_ZHrDanqrQ4"
      },
      "source": [
        "#### 3.8 「data変数の中で全ての人の国語と数学の点数を表示してください。」"
      ]
    },
    {
      "cell_type": "code",
      "metadata": {
        "colab": {
          "base_uri": "https://localhost:8080/",
          "height": 174
        },
        "id": "ug1BmqH9qrQ4",
        "outputId": "381b8aa8-36c4-4758-f459-8965e1233569"
      },
      "source": [
        "data.loc[:,[\"国語\",\"数学\"]]"
      ],
      "execution_count": null,
      "outputs": [
        {
          "output_type": "execute_result",
          "data": {
            "text/html": [
              "<div>\n",
              "<style scoped>\n",
              "    .dataframe tbody tr th:only-of-type {\n",
              "        vertical-align: middle;\n",
              "    }\n",
              "\n",
              "    .dataframe tbody tr th {\n",
              "        vertical-align: top;\n",
              "    }\n",
              "\n",
              "    .dataframe thead th {\n",
              "        text-align: right;\n",
              "    }\n",
              "</style>\n",
              "<table border=\"1\" class=\"dataframe\">\n",
              "  <thead>\n",
              "    <tr style=\"text-align: right;\">\n",
              "      <th></th>\n",
              "      <th>国語</th>\n",
              "      <th>数学</th>\n",
              "    </tr>\n",
              "  </thead>\n",
              "  <tbody>\n",
              "    <tr>\n",
              "      <th>0</th>\n",
              "      <td>90</td>\n",
              "      <td>80</td>\n",
              "    </tr>\n",
              "    <tr>\n",
              "      <th>1</th>\n",
              "      <td>60</td>\n",
              "      <td>15</td>\n",
              "    </tr>\n",
              "    <tr>\n",
              "      <th>2</th>\n",
              "      <td>60</td>\n",
              "      <td>90</td>\n",
              "    </tr>\n",
              "    <tr>\n",
              "      <th>3</th>\n",
              "      <td>60</td>\n",
              "      <td>50</td>\n",
              "    </tr>\n",
              "  </tbody>\n",
              "</table>\n",
              "</div>"
            ],
            "text/plain": [
              "   国語  数学\n",
              "0  90  80\n",
              "1  60  15\n",
              "2  60  90\n",
              "3  60  50"
            ]
          },
          "metadata": {},
          "execution_count": 33
        }
      ]
    },
    {
      "cell_type": "markdown",
      "metadata": {
        "id": "XfZg9DrwqrQ4"
      },
      "source": [
        "#### 3.9 「data変数のカラムの情報を確認してください。」"
      ]
    },
    {
      "cell_type": "code",
      "metadata": {
        "colab": {
          "base_uri": "https://localhost:8080/"
        },
        "id": "z6KYkMQqqrQ4",
        "outputId": "085e3c3b-2c34-4974-90e7-2f624f0ff067"
      },
      "source": [
        "data.info()"
      ],
      "execution_count": null,
      "outputs": [
        {
          "output_type": "stream",
          "name": "stdout",
          "text": [
            "<class 'pandas.core.frame.DataFrame'>\n",
            "RangeIndex: 4 entries, 0 to 3\n",
            "Data columns (total 4 columns):\n",
            " #   Column  Non-Null Count  Dtype \n",
            "---  ------  --------------  ----- \n",
            " 0   name    4 non-null      object\n",
            " 1   数学      4 non-null      int64 \n",
            " 2   英語      4 non-null      int64 \n",
            " 3   国語      4 non-null      int64 \n",
            "dtypes: int64(3), object(1)\n",
            "memory usage: 256.0+ bytes\n"
          ]
        }
      ]
    },
    {
      "cell_type": "markdown",
      "metadata": {
        "id": "y7pn4zWjqrQ4"
      },
      "source": [
        "#### 3.10 「data変数の中で2行目と3行目のみ表示してください。(indexは0番目が1行目であることに注意)」"
      ]
    },
    {
      "cell_type": "code",
      "metadata": {
        "colab": {
          "base_uri": "https://localhost:8080/",
          "height": 112
        },
        "id": "xgYrSc1rqrQ5",
        "outputId": "0e5dfc37-f28d-40d1-870d-042c212c2bcf"
      },
      "source": [
        "data[1:3]"
      ],
      "execution_count": null,
      "outputs": [
        {
          "output_type": "execute_result",
          "data": {
            "text/html": [
              "<div>\n",
              "<style scoped>\n",
              "    .dataframe tbody tr th:only-of-type {\n",
              "        vertical-align: middle;\n",
              "    }\n",
              "\n",
              "    .dataframe tbody tr th {\n",
              "        vertical-align: top;\n",
              "    }\n",
              "\n",
              "    .dataframe thead th {\n",
              "        text-align: right;\n",
              "    }\n",
              "</style>\n",
              "<table border=\"1\" class=\"dataframe\">\n",
              "  <thead>\n",
              "    <tr style=\"text-align: right;\">\n",
              "      <th></th>\n",
              "      <th>name</th>\n",
              "      <th>数学</th>\n",
              "      <th>英語</th>\n",
              "      <th>国語</th>\n",
              "    </tr>\n",
              "  </thead>\n",
              "  <tbody>\n",
              "    <tr>\n",
              "      <th>1</th>\n",
              "      <td>B</td>\n",
              "      <td>15</td>\n",
              "      <td>70</td>\n",
              "      <td>60</td>\n",
              "    </tr>\n",
              "    <tr>\n",
              "      <th>2</th>\n",
              "      <td>C</td>\n",
              "      <td>90</td>\n",
              "      <td>50</td>\n",
              "      <td>60</td>\n",
              "    </tr>\n",
              "  </tbody>\n",
              "</table>\n",
              "</div>"
            ],
            "text/plain": [
              "  name  数学  英語  国語\n",
              "1    B  15  70  60\n",
              "2    C  90  50  60"
            ]
          },
          "metadata": {},
          "execution_count": 35
        }
      ]
    },
    {
      "cell_type": "markdown",
      "metadata": {
        "id": "5I3Af6GfqrQ5"
      },
      "source": [
        "#### 3.11 「data変数の中で2行目と3行目且つ0列目と1列目を表示してください。(indexは0番目が1行目であることに注意)」"
      ]
    },
    {
      "cell_type": "code",
      "metadata": {
        "colab": {
          "base_uri": "https://localhost:8080/",
          "height": 112
        },
        "id": "yW0RKg7_qrQ5",
        "outputId": "1af5c72a-2fc0-49af-ca13-d1e8fe4d3c8f"
      },
      "source": [
        "data.iloc[1:3,[0,1]]"
      ],
      "execution_count": null,
      "outputs": [
        {
          "output_type": "execute_result",
          "data": {
            "text/html": [
              "<div>\n",
              "<style scoped>\n",
              "    .dataframe tbody tr th:only-of-type {\n",
              "        vertical-align: middle;\n",
              "    }\n",
              "\n",
              "    .dataframe tbody tr th {\n",
              "        vertical-align: top;\n",
              "    }\n",
              "\n",
              "    .dataframe thead th {\n",
              "        text-align: right;\n",
              "    }\n",
              "</style>\n",
              "<table border=\"1\" class=\"dataframe\">\n",
              "  <thead>\n",
              "    <tr style=\"text-align: right;\">\n",
              "      <th></th>\n",
              "      <th>name</th>\n",
              "      <th>数学</th>\n",
              "    </tr>\n",
              "  </thead>\n",
              "  <tbody>\n",
              "    <tr>\n",
              "      <th>1</th>\n",
              "      <td>B</td>\n",
              "      <td>15</td>\n",
              "    </tr>\n",
              "    <tr>\n",
              "      <th>2</th>\n",
              "      <td>C</td>\n",
              "      <td>90</td>\n",
              "    </tr>\n",
              "  </tbody>\n",
              "</table>\n",
              "</div>"
            ],
            "text/plain": [
              "  name  数学\n",
              "1    B  15\n",
              "2    C  90"
            ]
          },
          "metadata": {},
          "execution_count": 36
        }
      ]
    },
    {
      "cell_type": "markdown",
      "metadata": {
        "id": "aoA6iqTQqrQ5"
      },
      "source": [
        "### 4. データの集計方法について学習します。（7問）"
      ]
    },
    {
      "cell_type": "markdown",
      "metadata": {
        "id": "Qu59wBB_qrQ5"
      },
      "source": [
        "#### 4.1 「dataの下にe_dataを連結させて下さい。dataの中身を確認してください。」"
      ]
    },
    {
      "cell_type": "code",
      "metadata": {
        "colab": {
          "base_uri": "https://localhost:8080/",
          "height": 268
        },
        "id": "liW1AtDu-Hi0",
        "outputId": "8a3e2ea8-1350-4875-985f-a35e90d75acc"
      },
      "source": [
        "data=pd.concat([data,e_data],axis=0)\n",
        "data"
      ],
      "execution_count": null,
      "outputs": [
        {
          "output_type": "execute_result",
          "data": {
            "text/html": [
              "<div>\n",
              "<style scoped>\n",
              "    .dataframe tbody tr th:only-of-type {\n",
              "        vertical-align: middle;\n",
              "    }\n",
              "\n",
              "    .dataframe tbody tr th {\n",
              "        vertical-align: top;\n",
              "    }\n",
              "\n",
              "    .dataframe thead th {\n",
              "        text-align: right;\n",
              "    }\n",
              "</style>\n",
              "<table border=\"1\" class=\"dataframe\">\n",
              "  <thead>\n",
              "    <tr style=\"text-align: right;\">\n",
              "      <th></th>\n",
              "      <th>name</th>\n",
              "      <th>数学</th>\n",
              "      <th>英語</th>\n",
              "      <th>国語</th>\n",
              "    </tr>\n",
              "  </thead>\n",
              "  <tbody>\n",
              "    <tr>\n",
              "      <th>0</th>\n",
              "      <td>A</td>\n",
              "      <td>80</td>\n",
              "      <td>80</td>\n",
              "      <td>90</td>\n",
              "    </tr>\n",
              "    <tr>\n",
              "      <th>1</th>\n",
              "      <td>B</td>\n",
              "      <td>15</td>\n",
              "      <td>70</td>\n",
              "      <td>60</td>\n",
              "    </tr>\n",
              "    <tr>\n",
              "      <th>2</th>\n",
              "      <td>C</td>\n",
              "      <td>90</td>\n",
              "      <td>50</td>\n",
              "      <td>60</td>\n",
              "    </tr>\n",
              "    <tr>\n",
              "      <th>3</th>\n",
              "      <td>D</td>\n",
              "      <td>50</td>\n",
              "      <td>65</td>\n",
              "      <td>60</td>\n",
              "    </tr>\n",
              "    <tr>\n",
              "      <th>4</th>\n",
              "      <td>E</td>\n",
              "      <td>30</td>\n",
              "      <td>30</td>\n",
              "      <td>30</td>\n",
              "    </tr>\n",
              "    <tr>\n",
              "      <th>5</th>\n",
              "      <td>E</td>\n",
              "      <td>30</td>\n",
              "      <td>30</td>\n",
              "      <td>30</td>\n",
              "    </tr>\n",
              "    <tr>\n",
              "      <th>0</th>\n",
              "      <td>E</td>\n",
              "      <td>30</td>\n",
              "      <td>30</td>\n",
              "      <td>30</td>\n",
              "    </tr>\n",
              "  </tbody>\n",
              "</table>\n",
              "</div>"
            ],
            "text/plain": [
              "  name  数学  英語  国語\n",
              "0    A  80  80  90\n",
              "1    B  15  70  60\n",
              "2    C  90  50  60\n",
              "3    D  50  65  60\n",
              "4    E  30  30  30\n",
              "5    E  30  30  30\n",
              "0    E  30  30  30"
            ]
          },
          "metadata": {},
          "execution_count": 54
        }
      ]
    },
    {
      "cell_type": "markdown",
      "metadata": {
        "id": "AWj19dV9qrQ5"
      },
      "source": [
        "#### 4.2 「dataのindexを振り直してください。」"
      ]
    },
    {
      "cell_type": "code",
      "metadata": {
        "colab": {
          "base_uri": "https://localhost:8080/",
          "height": 268
        },
        "id": "GzlyYdTjqrQ5",
        "outputId": "eb26cd1c-4f7f-47d0-a747-e31e9bed08b6"
      },
      "source": [
        "data.reset_index(inplace=True, drop=True)\n",
        "data"
      ],
      "execution_count": null,
      "outputs": [
        {
          "output_type": "execute_result",
          "data": {
            "text/html": [
              "<div>\n",
              "<style scoped>\n",
              "    .dataframe tbody tr th:only-of-type {\n",
              "        vertical-align: middle;\n",
              "    }\n",
              "\n",
              "    .dataframe tbody tr th {\n",
              "        vertical-align: top;\n",
              "    }\n",
              "\n",
              "    .dataframe thead th {\n",
              "        text-align: right;\n",
              "    }\n",
              "</style>\n",
              "<table border=\"1\" class=\"dataframe\">\n",
              "  <thead>\n",
              "    <tr style=\"text-align: right;\">\n",
              "      <th></th>\n",
              "      <th>name</th>\n",
              "      <th>数学</th>\n",
              "      <th>英語</th>\n",
              "      <th>国語</th>\n",
              "    </tr>\n",
              "  </thead>\n",
              "  <tbody>\n",
              "    <tr>\n",
              "      <th>0</th>\n",
              "      <td>A</td>\n",
              "      <td>80</td>\n",
              "      <td>80</td>\n",
              "      <td>90</td>\n",
              "    </tr>\n",
              "    <tr>\n",
              "      <th>1</th>\n",
              "      <td>B</td>\n",
              "      <td>15</td>\n",
              "      <td>70</td>\n",
              "      <td>60</td>\n",
              "    </tr>\n",
              "    <tr>\n",
              "      <th>2</th>\n",
              "      <td>C</td>\n",
              "      <td>90</td>\n",
              "      <td>50</td>\n",
              "      <td>60</td>\n",
              "    </tr>\n",
              "    <tr>\n",
              "      <th>3</th>\n",
              "      <td>D</td>\n",
              "      <td>50</td>\n",
              "      <td>65</td>\n",
              "      <td>60</td>\n",
              "    </tr>\n",
              "    <tr>\n",
              "      <th>4</th>\n",
              "      <td>E</td>\n",
              "      <td>30</td>\n",
              "      <td>30</td>\n",
              "      <td>30</td>\n",
              "    </tr>\n",
              "    <tr>\n",
              "      <th>5</th>\n",
              "      <td>E</td>\n",
              "      <td>30</td>\n",
              "      <td>30</td>\n",
              "      <td>30</td>\n",
              "    </tr>\n",
              "    <tr>\n",
              "      <th>6</th>\n",
              "      <td>E</td>\n",
              "      <td>30</td>\n",
              "      <td>30</td>\n",
              "      <td>30</td>\n",
              "    </tr>\n",
              "  </tbody>\n",
              "</table>\n",
              "</div>"
            ],
            "text/plain": [
              "  name  数学  英語  国語\n",
              "0    A  80  80  90\n",
              "1    B  15  70  60\n",
              "2    C  90  50  60\n",
              "3    D  50  65  60\n",
              "4    E  30  30  30\n",
              "5    E  30  30  30\n",
              "6    E  30  30  30"
            ]
          },
          "metadata": {},
          "execution_count": 55
        }
      ]
    },
    {
      "cell_type": "markdown",
      "metadata": {
        "id": "Sc8T65iHqrQ5"
      },
      "source": [
        "#### 4.3 「dataの各カラムの合計値を表示して下さい。」"
      ]
    },
    {
      "cell_type": "code",
      "metadata": {
        "colab": {
          "base_uri": "https://localhost:8080/"
        },
        "id": "2GkxBVPQqrQ5",
        "outputId": "733da261-0490-4817-e312-83798165f33e"
      },
      "source": [
        "data.sum()"
      ],
      "execution_count": null,
      "outputs": [
        {
          "output_type": "execute_result",
          "data": {
            "text/plain": [
              "name    ABCDEE\n",
              "数学         295\n",
              "英語         325\n",
              "国語         330\n",
              "dtype: object"
            ]
          },
          "metadata": {},
          "execution_count": 48
        }
      ]
    },
    {
      "cell_type": "markdown",
      "metadata": {
        "id": "T-L3sLmXqrQ5"
      },
      "source": [
        "#### 4.4 「dataの各行の合計値を表示して下さい。」"
      ]
    },
    {
      "cell_type": "code",
      "metadata": {
        "colab": {
          "base_uri": "https://localhost:8080/"
        },
        "id": "oPyhUBLlqrQ5",
        "outputId": "c6e7e1c1-dec6-4fec-c574-f96be23484b6"
      },
      "source": [
        "data.sum(axis=1)"
      ],
      "execution_count": null,
      "outputs": [
        {
          "output_type": "execute_result",
          "data": {
            "text/plain": [
              "0    250\n",
              "1    145\n",
              "2    200\n",
              "3    175\n",
              "4     90\n",
              "5     90\n",
              "6     90\n",
              "dtype: int64"
            ]
          },
          "metadata": {},
          "execution_count": 56
        }
      ]
    },
    {
      "cell_type": "markdown",
      "metadata": {
        "id": "qwShzY5pqrQ5"
      },
      "source": [
        "#### 4.5 「dataの各行の平均値を表示して下さい。」"
      ]
    },
    {
      "cell_type": "code",
      "metadata": {
        "colab": {
          "base_uri": "https://localhost:8080/"
        },
        "id": "1xtpoU6aqrQ5",
        "outputId": "01d9a2a6-d359-4930-850e-dc271a5bc49b"
      },
      "source": [
        "data.mean(axis=1)"
      ],
      "execution_count": null,
      "outputs": [
        {
          "output_type": "execute_result",
          "data": {
            "text/plain": [
              "0    83.333333\n",
              "1    48.333333\n",
              "2    66.666667\n",
              "3    58.333333\n",
              "4    30.000000\n",
              "dtype: float64"
            ]
          },
          "metadata": {},
          "execution_count": 41
        }
      ]
    },
    {
      "cell_type": "markdown",
      "metadata": {
        "id": "DC97j3okqrQ5"
      },
      "source": [
        "#### 4.6 「data変数のカラムの統計量を算出してください。（小数点第1桁まで）」"
      ]
    },
    {
      "cell_type": "code",
      "metadata": {
        "colab": {
          "base_uri": "https://localhost:8080/",
          "height": 300
        },
        "id": "xmgmmjnXqrQ5",
        "outputId": "c3cd8855-5e3d-424c-ca00-391b1aca9e43"
      },
      "source": [
        "data.describe()\n"
      ],
      "execution_count": null,
      "outputs": [
        {
          "output_type": "execute_result",
          "data": {
            "text/html": [
              "<div>\n",
              "<style scoped>\n",
              "    .dataframe tbody tr th:only-of-type {\n",
              "        vertical-align: middle;\n",
              "    }\n",
              "\n",
              "    .dataframe tbody tr th {\n",
              "        vertical-align: top;\n",
              "    }\n",
              "\n",
              "    .dataframe thead th {\n",
              "        text-align: right;\n",
              "    }\n",
              "</style>\n",
              "<table border=\"1\" class=\"dataframe\">\n",
              "  <thead>\n",
              "    <tr style=\"text-align: right;\">\n",
              "      <th></th>\n",
              "      <th>数学</th>\n",
              "      <th>英語</th>\n",
              "      <th>国語</th>\n",
              "    </tr>\n",
              "  </thead>\n",
              "  <tbody>\n",
              "    <tr>\n",
              "      <th>count</th>\n",
              "      <td>5.000000</td>\n",
              "      <td>5.000000</td>\n",
              "      <td>5.000000</td>\n",
              "    </tr>\n",
              "    <tr>\n",
              "      <th>mean</th>\n",
              "      <td>53.000000</td>\n",
              "      <td>59.000000</td>\n",
              "      <td>60.000000</td>\n",
              "    </tr>\n",
              "    <tr>\n",
              "      <th>std</th>\n",
              "      <td>31.937439</td>\n",
              "      <td>19.493589</td>\n",
              "      <td>21.213203</td>\n",
              "    </tr>\n",
              "    <tr>\n",
              "      <th>min</th>\n",
              "      <td>15.000000</td>\n",
              "      <td>30.000000</td>\n",
              "      <td>30.000000</td>\n",
              "    </tr>\n",
              "    <tr>\n",
              "      <th>25%</th>\n",
              "      <td>30.000000</td>\n",
              "      <td>50.000000</td>\n",
              "      <td>60.000000</td>\n",
              "    </tr>\n",
              "    <tr>\n",
              "      <th>50%</th>\n",
              "      <td>50.000000</td>\n",
              "      <td>65.000000</td>\n",
              "      <td>60.000000</td>\n",
              "    </tr>\n",
              "    <tr>\n",
              "      <th>75%</th>\n",
              "      <td>80.000000</td>\n",
              "      <td>70.000000</td>\n",
              "      <td>60.000000</td>\n",
              "    </tr>\n",
              "    <tr>\n",
              "      <th>max</th>\n",
              "      <td>90.000000</td>\n",
              "      <td>80.000000</td>\n",
              "      <td>90.000000</td>\n",
              "    </tr>\n",
              "  </tbody>\n",
              "</table>\n",
              "</div>"
            ],
            "text/plain": [
              "              数学         英語         国語\n",
              "count   5.000000   5.000000   5.000000\n",
              "mean   53.000000  59.000000  60.000000\n",
              "std    31.937439  19.493589  21.213203\n",
              "min    15.000000  30.000000  30.000000\n",
              "25%    30.000000  50.000000  60.000000\n",
              "50%    50.000000  65.000000  60.000000\n",
              "75%    80.000000  70.000000  60.000000\n",
              "max    90.000000  80.000000  90.000000"
            ]
          },
          "metadata": {},
          "execution_count": 42
        }
      ]
    },
    {
      "cell_type": "markdown",
      "metadata": {
        "id": "4UlmsUvkqrQ5"
      },
      "source": [
        "#### 4.7 「data変数の中の各カラムの相関係数を算出してください。」"
      ]
    },
    {
      "cell_type": "code",
      "metadata": {
        "colab": {
          "base_uri": "https://localhost:8080/",
          "height": 143
        },
        "id": "C5b2TXDLqrQ6",
        "outputId": "4c1b603b-9c74-4c87-d4d5-9e4cb7ad10cc"
      },
      "source": [
        "data.corr()"
      ],
      "execution_count": null,
      "outputs": [
        {
          "output_type": "execute_result",
          "data": {
            "text/html": [
              "<div>\n",
              "<style scoped>\n",
              "    .dataframe tbody tr th:only-of-type {\n",
              "        vertical-align: middle;\n",
              "    }\n",
              "\n",
              "    .dataframe tbody tr th {\n",
              "        vertical-align: top;\n",
              "    }\n",
              "\n",
              "    .dataframe thead th {\n",
              "        text-align: right;\n",
              "    }\n",
              "</style>\n",
              "<table border=\"1\" class=\"dataframe\">\n",
              "  <thead>\n",
              "    <tr style=\"text-align: right;\">\n",
              "      <th></th>\n",
              "      <th>数学</th>\n",
              "      <th>英語</th>\n",
              "      <th>国語</th>\n",
              "    </tr>\n",
              "  </thead>\n",
              "  <tbody>\n",
              "    <tr>\n",
              "      <th>数学</th>\n",
              "      <td>1.000000</td>\n",
              "      <td>0.186724</td>\n",
              "      <td>0.553509</td>\n",
              "    </tr>\n",
              "    <tr>\n",
              "      <th>英語</th>\n",
              "      <td>0.186724</td>\n",
              "      <td>1.000000</td>\n",
              "      <td>0.906845</td>\n",
              "    </tr>\n",
              "    <tr>\n",
              "      <th>国語</th>\n",
              "      <td>0.553509</td>\n",
              "      <td>0.906845</td>\n",
              "      <td>1.000000</td>\n",
              "    </tr>\n",
              "  </tbody>\n",
              "</table>\n",
              "</div>"
            ],
            "text/plain": [
              "          数学        英語        国語\n",
              "数学  1.000000  0.186724  0.553509\n",
              "英語  0.186724  1.000000  0.906845\n",
              "国語  0.553509  0.906845  1.000000"
            ]
          },
          "metadata": {},
          "execution_count": 43
        }
      ]
    },
    {
      "cell_type": "markdown",
      "metadata": {
        "id": "GW6ZBbGxqrQ6"
      },
      "source": [
        "### 5. データの整形方法について学習します。（13問）"
      ]
    },
    {
      "cell_type": "markdown",
      "metadata": {
        "id": "RVjSwo9TqrQ6"
      },
      "source": [
        "#### 5.1 「data変数の数学カラムのユニーク値を表示してください。」"
      ]
    },
    {
      "cell_type": "code",
      "metadata": {
        "id": "mOK2adOqqrQ6",
        "colab": {
          "base_uri": "https://localhost:8080/"
        },
        "outputId": "d06badfd-7d1b-4266-b87f-9fe1858fb3cb"
      },
      "source": [
        "data['数学'].unique()"
      ],
      "execution_count": null,
      "outputs": [
        {
          "output_type": "execute_result",
          "data": {
            "text/plain": [
              "array([80, 15, 90, 50, 30])"
            ]
          },
          "metadata": {},
          "execution_count": 49
        }
      ]
    },
    {
      "cell_type": "markdown",
      "metadata": {
        "id": "4BHshPlsqrQ6"
      },
      "source": [
        "#### 5.2 「data変数の中で数学カラムの中に重複がないことを確認してください。（等式を作成してください。）」"
      ]
    },
    {
      "cell_type": "code",
      "metadata": {
        "id": "u_lNHodWqrQ6",
        "colab": {
          "base_uri": "https://localhost:8080/"
        },
        "outputId": "7525d7d5-a411-419c-cf83-75d2bcb4e269"
      },
      "source": [
        "len(data)==len(data[\"数学\"].unique())"
      ],
      "execution_count": null,
      "outputs": [
        {
          "output_type": "execute_result",
          "data": {
            "text/plain": [
              "False"
            ]
          },
          "metadata": {},
          "execution_count": 53
        }
      ]
    },
    {
      "cell_type": "markdown",
      "metadata": {
        "id": "WbVLkqqdqrQ6"
      },
      "source": [
        "#### 5.3 「data変数の中で国語カラムの中に重複があることを確認してください。（等式を作成してください。）」"
      ]
    },
    {
      "cell_type": "code",
      "metadata": {
        "id": "RCHuiFQlqrQ6",
        "colab": {
          "base_uri": "https://localhost:8080/"
        },
        "outputId": "d8ab8c02-a2e1-40c2-d764-742f2a79bd81"
      },
      "source": [
        "len(data)==len(data[\"国語\"].unique())"
      ],
      "execution_count": null,
      "outputs": [
        {
          "output_type": "execute_result",
          "data": {
            "text/plain": [
              "False"
            ]
          },
          "metadata": {},
          "execution_count": 63
        }
      ]
    },
    {
      "cell_type": "markdown",
      "metadata": {
        "id": "gfN2oHYgqrQ6"
      },
      "source": [
        "#### 5.4 「data変数の中で国語の点数が60点の人が3人います。重複レコードを削除してください。」"
      ]
    },
    {
      "cell_type": "code",
      "metadata": {
        "id": "lJMLm_dcqrQ6",
        "colab": {
          "base_uri": "https://localhost:8080/",
          "height": 143
        },
        "outputId": "2eb0cbe5-b4ec-4e55-de6a-1e8aa1ddf025"
      },
      "source": [
        "data[~data[\"国語\"].duplicated()]"
      ],
      "execution_count": null,
      "outputs": [
        {
          "output_type": "execute_result",
          "data": {
            "text/html": [
              "<div>\n",
              "<style scoped>\n",
              "    .dataframe tbody tr th:only-of-type {\n",
              "        vertical-align: middle;\n",
              "    }\n",
              "\n",
              "    .dataframe tbody tr th {\n",
              "        vertical-align: top;\n",
              "    }\n",
              "\n",
              "    .dataframe thead th {\n",
              "        text-align: right;\n",
              "    }\n",
              "</style>\n",
              "<table border=\"1\" class=\"dataframe\">\n",
              "  <thead>\n",
              "    <tr style=\"text-align: right;\">\n",
              "      <th></th>\n",
              "      <th>name</th>\n",
              "      <th>数学</th>\n",
              "      <th>英語</th>\n",
              "      <th>国語</th>\n",
              "    </tr>\n",
              "  </thead>\n",
              "  <tbody>\n",
              "    <tr>\n",
              "      <th>0</th>\n",
              "      <td>A</td>\n",
              "      <td>80</td>\n",
              "      <td>80</td>\n",
              "      <td>90</td>\n",
              "    </tr>\n",
              "    <tr>\n",
              "      <th>1</th>\n",
              "      <td>B</td>\n",
              "      <td>15</td>\n",
              "      <td>70</td>\n",
              "      <td>60</td>\n",
              "    </tr>\n",
              "    <tr>\n",
              "      <th>4</th>\n",
              "      <td>E</td>\n",
              "      <td>30</td>\n",
              "      <td>30</td>\n",
              "      <td>30</td>\n",
              "    </tr>\n",
              "  </tbody>\n",
              "</table>\n",
              "</div>"
            ],
            "text/plain": [
              "  name  数学  英語  国語\n",
              "0    A  80  80  90\n",
              "1    B  15  70  60\n",
              "4    E  30  30  30"
            ]
          },
          "metadata": {},
          "execution_count": 73
        }
      ]
    },
    {
      "cell_type": "markdown",
      "metadata": {
        "id": "eTdOo7O4qrQ6"
      },
      "source": [
        "#### 5.5 「data_2を表示して下さい。」"
      ]
    },
    {
      "cell_type": "code",
      "metadata": {
        "colab": {
          "base_uri": "https://localhost:8080/",
          "height": 206
        },
        "id": "uLheZl-RA-md",
        "outputId": "bb0fea75-e189-4a6d-95f2-ace1a2c2ae2d"
      },
      "source": [
        "data_2"
      ],
      "execution_count": null,
      "outputs": [
        {
          "output_type": "execute_result",
          "data": {
            "text/html": [
              "<div>\n",
              "<style scoped>\n",
              "    .dataframe tbody tr th:only-of-type {\n",
              "        vertical-align: middle;\n",
              "    }\n",
              "\n",
              "    .dataframe tbody tr th {\n",
              "        vertical-align: top;\n",
              "    }\n",
              "\n",
              "    .dataframe thead th {\n",
              "        text-align: right;\n",
              "    }\n",
              "</style>\n",
              "<table border=\"1\" class=\"dataframe\">\n",
              "  <thead>\n",
              "    <tr style=\"text-align: right;\">\n",
              "      <th></th>\n",
              "      <th>name</th>\n",
              "      <th>国語-数学</th>\n",
              "      <th>英語</th>\n",
              "    </tr>\n",
              "  </thead>\n",
              "  <tbody>\n",
              "    <tr>\n",
              "      <th>0</th>\n",
              "      <td>A</td>\n",
              "      <td>30:20</td>\n",
              "      <td>80.2</td>\n",
              "    </tr>\n",
              "    <tr>\n",
              "      <th>1</th>\n",
              "      <td>B</td>\n",
              "      <td>NaN</td>\n",
              "      <td>60.5</td>\n",
              "    </tr>\n",
              "    <tr>\n",
              "      <th>2</th>\n",
              "      <td>C</td>\n",
              "      <td>90:50</td>\n",
              "      <td>34,2</td>\n",
              "    </tr>\n",
              "    <tr>\n",
              "      <th>3</th>\n",
              "      <td>D</td>\n",
              "      <td>50:30</td>\n",
              "      <td>0</td>\n",
              "    </tr>\n",
              "    <tr>\n",
              "      <th>4</th>\n",
              "      <td>D</td>\n",
              "      <td>50:30</td>\n",
              "      <td>0</td>\n",
              "    </tr>\n",
              "  </tbody>\n",
              "</table>\n",
              "</div>"
            ],
            "text/plain": [
              "  name  国語-数学    英語\n",
              "0    A  30:20  80.2\n",
              "1    B    NaN  60.5\n",
              "2    C  90:50  34,2\n",
              "3    D  50:30     0\n",
              "4    D  50:30     0"
            ]
          },
          "metadata": {},
          "execution_count": 69
        }
      ]
    },
    {
      "cell_type": "markdown",
      "metadata": {
        "id": "tqVeUXLcqrQ6"
      },
      "source": [
        "#### 5.6 「名前の行に重複が見られます。その行を削除してください。」"
      ]
    },
    {
      "cell_type": "code",
      "metadata": {
        "id": "xNmecF6_qrQ6",
        "colab": {
          "base_uri": "https://localhost:8080/",
          "height": 174
        },
        "outputId": "8cf68042-3d0c-4581-d18e-f19872d0fa8b"
      },
      "source": [
        "data_2.drop_duplicates(subset='name',inplace=True)\n",
        "data_2"
      ],
      "execution_count": null,
      "outputs": [
        {
          "output_type": "execute_result",
          "data": {
            "text/html": [
              "<div>\n",
              "<style scoped>\n",
              "    .dataframe tbody tr th:only-of-type {\n",
              "        vertical-align: middle;\n",
              "    }\n",
              "\n",
              "    .dataframe tbody tr th {\n",
              "        vertical-align: top;\n",
              "    }\n",
              "\n",
              "    .dataframe thead th {\n",
              "        text-align: right;\n",
              "    }\n",
              "</style>\n",
              "<table border=\"1\" class=\"dataframe\">\n",
              "  <thead>\n",
              "    <tr style=\"text-align: right;\">\n",
              "      <th></th>\n",
              "      <th>name</th>\n",
              "      <th>国語-数学</th>\n",
              "      <th>英語</th>\n",
              "    </tr>\n",
              "  </thead>\n",
              "  <tbody>\n",
              "    <tr>\n",
              "      <th>0</th>\n",
              "      <td>A</td>\n",
              "      <td>30:20</td>\n",
              "      <td>80.2</td>\n",
              "    </tr>\n",
              "    <tr>\n",
              "      <th>1</th>\n",
              "      <td>B</td>\n",
              "      <td>NaN</td>\n",
              "      <td>60.5</td>\n",
              "    </tr>\n",
              "    <tr>\n",
              "      <th>2</th>\n",
              "      <td>C</td>\n",
              "      <td>90:50</td>\n",
              "      <td>34,2</td>\n",
              "    </tr>\n",
              "    <tr>\n",
              "      <th>3</th>\n",
              "      <td>D</td>\n",
              "      <td>50:30</td>\n",
              "      <td>0</td>\n",
              "    </tr>\n",
              "  </tbody>\n",
              "</table>\n",
              "</div>"
            ],
            "text/plain": [
              "  name  国語-数学    英語\n",
              "0    A  30:20  80.2\n",
              "1    B    NaN  60.5\n",
              "2    C  90:50  34,2\n",
              "3    D  50:30     0"
            ]
          },
          "metadata": {},
          "execution_count": 82
        }
      ]
    },
    {
      "cell_type": "markdown",
      "metadata": {
        "id": "SEEJBcjyqrQ6"
      },
      "source": [
        "#### 5.7 「国語-数学の列を国語と数学に分けた列を作成してください。」"
      ]
    },
    {
      "cell_type": "code",
      "metadata": {
        "id": "4hmV-QTdqrQ6"
      },
      "source": [
        ""
      ],
      "execution_count": null,
      "outputs": []
    },
    {
      "cell_type": "markdown",
      "metadata": {
        "id": "InrvlIvXqrQ6"
      },
      "source": [
        "#### 5.8 「name、英語、国語、数学以外の列を削除してください。」"
      ]
    },
    {
      "cell_type": "code",
      "metadata": {
        "id": "879K3m4bqrQ6"
      },
      "source": [
        ""
      ],
      "execution_count": null,
      "outputs": []
    },
    {
      "cell_type": "markdown",
      "metadata": {
        "id": "PtHGgx9MqrQ7"
      },
      "source": [
        "#### 5.9 「Cの英語の点数にカンマが入っています。小数点になおしてください。」"
      ]
    },
    {
      "cell_type": "code",
      "metadata": {
        "id": "sqyCWRrCqrQ7"
      },
      "source": [
        ""
      ],
      "execution_count": null,
      "outputs": []
    },
    {
      "cell_type": "markdown",
      "metadata": {
        "id": "nx_-uuoLqrQ7"
      },
      "source": [
        "#### 5.10 「data_2の各列の型(クラス、数字や文字列などの情報)を表示して下さい。」"
      ]
    },
    {
      "cell_type": "code",
      "metadata": {
        "id": "xVePru17qrQ7"
      },
      "source": [
        ""
      ],
      "execution_count": null,
      "outputs": []
    },
    {
      "cell_type": "markdown",
      "metadata": {
        "id": "o6V84oP3qrQ7"
      },
      "source": [
        "#### 5.11 「英語、国語、数学を数値型に変更し、データ型が変換されたことを確認してください。」"
      ]
    },
    {
      "cell_type": "code",
      "metadata": {
        "id": "82VMQVKCqrQ7"
      },
      "source": [
        ""
      ],
      "execution_count": null,
      "outputs": []
    },
    {
      "cell_type": "markdown",
      "metadata": {
        "id": "f9h-PIEIqrQ7"
      },
      "source": [
        "#### 5.12 「欠損値がある行を表示して下さい。」"
      ]
    },
    {
      "cell_type": "code",
      "metadata": {
        "id": "DyhmK7cQqrQ7"
      },
      "source": [
        ""
      ],
      "execution_count": null,
      "outputs": []
    },
    {
      "cell_type": "markdown",
      "metadata": {
        "id": "zfGzd7g0qrQ7"
      },
      "source": [
        "#### 5.13 「欠損をもつ行を取り除いて下さい。」"
      ]
    },
    {
      "cell_type": "code",
      "metadata": {
        "id": "E1jycSoXqrQ7"
      },
      "source": [
        ""
      ],
      "execution_count": null,
      "outputs": []
    },
    {
      "cell_type": "markdown",
      "metadata": {
        "id": "p8gioHBaqrQ7"
      },
      "source": [
        "### 6.文字列の処理（6問）"
      ]
    },
    {
      "cell_type": "markdown",
      "metadata": {
        "id": "kLNRDY59qrQ7"
      },
      "source": [
        "#### 6.1 「data_3を確認して下さい。」"
      ]
    },
    {
      "cell_type": "code",
      "metadata": {
        "colab": {
          "base_uri": "https://localhost:8080/",
          "height": 174
        },
        "id": "s6U_f6jhqrQ7",
        "outputId": "07a43946-0771-4f4f-873e-192ac957f5d8"
      },
      "source": [
        "data_3"
      ],
      "execution_count": null,
      "outputs": [
        {
          "output_type": "execute_result",
          "data": {
            "text/html": [
              "<div>\n",
              "<style scoped>\n",
              "    .dataframe tbody tr th:only-of-type {\n",
              "        vertical-align: middle;\n",
              "    }\n",
              "\n",
              "    .dataframe tbody tr th {\n",
              "        vertical-align: top;\n",
              "    }\n",
              "\n",
              "    .dataframe thead th {\n",
              "        text-align: right;\n",
              "    }\n",
              "</style>\n",
              "<table border=\"1\" class=\"dataframe\">\n",
              "  <thead>\n",
              "    <tr style=\"text-align: right;\">\n",
              "      <th></th>\n",
              "      <th>name</th>\n",
              "      <th>性別</th>\n",
              "      <th>経歴</th>\n",
              "      <th>特技</th>\n",
              "    </tr>\n",
              "  </thead>\n",
              "  <tbody>\n",
              "    <tr>\n",
              "      <th>0</th>\n",
              "      <td>A</td>\n",
              "      <td>男性</td>\n",
              "      <td>学部卒</td>\n",
              "      <td>ボーリング</td>\n",
              "    </tr>\n",
              "    <tr>\n",
              "      <th>1</th>\n",
              "      <td>B</td>\n",
              "      <td>男性</td>\n",
              "      <td>修士卒</td>\n",
              "      <td>野球</td>\n",
              "    </tr>\n",
              "    <tr>\n",
              "      <th>2</th>\n",
              "      <td>C</td>\n",
              "      <td>女性</td>\n",
              "      <td>学部卒</td>\n",
              "      <td>サッカー</td>\n",
              "    </tr>\n",
              "    <tr>\n",
              "      <th>3</th>\n",
              "      <td>D</td>\n",
              "      <td>男性</td>\n",
              "      <td>博士卒</td>\n",
              "      <td>野球をやっていた</td>\n",
              "    </tr>\n",
              "  </tbody>\n",
              "</table>\n",
              "</div>"
            ],
            "text/plain": [
              "  name  性別   経歴        特技\n",
              "0    A  男性  学部卒     ボーリング\n",
              "1    B  男性  修士卒        野球\n",
              "2    C  女性  学部卒      サッカー\n",
              "3    D  男性  博士卒  野球をやっていた"
            ]
          },
          "metadata": {},
          "execution_count": 106
        }
      ]
    },
    {
      "cell_type": "markdown",
      "metadata": {
        "id": "Xqy6ra2rqrQ7"
      },
      "source": [
        "#### 6.2 「経歴が、'学部卒'で終わる行を表示して下さい。」"
      ]
    },
    {
      "cell_type": "code",
      "metadata": {
        "colab": {
          "base_uri": "https://localhost:8080/",
          "height": 112
        },
        "id": "iRTacqyuqrQ7",
        "outputId": "0506ab57-6b61-40bd-ee79-2289239d7c6b"
      },
      "source": [
        "data_3[data_3['経歴'].str.endswith(\"学部卒\")]"
      ],
      "execution_count": null,
      "outputs": [
        {
          "output_type": "execute_result",
          "data": {
            "text/html": [
              "<div>\n",
              "<style scoped>\n",
              "    .dataframe tbody tr th:only-of-type {\n",
              "        vertical-align: middle;\n",
              "    }\n",
              "\n",
              "    .dataframe tbody tr th {\n",
              "        vertical-align: top;\n",
              "    }\n",
              "\n",
              "    .dataframe thead th {\n",
              "        text-align: right;\n",
              "    }\n",
              "</style>\n",
              "<table border=\"1\" class=\"dataframe\">\n",
              "  <thead>\n",
              "    <tr style=\"text-align: right;\">\n",
              "      <th></th>\n",
              "      <th>name</th>\n",
              "      <th>性別</th>\n",
              "      <th>経歴</th>\n",
              "      <th>特技</th>\n",
              "    </tr>\n",
              "  </thead>\n",
              "  <tbody>\n",
              "    <tr>\n",
              "      <th>0</th>\n",
              "      <td>A</td>\n",
              "      <td>男性</td>\n",
              "      <td>学部卒</td>\n",
              "      <td>ボーリング</td>\n",
              "    </tr>\n",
              "    <tr>\n",
              "      <th>2</th>\n",
              "      <td>C</td>\n",
              "      <td>女性</td>\n",
              "      <td>学部卒</td>\n",
              "      <td>サッカー</td>\n",
              "    </tr>\n",
              "  </tbody>\n",
              "</table>\n",
              "</div>"
            ],
            "text/plain": [
              "  name  性別   経歴     特技\n",
              "0    A  男性  学部卒  ボーリング\n",
              "2    C  女性  学部卒   サッカー"
            ]
          },
          "metadata": {},
          "execution_count": 107
        }
      ]
    },
    {
      "cell_type": "markdown",
      "metadata": {
        "id": "ApfqnHQAqrQ7"
      },
      "source": [
        "#### 6.3 「性別が、'女'から始まる行を表示して下さい。」"
      ]
    },
    {
      "cell_type": "code",
      "metadata": {
        "id": "g4btud3wqrQ8",
        "colab": {
          "base_uri": "https://localhost:8080/",
          "height": 81
        },
        "outputId": "988e9543-7f0c-48c7-e8a9-49cb73d4bab4"
      },
      "source": [
        "data_3[data_3[\"性別\"].str.startswith(\"女\")]"
      ],
      "execution_count": null,
      "outputs": [
        {
          "output_type": "execute_result",
          "data": {
            "text/html": [
              "<div>\n",
              "<style scoped>\n",
              "    .dataframe tbody tr th:only-of-type {\n",
              "        vertical-align: middle;\n",
              "    }\n",
              "\n",
              "    .dataframe tbody tr th {\n",
              "        vertical-align: top;\n",
              "    }\n",
              "\n",
              "    .dataframe thead th {\n",
              "        text-align: right;\n",
              "    }\n",
              "</style>\n",
              "<table border=\"1\" class=\"dataframe\">\n",
              "  <thead>\n",
              "    <tr style=\"text-align: right;\">\n",
              "      <th></th>\n",
              "      <th>name</th>\n",
              "      <th>性別</th>\n",
              "      <th>経歴</th>\n",
              "      <th>特技</th>\n",
              "    </tr>\n",
              "  </thead>\n",
              "  <tbody>\n",
              "    <tr>\n",
              "      <th>2</th>\n",
              "      <td>C</td>\n",
              "      <td>女性</td>\n",
              "      <td>学部卒</td>\n",
              "      <td>サッカー</td>\n",
              "    </tr>\n",
              "  </tbody>\n",
              "</table>\n",
              "</div>"
            ],
            "text/plain": [
              "  name  性別   経歴    特技\n",
              "2    C  女性  学部卒  サッカー"
            ]
          },
          "metadata": {},
          "execution_count": 108
        }
      ]
    },
    {
      "cell_type": "markdown",
      "metadata": {
        "id": "bHQ135U6qrQ8"
      },
      "source": [
        "#### 6.4 「特技が'野球'を含む行を表示して下さい。」"
      ]
    },
    {
      "cell_type": "code",
      "metadata": {
        "id": "ibMR6pLoqrQ8",
        "colab": {
          "base_uri": "https://localhost:8080/",
          "height": 112
        },
        "outputId": "0a56658a-9c4f-4cfa-f51c-e18b087bd10d"
      },
      "source": [
        "data_3[data_3[\"特技\"].str.contains(\"野球\")]"
      ],
      "execution_count": null,
      "outputs": [
        {
          "output_type": "execute_result",
          "data": {
            "text/html": [
              "<div>\n",
              "<style scoped>\n",
              "    .dataframe tbody tr th:only-of-type {\n",
              "        vertical-align: middle;\n",
              "    }\n",
              "\n",
              "    .dataframe tbody tr th {\n",
              "        vertical-align: top;\n",
              "    }\n",
              "\n",
              "    .dataframe thead th {\n",
              "        text-align: right;\n",
              "    }\n",
              "</style>\n",
              "<table border=\"1\" class=\"dataframe\">\n",
              "  <thead>\n",
              "    <tr style=\"text-align: right;\">\n",
              "      <th></th>\n",
              "      <th>name</th>\n",
              "      <th>性別</th>\n",
              "      <th>経歴</th>\n",
              "      <th>特技</th>\n",
              "    </tr>\n",
              "  </thead>\n",
              "  <tbody>\n",
              "    <tr>\n",
              "      <th>1</th>\n",
              "      <td>B</td>\n",
              "      <td>男性</td>\n",
              "      <td>修士卒</td>\n",
              "      <td>野球</td>\n",
              "    </tr>\n",
              "    <tr>\n",
              "      <th>3</th>\n",
              "      <td>D</td>\n",
              "      <td>男性</td>\n",
              "      <td>博士卒</td>\n",
              "      <td>野球をやっていた</td>\n",
              "    </tr>\n",
              "  </tbody>\n",
              "</table>\n",
              "</div>"
            ],
            "text/plain": [
              "  name  性別   経歴        特技\n",
              "1    B  男性  修士卒        野球\n",
              "3    D  男性  博士卒  野球をやっていた"
            ]
          },
          "metadata": {},
          "execution_count": 109
        }
      ]
    },
    {
      "cell_type": "markdown",
      "metadata": {
        "id": "k3E3e9DWqrQ8"
      },
      "source": [
        "#### 6.5 「経歴の'卒'を削除して下さい。」"
      ]
    },
    {
      "cell_type": "code",
      "metadata": {
        "id": "pR-yk7hVqrQ8",
        "colab": {
          "base_uri": "https://localhost:8080/",
          "height": 174
        },
        "outputId": "17fef35a-f9c6-4b5f-8c67-644ddeafe98b"
      },
      "source": [
        "data_3[\"経歴\"] = data_3[\"経歴\"].str.strip(\"卒\")\n",
        "data_3"
      ],
      "execution_count": null,
      "outputs": [
        {
          "output_type": "execute_result",
          "data": {
            "text/html": [
              "<div>\n",
              "<style scoped>\n",
              "    .dataframe tbody tr th:only-of-type {\n",
              "        vertical-align: middle;\n",
              "    }\n",
              "\n",
              "    .dataframe tbody tr th {\n",
              "        vertical-align: top;\n",
              "    }\n",
              "\n",
              "    .dataframe thead th {\n",
              "        text-align: right;\n",
              "    }\n",
              "</style>\n",
              "<table border=\"1\" class=\"dataframe\">\n",
              "  <thead>\n",
              "    <tr style=\"text-align: right;\">\n",
              "      <th></th>\n",
              "      <th>name</th>\n",
              "      <th>性別</th>\n",
              "      <th>経歴</th>\n",
              "      <th>特技</th>\n",
              "    </tr>\n",
              "  </thead>\n",
              "  <tbody>\n",
              "    <tr>\n",
              "      <th>0</th>\n",
              "      <td>A</td>\n",
              "      <td>男性</td>\n",
              "      <td>学部</td>\n",
              "      <td>ボーリング</td>\n",
              "    </tr>\n",
              "    <tr>\n",
              "      <th>1</th>\n",
              "      <td>B</td>\n",
              "      <td>男性</td>\n",
              "      <td>修士</td>\n",
              "      <td>野球</td>\n",
              "    </tr>\n",
              "    <tr>\n",
              "      <th>2</th>\n",
              "      <td>C</td>\n",
              "      <td>女性</td>\n",
              "      <td>学部</td>\n",
              "      <td>サッカー</td>\n",
              "    </tr>\n",
              "    <tr>\n",
              "      <th>3</th>\n",
              "      <td>D</td>\n",
              "      <td>男性</td>\n",
              "      <td>博士</td>\n",
              "      <td>野球をやっていた</td>\n",
              "    </tr>\n",
              "  </tbody>\n",
              "</table>\n",
              "</div>"
            ],
            "text/plain": [
              "  name  性別  経歴        特技\n",
              "0    A  男性  学部     ボーリング\n",
              "1    B  男性  修士        野球\n",
              "2    C  女性  学部      サッカー\n",
              "3    D  男性  博士  野球をやっていた"
            ]
          },
          "metadata": {},
          "execution_count": 110
        }
      ]
    },
    {
      "cell_type": "markdown",
      "metadata": {
        "id": "-EuK8OAQqrQ8"
      },
      "source": [
        "#### 6.6 「特技の'野球をやっていた'の「をやっていた」を削除して下さい。」"
      ]
    },
    {
      "cell_type": "code",
      "metadata": {
        "id": "ytWGr4zWqrQ8",
        "colab": {
          "base_uri": "https://localhost:8080/",
          "height": 174
        },
        "outputId": "a2111264-ee85-4bc6-dbbd-55a4cd881d07"
      },
      "source": [
        "data_3['特技'][3] = data_3['特技'][3].strip(\"をやっていた\")\n",
        "data_3"
      ],
      "execution_count": null,
      "outputs": [
        {
          "output_type": "execute_result",
          "data": {
            "text/html": [
              "<div>\n",
              "<style scoped>\n",
              "    .dataframe tbody tr th:only-of-type {\n",
              "        vertical-align: middle;\n",
              "    }\n",
              "\n",
              "    .dataframe tbody tr th {\n",
              "        vertical-align: top;\n",
              "    }\n",
              "\n",
              "    .dataframe thead th {\n",
              "        text-align: right;\n",
              "    }\n",
              "</style>\n",
              "<table border=\"1\" class=\"dataframe\">\n",
              "  <thead>\n",
              "    <tr style=\"text-align: right;\">\n",
              "      <th></th>\n",
              "      <th>name</th>\n",
              "      <th>性別</th>\n",
              "      <th>経歴</th>\n",
              "      <th>特技</th>\n",
              "    </tr>\n",
              "  </thead>\n",
              "  <tbody>\n",
              "    <tr>\n",
              "      <th>0</th>\n",
              "      <td>A</td>\n",
              "      <td>男性</td>\n",
              "      <td>学部</td>\n",
              "      <td>ボーリング</td>\n",
              "    </tr>\n",
              "    <tr>\n",
              "      <th>1</th>\n",
              "      <td>B</td>\n",
              "      <td>男性</td>\n",
              "      <td>修士</td>\n",
              "      <td>野球</td>\n",
              "    </tr>\n",
              "    <tr>\n",
              "      <th>2</th>\n",
              "      <td>C</td>\n",
              "      <td>女性</td>\n",
              "      <td>学部</td>\n",
              "      <td>サッカー</td>\n",
              "    </tr>\n",
              "    <tr>\n",
              "      <th>3</th>\n",
              "      <td>D</td>\n",
              "      <td>男性</td>\n",
              "      <td>博士</td>\n",
              "      <td>野球</td>\n",
              "    </tr>\n",
              "  </tbody>\n",
              "</table>\n",
              "</div>"
            ],
            "text/plain": [
              "  name  性別  経歴     特技\n",
              "0    A  男性  学部  ボーリング\n",
              "1    B  男性  修士     野球\n",
              "2    C  女性  学部   サッカー\n",
              "3    D  男性  博士     野球"
            ]
          },
          "metadata": {},
          "execution_count": 119
        }
      ]
    },
    {
      "cell_type": "code",
      "metadata": {
        "id": "Nq4DYv9AsFvX"
      },
      "source": [
        ""
      ],
      "execution_count": null,
      "outputs": []
    }
  ]
}