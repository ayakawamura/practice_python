{
  "cells": [
    {
      "cell_type": "markdown",
      "metadata": {
        "id": "view-in-github",
        "colab_type": "text"
      },
      "source": [
        "<a href=\"https://colab.research.google.com/github/ayakawamura/practice_python/blob/main/machine_learning_editor.ipynb\" target=\"_parent\"><img src=\"https://colab.research.google.com/assets/colab-badge.svg\" alt=\"Open In Colab\"/></a>"
      ]
    },
    {
      "cell_type": "markdown",
      "metadata": {
        "id": "yedAfBFrGC15"
      },
      "source": [
        "# 機械学習実装"
      ]
    },
    {
      "cell_type": "markdown",
      "metadata": {
        "id": "6Jxs3MncGC17"
      },
      "source": [
        "1. データの特徴について確認します。（6問）\n",
        "    - 各変数のデータ型、行列数、統計量を算出し、今回扱うデータの外観を把握します。\n",
        "2. データを加工する方法について学習します。（11問）\n",
        "    - 各変数をモデルに入れる形に整えます。（特徴量生成フェーズ）\n",
        "3. 特徴量の選別方法について学習します。（11問）\n",
        "    - 各特徴量の詳細な特徴を把握し、目的変数との関連性を確認します。（特徴量評価フェーズ）\n",
        "4. 学習データと検証データに分割することについて学習します。（3問）\n",
        "    - 学習に使用したデータは検証に使用できません。モデリング前の下準備について把握します。\n",
        "5. 決定木モデルについて学習します。（分類）（23問）\n",
        "    - 決定木モデルを参考に機械学習のフローについて理解し、精度を算出することが目的です。\n",
        "6. ロジスティック回帰について学習します。（分類）（8問）\n",
        "    - ロジスティック回帰で精度を算出することが目的です。\n",
        "7. ランダムフォレストについて学習します。（分類、回帰）（16問）\n",
        "    - ランダムフォレストモデルで精度を算出することが目的です。\n",
        "8. Kmeans法について学習します。（クラスタリング）（15問）\n",
        "    - Kmeansで分類し、分類結果を次元削減して2次元で可視化します。"
      ]
    },
    {
      "cell_type": "markdown",
      "metadata": {
        "id": "A1vf2gD-GC17"
      },
      "source": [
        "### 0. 事前準備"
      ]
    },
    {
      "cell_type": "markdown",
      "metadata": {
        "id": "NNdakrkIGC18"
      },
      "source": [
        "#### 0.1  必要なライブラリを読み込んで下さい。"
      ]
    },
    {
      "cell_type": "code",
      "execution_count": null,
      "metadata": {
        "id": "_P7AQYYoGC18"
      },
      "outputs": [],
      "source": [
        "import pandas as pd\n",
        "import numpy as np\n",
        "import matplotlib.pyplot as plt\n",
        "import warnings\n",
        "\n",
        "# Jupyter 上で図を表示するためのコマンド\n",
        "%matplotlib inline\n",
        "\n",
        "# warningを表示させない\n",
        "warnings.simplefilter('ignore')"
      ]
    },
    {
      "cell_type": "markdown",
      "metadata": {
        "id": "wIBitznEGC18"
      },
      "source": [
        "#### 0.2  訓練データと検証データを分ける関数、精度評価を行う関数を読み込んで下さい。"
      ]
    },
    {
      "cell_type": "code",
      "execution_count": null,
      "metadata": {
        "id": "ASEuZUWSGC19"
      },
      "outputs": [],
      "source": [
        "# 必要な関数を読み込む\n",
        "from sklearn.model_selection import train_test_split # 訓練データと検証データに分ける関数\n",
        "from sklearn.metrics import confusion_matrix, accuracy_score # 混同行列, 予測正解率を求める関数"
      ]
    },
    {
      "cell_type": "markdown",
      "metadata": {
        "id": "cOM-q7qGGC19"
      },
      "source": [
        "#### 0.3  今回使用する「タイタニック」データを読み込んで下さい。"
      ]
    },
    {
      "cell_type": "code",
      "execution_count": null,
      "metadata": {
        "id": "6RIqXj0IGC1-"
      },
      "outputs": [],
      "source": [
        "# タイタニックデータを読み込む\n",
        "titanic_data = pd.read_csv(filepath_or_buffer='https://wals.s3-ap-northeast-1.amazonaws.com/curriculum/ai/titanic3.csv',\n",
        "                          sep=',', dtype={'pclass':'str'})"
      ]
    },
    {
      "cell_type": "markdown",
      "metadata": {
        "id": "Ik47BtNaGC1-"
      },
      "source": [
        "#### 0.4  今回使用する「タイタニック」データは以下のようなデータになっています。"
      ]
    },
    {
      "cell_type": "markdown",
      "metadata": {
        "id": "Rtn_v2CuGC1-"
      },
      "source": [
        "- PassengerID: 　乗客ID\n",
        "- Survived: 　生存結果 (1: 生存, 0: 死亡)　\n",
        "- Pclass: 　乗客の階級、1が一番位が高い\n",
        "- Name: 　乗客の名前\n",
        "- Sex:　 性別\n",
        "- Age: 　年齢\n",
        "- SibSp: 　兄弟、配偶者の数\n",
        "- Parch: 　両親、子供の数\n",
        "- Ticket: 　チケット番号\n",
        "- Fare: 　乗船料金\n",
        "- Cabin: 　部屋番号\n",
        "- Embarked: 　乗船した港　Cherbourg、Queenstown、Southamptonの3種類\n",
        "- boat: 　乗ったボート（生きていた場合）\n",
        "- body: 　身体識別番号\n",
        "- home.dest: 　目的地"
      ]
    },
    {
      "cell_type": "markdown",
      "metadata": {
        "id": "XXeBJp94GC1-"
      },
      "source": [
        "### 1. データの特徴について確認します。（6問）"
      ]
    },
    {
      "cell_type": "markdown",
      "metadata": {
        "id": "PcR6nCJAGC1_"
      },
      "source": [
        "#### 1.1 レコード数を確認してください。"
      ]
    },
    {
      "cell_type": "code",
      "execution_count": null,
      "metadata": {
        "colab": {
          "base_uri": "https://localhost:8080/"
        },
        "id": "qQ2-4l0GGC1_",
        "outputId": "b6231e8a-2bd8-477d-9217-574111de9678"
      },
      "outputs": [
        {
          "output_type": "execute_result",
          "data": {
            "text/plain": [
              "1309"
            ]
          },
          "metadata": {},
          "execution_count": 358
        }
      ],
      "source": [
        "len(titanic_data)"
      ]
    },
    {
      "cell_type": "markdown",
      "metadata": {
        "id": "GwKE7PxbGC1_"
      },
      "source": [
        "#### 1.2 カラムの数を確認してください。"
      ]
    },
    {
      "cell_type": "code",
      "execution_count": null,
      "metadata": {
        "colab": {
          "base_uri": "https://localhost:8080/"
        },
        "id": "aX0lRWF8GC1_",
        "outputId": "5578f2b8-d2d7-4815-97e3-8a89a5d3806f"
      },
      "outputs": [
        {
          "output_type": "execute_result",
          "data": {
            "text/plain": [
              "14"
            ]
          },
          "metadata": {},
          "execution_count": 359
        }
      ],
      "source": [
        "len(titanic_data.columns)"
      ]
    },
    {
      "cell_type": "markdown",
      "metadata": {
        "id": "WY29FvHxGC1_"
      },
      "source": [
        "#### 1.3 上から5行データを確認してください。"
      ]
    },
    {
      "cell_type": "code",
      "execution_count": null,
      "metadata": {
        "colab": {
          "base_uri": "https://localhost:8080/"
        },
        "id": "h3w7lBTRGC1_",
        "outputId": "16a07cfb-f603-48c5-8110-7da4bfccbcea"
      },
      "outputs": [
        {
          "output_type": "execute_result",
          "data": {
            "text/html": [
              "<div>\n",
              "<style scoped>\n",
              "    .dataframe tbody tr th:only-of-type {\n",
              "        vertical-align: middle;\n",
              "    }\n",
              "\n",
              "    .dataframe tbody tr th {\n",
              "        vertical-align: top;\n",
              "    }\n",
              "\n",
              "    .dataframe thead th {\n",
              "        text-align: right;\n",
              "    }\n",
              "</style>\n",
              "<table border=\"1\" class=\"dataframe\">\n",
              "  <thead>\n",
              "    <tr style=\"text-align: right;\">\n",
              "      <th></th>\n",
              "      <th>pclass</th>\n",
              "      <th>survived</th>\n",
              "      <th>name</th>\n",
              "      <th>sex</th>\n",
              "      <th>age</th>\n",
              "      <th>sibsp</th>\n",
              "      <th>parch</th>\n",
              "      <th>ticket</th>\n",
              "      <th>fare</th>\n",
              "      <th>cabin</th>\n",
              "      <th>embarked</th>\n",
              "      <th>boat</th>\n",
              "      <th>body</th>\n",
              "      <th>home.dest</th>\n",
              "    </tr>\n",
              "  </thead>\n",
              "  <tbody>\n",
              "    <tr>\n",
              "      <th>0</th>\n",
              "      <td>1</td>\n",
              "      <td>1</td>\n",
              "      <td>Allen, Miss. Elisabeth Walton</td>\n",
              "      <td>female</td>\n",
              "      <td>29.00</td>\n",
              "      <td>0</td>\n",
              "      <td>0</td>\n",
              "      <td>24160</td>\n",
              "      <td>211.3375</td>\n",
              "      <td>B5</td>\n",
              "      <td>S</td>\n",
              "      <td>2</td>\n",
              "      <td>NaN</td>\n",
              "      <td>St Louis, MO</td>\n",
              "    </tr>\n",
              "    <tr>\n",
              "      <th>1</th>\n",
              "      <td>1</td>\n",
              "      <td>1</td>\n",
              "      <td>Allison, Master. Hudson Trevor</td>\n",
              "      <td>male</td>\n",
              "      <td>0.92</td>\n",
              "      <td>1</td>\n",
              "      <td>2</td>\n",
              "      <td>113781</td>\n",
              "      <td>151.5500</td>\n",
              "      <td>C22 C26</td>\n",
              "      <td>S</td>\n",
              "      <td>11</td>\n",
              "      <td>NaN</td>\n",
              "      <td>Montreal, PQ / Chesterville, ON</td>\n",
              "    </tr>\n",
              "    <tr>\n",
              "      <th>2</th>\n",
              "      <td>1</td>\n",
              "      <td>0</td>\n",
              "      <td>Allison, Miss. Helen Loraine</td>\n",
              "      <td>female</td>\n",
              "      <td>2.00</td>\n",
              "      <td>1</td>\n",
              "      <td>2</td>\n",
              "      <td>113781</td>\n",
              "      <td>151.5500</td>\n",
              "      <td>C22 C26</td>\n",
              "      <td>S</td>\n",
              "      <td>NaN</td>\n",
              "      <td>NaN</td>\n",
              "      <td>Montreal, PQ / Chesterville, ON</td>\n",
              "    </tr>\n",
              "    <tr>\n",
              "      <th>3</th>\n",
              "      <td>1</td>\n",
              "      <td>0</td>\n",
              "      <td>Allison, Mr. Hudson Joshua Creighton</td>\n",
              "      <td>male</td>\n",
              "      <td>30.00</td>\n",
              "      <td>1</td>\n",
              "      <td>2</td>\n",
              "      <td>113781</td>\n",
              "      <td>151.5500</td>\n",
              "      <td>C22 C26</td>\n",
              "      <td>S</td>\n",
              "      <td>NaN</td>\n",
              "      <td>135.0</td>\n",
              "      <td>Montreal, PQ / Chesterville, ON</td>\n",
              "    </tr>\n",
              "    <tr>\n",
              "      <th>4</th>\n",
              "      <td>1</td>\n",
              "      <td>0</td>\n",
              "      <td>Allison, Mrs. Hudson J C (Bessie Waldo Daniels)</td>\n",
              "      <td>female</td>\n",
              "      <td>25.00</td>\n",
              "      <td>1</td>\n",
              "      <td>2</td>\n",
              "      <td>113781</td>\n",
              "      <td>151.5500</td>\n",
              "      <td>C22 C26</td>\n",
              "      <td>S</td>\n",
              "      <td>NaN</td>\n",
              "      <td>NaN</td>\n",
              "      <td>Montreal, PQ / Chesterville, ON</td>\n",
              "    </tr>\n",
              "  </tbody>\n",
              "</table>\n",
              "</div>"
            ],
            "text/plain": [
              "  pclass  survived  ...   body                        home.dest\n",
              "0      1         1  ...    NaN                     St Louis, MO\n",
              "1      1         1  ...    NaN  Montreal, PQ / Chesterville, ON\n",
              "2      1         0  ...    NaN  Montreal, PQ / Chesterville, ON\n",
              "3      1         0  ...  135.0  Montreal, PQ / Chesterville, ON\n",
              "4      1         0  ...    NaN  Montreal, PQ / Chesterville, ON\n",
              "\n",
              "[5 rows x 14 columns]"
            ]
          },
          "metadata": {},
          "execution_count": 360
        }
      ],
      "source": [
        "titanic_data.head(5)"
      ]
    },
    {
      "cell_type": "markdown",
      "metadata": {
        "id": "J69vIfgAGC1_"
      },
      "source": [
        "#### 1.4 各カラムのデータ型を確認してください。※objectデータは今後数値データに変更する必要があります。"
      ]
    },
    {
      "cell_type": "code",
      "execution_count": null,
      "metadata": {
        "colab": {
          "base_uri": "https://localhost:8080/"
        },
        "id": "9b7fK_wvGC1_",
        "outputId": "ef4275f5-1b7f-436e-b43f-9aac7a1d47f1"
      },
      "outputs": [
        {
          "output_type": "execute_result",
          "data": {
            "text/plain": [
              "pclass        object\n",
              "survived       int64\n",
              "name          object\n",
              "sex           object\n",
              "age          float64\n",
              "sibsp          int64\n",
              "parch          int64\n",
              "ticket        object\n",
              "fare         float64\n",
              "cabin         object\n",
              "embarked      object\n",
              "boat          object\n",
              "body         float64\n",
              "home.dest     object\n",
              "dtype: object"
            ]
          },
          "metadata": {},
          "execution_count": 361
        }
      ],
      "source": [
        "titanic_data.dtypes"
      ]
    },
    {
      "cell_type": "markdown",
      "metadata": {
        "id": "sREb9giOGC2A"
      },
      "source": [
        "#### 1.5 各カラムの統計量を算出してください。※object以外"
      ]
    },
    {
      "cell_type": "code",
      "execution_count": null,
      "metadata": {
        "colab": {
          "base_uri": "https://localhost:8080/"
        },
        "id": "xEWtEhEaGC2A",
        "outputId": "bf3f888e-b7e8-4c13-807f-d8043163022a"
      },
      "outputs": [
        {
          "output_type": "execute_result",
          "data": {
            "text/html": [
              "<div>\n",
              "<style scoped>\n",
              "    .dataframe tbody tr th:only-of-type {\n",
              "        vertical-align: middle;\n",
              "    }\n",
              "\n",
              "    .dataframe tbody tr th {\n",
              "        vertical-align: top;\n",
              "    }\n",
              "\n",
              "    .dataframe thead th {\n",
              "        text-align: right;\n",
              "    }\n",
              "</style>\n",
              "<table border=\"1\" class=\"dataframe\">\n",
              "  <thead>\n",
              "    <tr style=\"text-align: right;\">\n",
              "      <th></th>\n",
              "      <th>survived</th>\n",
              "      <th>age</th>\n",
              "      <th>sibsp</th>\n",
              "      <th>parch</th>\n",
              "      <th>fare</th>\n",
              "      <th>body</th>\n",
              "    </tr>\n",
              "  </thead>\n",
              "  <tbody>\n",
              "    <tr>\n",
              "      <th>count</th>\n",
              "      <td>1309.0</td>\n",
              "      <td>1046.0</td>\n",
              "      <td>1309.0</td>\n",
              "      <td>1309.0</td>\n",
              "      <td>1308.0</td>\n",
              "      <td>121.0</td>\n",
              "    </tr>\n",
              "    <tr>\n",
              "      <th>mean</th>\n",
              "      <td>0.4</td>\n",
              "      <td>29.9</td>\n",
              "      <td>0.5</td>\n",
              "      <td>0.4</td>\n",
              "      <td>33.3</td>\n",
              "      <td>160.8</td>\n",
              "    </tr>\n",
              "    <tr>\n",
              "      <th>std</th>\n",
              "      <td>0.5</td>\n",
              "      <td>14.4</td>\n",
              "      <td>1.0</td>\n",
              "      <td>0.9</td>\n",
              "      <td>51.8</td>\n",
              "      <td>97.7</td>\n",
              "    </tr>\n",
              "    <tr>\n",
              "      <th>min</th>\n",
              "      <td>0.0</td>\n",
              "      <td>0.2</td>\n",
              "      <td>0.0</td>\n",
              "      <td>0.0</td>\n",
              "      <td>0.0</td>\n",
              "      <td>1.0</td>\n",
              "    </tr>\n",
              "    <tr>\n",
              "      <th>25%</th>\n",
              "      <td>0.0</td>\n",
              "      <td>21.0</td>\n",
              "      <td>0.0</td>\n",
              "      <td>0.0</td>\n",
              "      <td>7.9</td>\n",
              "      <td>72.0</td>\n",
              "    </tr>\n",
              "    <tr>\n",
              "      <th>50%</th>\n",
              "      <td>0.0</td>\n",
              "      <td>28.0</td>\n",
              "      <td>0.0</td>\n",
              "      <td>0.0</td>\n",
              "      <td>14.5</td>\n",
              "      <td>155.0</td>\n",
              "    </tr>\n",
              "    <tr>\n",
              "      <th>75%</th>\n",
              "      <td>1.0</td>\n",
              "      <td>39.0</td>\n",
              "      <td>1.0</td>\n",
              "      <td>0.0</td>\n",
              "      <td>31.3</td>\n",
              "      <td>256.0</td>\n",
              "    </tr>\n",
              "    <tr>\n",
              "      <th>max</th>\n",
              "      <td>1.0</td>\n",
              "      <td>80.0</td>\n",
              "      <td>8.0</td>\n",
              "      <td>9.0</td>\n",
              "      <td>512.3</td>\n",
              "      <td>328.0</td>\n",
              "    </tr>\n",
              "  </tbody>\n",
              "</table>\n",
              "</div>"
            ],
            "text/plain": [
              "       survived     age   sibsp   parch    fare   body\n",
              "count    1309.0  1046.0  1309.0  1309.0  1308.0  121.0\n",
              "mean        0.4    29.9     0.5     0.4    33.3  160.8\n",
              "std         0.5    14.4     1.0     0.9    51.8   97.7\n",
              "min         0.0     0.2     0.0     0.0     0.0    1.0\n",
              "25%         0.0    21.0     0.0     0.0     7.9   72.0\n",
              "50%         0.0    28.0     0.0     0.0    14.5  155.0\n",
              "75%         1.0    39.0     1.0     0.0    31.3  256.0\n",
              "max         1.0    80.0     8.0     9.0   512.3  328.0"
            ]
          },
          "metadata": {},
          "execution_count": 362
        }
      ],
      "source": [
        "titanic_data.describe().round(1)"
      ]
    },
    {
      "cell_type": "markdown",
      "metadata": {
        "id": "PvDSwmZeGC2A"
      },
      "source": [
        "#### 1.6 objectデータが格納されているカラムの情報を出力してください。"
      ]
    },
    {
      "cell_type": "code",
      "execution_count": null,
      "metadata": {
        "colab": {
          "base_uri": "https://localhost:8080/"
        },
        "id": "tEeLVXglGC2A",
        "outputId": "f6b535a2-776f-4020-ba08-4b8e0d359f56"
      },
      "outputs": [
        {
          "output_type": "execute_result",
          "data": {
            "text/html": [
              "<div>\n",
              "<style scoped>\n",
              "    .dataframe tbody tr th:only-of-type {\n",
              "        vertical-align: middle;\n",
              "    }\n",
              "\n",
              "    .dataframe tbody tr th {\n",
              "        vertical-align: top;\n",
              "    }\n",
              "\n",
              "    .dataframe thead th {\n",
              "        text-align: right;\n",
              "    }\n",
              "</style>\n",
              "<table border=\"1\" class=\"dataframe\">\n",
              "  <thead>\n",
              "    <tr style=\"text-align: right;\">\n",
              "      <th></th>\n",
              "      <th>pclass</th>\n",
              "      <th>name</th>\n",
              "      <th>sex</th>\n",
              "      <th>ticket</th>\n",
              "      <th>cabin</th>\n",
              "      <th>embarked</th>\n",
              "      <th>boat</th>\n",
              "      <th>home.dest</th>\n",
              "    </tr>\n",
              "  </thead>\n",
              "  <tbody>\n",
              "    <tr>\n",
              "      <th>count</th>\n",
              "      <td>1309</td>\n",
              "      <td>1309</td>\n",
              "      <td>1309</td>\n",
              "      <td>1309</td>\n",
              "      <td>295</td>\n",
              "      <td>1307</td>\n",
              "      <td>486</td>\n",
              "      <td>745</td>\n",
              "    </tr>\n",
              "    <tr>\n",
              "      <th>unique</th>\n",
              "      <td>3</td>\n",
              "      <td>1307</td>\n",
              "      <td>2</td>\n",
              "      <td>929</td>\n",
              "      <td>186</td>\n",
              "      <td>3</td>\n",
              "      <td>27</td>\n",
              "      <td>369</td>\n",
              "    </tr>\n",
              "    <tr>\n",
              "      <th>top</th>\n",
              "      <td>3</td>\n",
              "      <td>Connolly, Miss. Kate</td>\n",
              "      <td>male</td>\n",
              "      <td>CA. 2343</td>\n",
              "      <td>C23 C25 C27</td>\n",
              "      <td>S</td>\n",
              "      <td>13</td>\n",
              "      <td>New York, NY</td>\n",
              "    </tr>\n",
              "    <tr>\n",
              "      <th>freq</th>\n",
              "      <td>709</td>\n",
              "      <td>2</td>\n",
              "      <td>843</td>\n",
              "      <td>11</td>\n",
              "      <td>6</td>\n",
              "      <td>914</td>\n",
              "      <td>39</td>\n",
              "      <td>64</td>\n",
              "    </tr>\n",
              "  </tbody>\n",
              "</table>\n",
              "</div>"
            ],
            "text/plain": [
              "       pclass                  name   sex  ... embarked boat     home.dest\n",
              "count    1309                  1309  1309  ...     1307  486           745\n",
              "unique      3                  1307     2  ...        3   27           369\n",
              "top         3  Connolly, Miss. Kate  male  ...        S   13  New York, NY\n",
              "freq      709                     2   843  ...      914   39            64\n",
              "\n",
              "[4 rows x 8 columns]"
            ]
          },
          "metadata": {},
          "execution_count": 363
        }
      ],
      "source": [
        "titanic_data.describe(include=\"object\")"
      ]
    },
    {
      "cell_type": "markdown",
      "metadata": {
        "id": "Ju52vSspGC2A"
      },
      "source": [
        "### 2.データを加工する方法について学習します。（11問）"
      ]
    },
    {
      "cell_type": "markdown",
      "metadata": {
        "id": "n2pCV1y8GC2A"
      },
      "source": [
        "#### 2.1 object型のデータを削除し、削除されていることを確認してください。"
      ]
    },
    {
      "cell_type": "code",
      "execution_count": null,
      "metadata": {
        "colab": {
          "base_uri": "https://localhost:8080/",
          "height": 423
        },
        "id": "PUS_jVzuGC2A",
        "outputId": "51b74814-21f1-4f7f-e3dd-cde0d19bc15c"
      },
      "outputs": [
        {
          "output_type": "execute_result",
          "data": {
            "text/html": [
              "<div>\n",
              "<style scoped>\n",
              "    .dataframe tbody tr th:only-of-type {\n",
              "        vertical-align: middle;\n",
              "    }\n",
              "\n",
              "    .dataframe tbody tr th {\n",
              "        vertical-align: top;\n",
              "    }\n",
              "\n",
              "    .dataframe thead th {\n",
              "        text-align: right;\n",
              "    }\n",
              "</style>\n",
              "<table border=\"1\" class=\"dataframe\">\n",
              "  <thead>\n",
              "    <tr style=\"text-align: right;\">\n",
              "      <th></th>\n",
              "      <th>survived</th>\n",
              "      <th>age</th>\n",
              "      <th>sibsp</th>\n",
              "      <th>parch</th>\n",
              "      <th>fare</th>\n",
              "      <th>body</th>\n",
              "    </tr>\n",
              "  </thead>\n",
              "  <tbody>\n",
              "    <tr>\n",
              "      <th>0</th>\n",
              "      <td>1</td>\n",
              "      <td>29.00</td>\n",
              "      <td>0</td>\n",
              "      <td>0</td>\n",
              "      <td>211.3375</td>\n",
              "      <td>NaN</td>\n",
              "    </tr>\n",
              "    <tr>\n",
              "      <th>1</th>\n",
              "      <td>1</td>\n",
              "      <td>0.92</td>\n",
              "      <td>1</td>\n",
              "      <td>2</td>\n",
              "      <td>151.5500</td>\n",
              "      <td>NaN</td>\n",
              "    </tr>\n",
              "    <tr>\n",
              "      <th>2</th>\n",
              "      <td>0</td>\n",
              "      <td>2.00</td>\n",
              "      <td>1</td>\n",
              "      <td>2</td>\n",
              "      <td>151.5500</td>\n",
              "      <td>NaN</td>\n",
              "    </tr>\n",
              "    <tr>\n",
              "      <th>3</th>\n",
              "      <td>0</td>\n",
              "      <td>30.00</td>\n",
              "      <td>1</td>\n",
              "      <td>2</td>\n",
              "      <td>151.5500</td>\n",
              "      <td>135.0</td>\n",
              "    </tr>\n",
              "    <tr>\n",
              "      <th>4</th>\n",
              "      <td>0</td>\n",
              "      <td>25.00</td>\n",
              "      <td>1</td>\n",
              "      <td>2</td>\n",
              "      <td>151.5500</td>\n",
              "      <td>NaN</td>\n",
              "    </tr>\n",
              "    <tr>\n",
              "      <th>...</th>\n",
              "      <td>...</td>\n",
              "      <td>...</td>\n",
              "      <td>...</td>\n",
              "      <td>...</td>\n",
              "      <td>...</td>\n",
              "      <td>...</td>\n",
              "    </tr>\n",
              "    <tr>\n",
              "      <th>1304</th>\n",
              "      <td>0</td>\n",
              "      <td>14.50</td>\n",
              "      <td>1</td>\n",
              "      <td>0</td>\n",
              "      <td>14.4542</td>\n",
              "      <td>328.0</td>\n",
              "    </tr>\n",
              "    <tr>\n",
              "      <th>1305</th>\n",
              "      <td>0</td>\n",
              "      <td>NaN</td>\n",
              "      <td>1</td>\n",
              "      <td>0</td>\n",
              "      <td>14.4542</td>\n",
              "      <td>NaN</td>\n",
              "    </tr>\n",
              "    <tr>\n",
              "      <th>1306</th>\n",
              "      <td>0</td>\n",
              "      <td>26.50</td>\n",
              "      <td>0</td>\n",
              "      <td>0</td>\n",
              "      <td>7.2250</td>\n",
              "      <td>304.0</td>\n",
              "    </tr>\n",
              "    <tr>\n",
              "      <th>1307</th>\n",
              "      <td>0</td>\n",
              "      <td>27.00</td>\n",
              "      <td>0</td>\n",
              "      <td>0</td>\n",
              "      <td>7.2250</td>\n",
              "      <td>NaN</td>\n",
              "    </tr>\n",
              "    <tr>\n",
              "      <th>1308</th>\n",
              "      <td>0</td>\n",
              "      <td>29.00</td>\n",
              "      <td>0</td>\n",
              "      <td>0</td>\n",
              "      <td>7.8750</td>\n",
              "      <td>NaN</td>\n",
              "    </tr>\n",
              "  </tbody>\n",
              "</table>\n",
              "<p>1309 rows × 6 columns</p>\n",
              "</div>"
            ],
            "text/plain": [
              "      survived    age  sibsp  parch      fare   body\n",
              "0            1  29.00      0      0  211.3375    NaN\n",
              "1            1   0.92      1      2  151.5500    NaN\n",
              "2            0   2.00      1      2  151.5500    NaN\n",
              "3            0  30.00      1      2  151.5500  135.0\n",
              "4            0  25.00      1      2  151.5500    NaN\n",
              "...        ...    ...    ...    ...       ...    ...\n",
              "1304         0  14.50      1      0   14.4542  328.0\n",
              "1305         0    NaN      1      0   14.4542    NaN\n",
              "1306         0  26.50      0      0    7.2250  304.0\n",
              "1307         0  27.00      0      0    7.2250    NaN\n",
              "1308         0  29.00      0      0    7.8750    NaN\n",
              "\n",
              "[1309 rows x 6 columns]"
            ]
          },
          "metadata": {},
          "execution_count": 364
        }
      ],
      "source": [
        "data= titanic_data.select_dtypes(exclude=\"object\")\n",
        "data"
      ]
    },
    {
      "cell_type": "markdown",
      "metadata": {
        "id": "xlGIpXqhGC2A"
      },
      "source": [
        "#### 2.2 各カラムの欠損値数を算出してください。(※object型のデータ除外後)"
      ]
    },
    {
      "cell_type": "code",
      "execution_count": null,
      "metadata": {
        "colab": {
          "base_uri": "https://localhost:8080/"
        },
        "id": "YbG-4-GaGC2A",
        "outputId": "df2e88c5-0425-4228-96ad-f3d3538f3ffc"
      },
      "outputs": [
        {
          "output_type": "execute_result",
          "data": {
            "text/plain": [
              "survived       0\n",
              "age          263\n",
              "sibsp          0\n",
              "parch          0\n",
              "fare           1\n",
              "body        1188\n",
              "dtype: int64"
            ]
          },
          "metadata": {},
          "execution_count": 365
        }
      ],
      "source": [
        "data.isnull().sum()"
      ]
    },
    {
      "cell_type": "markdown",
      "metadata": {
        "id": "wTrbEbE0GC2A"
      },
      "source": [
        "#### 2.3 欠損値は補完する必要があります。「age」の分布を確認して下さい。"
      ]
    },
    {
      "cell_type": "code",
      "execution_count": null,
      "metadata": {
        "colab": {
          "base_uri": "https://localhost:8080/",
          "height": 264
        },
        "id": "OYyo5yLpGC2A",
        "outputId": "858ba6f0-fbcd-4c1e-d7cb-5de02de6c84a"
      },
      "outputs": [
        {
          "output_type": "display_data",
          "data": {
            "image/png": "[encoded data removed]",
            "text/plain": [
              "<Figure size 432x288 with 1 Axes>"
            ]
          },
          "metadata": {
            "needs_background": "light"
          }
        }
      ],
      "source": [
        "fig = plt.figure()\n",
        "ax = fig.add_subplot(1,1,1)\n",
        "ax.hist(data[\"age\"])\n",
        "plt.show()"
      ]
    },
    {
      "cell_type": "markdown",
      "metadata": {
        "id": "wPbsQXYmGC2A"
      },
      "source": [
        "#### 2.4 分布を確認すると20代が多いようです。欠損値には「age」の平均値を補完してみましょう。"
      ]
    },
    {
      "cell_type": "code",
      "execution_count": null,
      "metadata": {
        "colab": {
          "base_uri": "https://localhost:8080/",
          "height": 423
        },
        "id": "oqyrr9m8GC2A",
        "outputId": "e057cf7e-a78b-413c-e63b-92d267de0d5f"
      },
      "outputs": [
        {
          "output_type": "execute_result",
          "data": {
            "text/html": [
              "<div>\n",
              "<style scoped>\n",
              "    .dataframe tbody tr th:only-of-type {\n",
              "        vertical-align: middle;\n",
              "    }\n",
              "\n",
              "    .dataframe tbody tr th {\n",
              "        vertical-align: top;\n",
              "    }\n",
              "\n",
              "    .dataframe thead th {\n",
              "        text-align: right;\n",
              "    }\n",
              "</style>\n",
              "<table border=\"1\" class=\"dataframe\">\n",
              "  <thead>\n",
              "    <tr style=\"text-align: right;\">\n",
              "      <th></th>\n",
              "      <th>survived</th>\n",
              "      <th>age</th>\n",
              "      <th>sibsp</th>\n",
              "      <th>parch</th>\n",
              "      <th>fare</th>\n",
              "      <th>body</th>\n",
              "    </tr>\n",
              "  </thead>\n",
              "  <tbody>\n",
              "    <tr>\n",
              "      <th>0</th>\n",
              "      <td>1</td>\n",
              "      <td>29.000000</td>\n",
              "      <td>0</td>\n",
              "      <td>0</td>\n",
              "      <td>211.3375</td>\n",
              "      <td>NaN</td>\n",
              "    </tr>\n",
              "    <tr>\n",
              "      <th>1</th>\n",
              "      <td>1</td>\n",
              "      <td>0.920000</td>\n",
              "      <td>1</td>\n",
              "      <td>2</td>\n",
              "      <td>151.5500</td>\n",
              "      <td>NaN</td>\n",
              "    </tr>\n",
              "    <tr>\n",
              "      <th>2</th>\n",
              "      <td>0</td>\n",
              "      <td>2.000000</td>\n",
              "      <td>1</td>\n",
              "      <td>2</td>\n",
              "      <td>151.5500</td>\n",
              "      <td>NaN</td>\n",
              "    </tr>\n",
              "    <tr>\n",
              "      <th>3</th>\n",
              "      <td>0</td>\n",
              "      <td>30.000000</td>\n",
              "      <td>1</td>\n",
              "      <td>2</td>\n",
              "      <td>151.5500</td>\n",
              "      <td>135.0</td>\n",
              "    </tr>\n",
              "    <tr>\n",
              "      <th>4</th>\n",
              "      <td>0</td>\n",
              "      <td>25.000000</td>\n",
              "      <td>1</td>\n",
              "      <td>2</td>\n",
              "      <td>151.5500</td>\n",
              "      <td>NaN</td>\n",
              "    </tr>\n",
              "    <tr>\n",
              "      <th>...</th>\n",
              "      <td>...</td>\n",
              "      <td>...</td>\n",
              "      <td>...</td>\n",
              "      <td>...</td>\n",
              "      <td>...</td>\n",
              "      <td>...</td>\n",
              "    </tr>\n",
              "    <tr>\n",
              "      <th>1304</th>\n",
              "      <td>0</td>\n",
              "      <td>14.500000</td>\n",
              "      <td>1</td>\n",
              "      <td>0</td>\n",
              "      <td>14.4542</td>\n",
              "      <td>328.0</td>\n",
              "    </tr>\n",
              "    <tr>\n",
              "      <th>1305</th>\n",
              "      <td>0</td>\n",
              "      <td>29.881138</td>\n",
              "      <td>1</td>\n",
              "      <td>0</td>\n",
              "      <td>14.4542</td>\n",
              "      <td>NaN</td>\n",
              "    </tr>\n",
              "    <tr>\n",
              "      <th>1306</th>\n",
              "      <td>0</td>\n",
              "      <td>26.500000</td>\n",
              "      <td>0</td>\n",
              "      <td>0</td>\n",
              "      <td>7.2250</td>\n",
              "      <td>304.0</td>\n",
              "    </tr>\n",
              "    <tr>\n",
              "      <th>1307</th>\n",
              "      <td>0</td>\n",
              "      <td>27.000000</td>\n",
              "      <td>0</td>\n",
              "      <td>0</td>\n",
              "      <td>7.2250</td>\n",
              "      <td>NaN</td>\n",
              "    </tr>\n",
              "    <tr>\n",
              "      <th>1308</th>\n",
              "      <td>0</td>\n",
              "      <td>29.000000</td>\n",
              "      <td>0</td>\n",
              "      <td>0</td>\n",
              "      <td>7.8750</td>\n",
              "      <td>NaN</td>\n",
              "    </tr>\n",
              "  </tbody>\n",
              "</table>\n",
              "<p>1309 rows × 6 columns</p>\n",
              "</div>"
            ],
            "text/plain": [
              "      survived        age  sibsp  parch      fare   body\n",
              "0            1  29.000000      0      0  211.3375    NaN\n",
              "1            1   0.920000      1      2  151.5500    NaN\n",
              "2            0   2.000000      1      2  151.5500    NaN\n",
              "3            0  30.000000      1      2  151.5500  135.0\n",
              "4            0  25.000000      1      2  151.5500    NaN\n",
              "...        ...        ...    ...    ...       ...    ...\n",
              "1304         0  14.500000      1      0   14.4542  328.0\n",
              "1305         0  29.881138      1      0   14.4542    NaN\n",
              "1306         0  26.500000      0      0    7.2250  304.0\n",
              "1307         0  27.000000      0      0    7.2250    NaN\n",
              "1308         0  29.000000      0      0    7.8750    NaN\n",
              "\n",
              "[1309 rows x 6 columns]"
            ]
          },
          "metadata": {},
          "execution_count": 367
        }
      ],
      "source": [
        "mean = data[\"age\"].mean()\n",
        "data['age'].fillna(mean, inplace=True)\n",
        "data"
      ]
    },
    {
      "cell_type": "markdown",
      "metadata": {
        "id": "ZrqSHr1AGC2A"
      },
      "source": [
        "#### 2.5 「age」に欠損値が無くなったことを確認してください。"
      ]
    },
    {
      "cell_type": "code",
      "execution_count": null,
      "metadata": {
        "colab": {
          "base_uri": "https://localhost:8080/"
        },
        "id": "1MXSMM3EGC2A",
        "outputId": "7bc57bf2-6031-49ed-eb3b-160927c8071f"
      },
      "outputs": [
        {
          "output_type": "execute_result",
          "data": {
            "text/plain": [
              "0"
            ]
          },
          "metadata": {},
          "execution_count": 368
        }
      ],
      "source": [
        "data['age'].isnull().sum()"
      ]
    },
    {
      "cell_type": "markdown",
      "metadata": {
        "id": "zsgVSrHQGC2A"
      },
      "source": [
        "#### 2.6 bodyの欠損値も補完する必要があります。「body」の分布を確認して下さい。"
      ]
    },
    {
      "cell_type": "code",
      "execution_count": null,
      "metadata": {
        "colab": {
          "base_uri": "https://localhost:8080/",
          "height": 264
        },
        "id": "1dNuNANBGC2B",
        "outputId": "3fa6f6a1-391b-4ca9-d022-c99283dc240d"
      },
      "outputs": [
        {
          "output_type": "display_data",
          "data": {
            "image/png": "[encoded data removed]",
            "text/plain": [
              "<Figure size 432x288 with 1 Axes>"
            ]
          },
          "metadata": {
            "needs_background": "light"
          }
        }
      ],
      "source": [
        "fig = plt.figure()\n",
        "ax = fig.add_subplot(1,1,1)\n",
        "ax.hist(data[\"body\"])\n",
        "plt.show()"
      ]
    },
    {
      "cell_type": "markdown",
      "metadata": {
        "id": "9VFqaefgGC2B"
      },
      "source": [
        "#### 2.7 欠損値が非常に多いです。欠損に意味を持たせるために、今存在しない値である「－1」を補完してみましょう。"
      ]
    },
    {
      "cell_type": "code",
      "execution_count": null,
      "metadata": {
        "colab": {
          "base_uri": "https://localhost:8080/",
          "height": 423
        },
        "id": "tvjnzS3iGC2B",
        "outputId": "04678ab8-ee38-44a4-e063-f1589f71a915"
      },
      "outputs": [
        {
          "output_type": "execute_result",
          "data": {
            "text/html": [
              "<div>\n",
              "<style scoped>\n",
              "    .dataframe tbody tr th:only-of-type {\n",
              "        vertical-align: middle;\n",
              "    }\n",
              "\n",
              "    .dataframe tbody tr th {\n",
              "        vertical-align: top;\n",
              "    }\n",
              "\n",
              "    .dataframe thead th {\n",
              "        text-align: right;\n",
              "    }\n",
              "</style>\n",
              "<table border=\"1\" class=\"dataframe\">\n",
              "  <thead>\n",
              "    <tr style=\"text-align: right;\">\n",
              "      <th></th>\n",
              "      <th>survived</th>\n",
              "      <th>age</th>\n",
              "      <th>sibsp</th>\n",
              "      <th>parch</th>\n",
              "      <th>fare</th>\n",
              "      <th>body</th>\n",
              "    </tr>\n",
              "  </thead>\n",
              "  <tbody>\n",
              "    <tr>\n",
              "      <th>0</th>\n",
              "      <td>1</td>\n",
              "      <td>29.000000</td>\n",
              "      <td>0</td>\n",
              "      <td>0</td>\n",
              "      <td>211.3375</td>\n",
              "      <td>-1.0</td>\n",
              "    </tr>\n",
              "    <tr>\n",
              "      <th>1</th>\n",
              "      <td>1</td>\n",
              "      <td>0.920000</td>\n",
              "      <td>1</td>\n",
              "      <td>2</td>\n",
              "      <td>151.5500</td>\n",
              "      <td>-1.0</td>\n",
              "    </tr>\n",
              "    <tr>\n",
              "      <th>2</th>\n",
              "      <td>0</td>\n",
              "      <td>2.000000</td>\n",
              "      <td>1</td>\n",
              "      <td>2</td>\n",
              "      <td>151.5500</td>\n",
              "      <td>-1.0</td>\n",
              "    </tr>\n",
              "    <tr>\n",
              "      <th>3</th>\n",
              "      <td>0</td>\n",
              "      <td>30.000000</td>\n",
              "      <td>1</td>\n",
              "      <td>2</td>\n",
              "      <td>151.5500</td>\n",
              "      <td>135.0</td>\n",
              "    </tr>\n",
              "    <tr>\n",
              "      <th>4</th>\n",
              "      <td>0</td>\n",
              "      <td>25.000000</td>\n",
              "      <td>1</td>\n",
              "      <td>2</td>\n",
              "      <td>151.5500</td>\n",
              "      <td>-1.0</td>\n",
              "    </tr>\n",
              "    <tr>\n",
              "      <th>...</th>\n",
              "      <td>...</td>\n",
              "      <td>...</td>\n",
              "      <td>...</td>\n",
              "      <td>...</td>\n",
              "      <td>...</td>\n",
              "      <td>...</td>\n",
              "    </tr>\n",
              "    <tr>\n",
              "      <th>1304</th>\n",
              "      <td>0</td>\n",
              "      <td>14.500000</td>\n",
              "      <td>1</td>\n",
              "      <td>0</td>\n",
              "      <td>14.4542</td>\n",
              "      <td>328.0</td>\n",
              "    </tr>\n",
              "    <tr>\n",
              "      <th>1305</th>\n",
              "      <td>0</td>\n",
              "      <td>29.881138</td>\n",
              "      <td>1</td>\n",
              "      <td>0</td>\n",
              "      <td>14.4542</td>\n",
              "      <td>-1.0</td>\n",
              "    </tr>\n",
              "    <tr>\n",
              "      <th>1306</th>\n",
              "      <td>0</td>\n",
              "      <td>26.500000</td>\n",
              "      <td>0</td>\n",
              "      <td>0</td>\n",
              "      <td>7.2250</td>\n",
              "      <td>304.0</td>\n",
              "    </tr>\n",
              "    <tr>\n",
              "      <th>1307</th>\n",
              "      <td>0</td>\n",
              "      <td>27.000000</td>\n",
              "      <td>0</td>\n",
              "      <td>0</td>\n",
              "      <td>7.2250</td>\n",
              "      <td>-1.0</td>\n",
              "    </tr>\n",
              "    <tr>\n",
              "      <th>1308</th>\n",
              "      <td>0</td>\n",
              "      <td>29.000000</td>\n",
              "      <td>0</td>\n",
              "      <td>0</td>\n",
              "      <td>7.8750</td>\n",
              "      <td>-1.0</td>\n",
              "    </tr>\n",
              "  </tbody>\n",
              "</table>\n",
              "<p>1309 rows × 6 columns</p>\n",
              "</div>"
            ],
            "text/plain": [
              "      survived        age  sibsp  parch      fare   body\n",
              "0            1  29.000000      0      0  211.3375   -1.0\n",
              "1            1   0.920000      1      2  151.5500   -1.0\n",
              "2            0   2.000000      1      2  151.5500   -1.0\n",
              "3            0  30.000000      1      2  151.5500  135.0\n",
              "4            0  25.000000      1      2  151.5500   -1.0\n",
              "...        ...        ...    ...    ...       ...    ...\n",
              "1304         0  14.500000      1      0   14.4542  328.0\n",
              "1305         0  29.881138      1      0   14.4542   -1.0\n",
              "1306         0  26.500000      0      0    7.2250  304.0\n",
              "1307         0  27.000000      0      0    7.2250   -1.0\n",
              "1308         0  29.000000      0      0    7.8750   -1.0\n",
              "\n",
              "[1309 rows x 6 columns]"
            ]
          },
          "metadata": {},
          "execution_count": 370
        }
      ],
      "source": [
        "data[\"body\"].fillna(-1, inplace=True)\n",
        "data"
      ]
    },
    {
      "cell_type": "markdown",
      "metadata": {
        "id": "se6wjmTCGC2B"
      },
      "source": [
        "#### 2.8 bodyに欠損値が無くなったことを確認してください。"
      ]
    },
    {
      "cell_type": "code",
      "execution_count": null,
      "metadata": {
        "colab": {
          "base_uri": "https://localhost:8080/"
        },
        "id": "x49RINlOGC2B",
        "outputId": "7cb73e99-c394-41e4-9044-15ef7d963e58"
      },
      "outputs": [
        {
          "output_type": "execute_result",
          "data": {
            "text/plain": [
              "0"
            ]
          },
          "metadata": {},
          "execution_count": 371
        }
      ],
      "source": [
        "data['body'].isnull().sum()\n"
      ]
    },
    {
      "cell_type": "markdown",
      "metadata": {
        "id": "Q3buuA2XGC2B"
      },
      "source": [
        "#### 2.9 fareの欠損値も補完する必要があります。「fare」の分布を確認して下さい。"
      ]
    },
    {
      "cell_type": "code",
      "execution_count": null,
      "metadata": {
        "colab": {
          "base_uri": "https://localhost:8080/",
          "height": 264
        },
        "id": "bQXg63XBGC2B",
        "outputId": "310ef676-6fad-4c47-8b50-3b9028f8ecc0"
      },
      "outputs": [
        {
          "output_type": "display_data",
          "data": {
            "image/png": "[encoded data removed]",
            "text/plain": [
              "<Figure size 432x288 with 1 Axes>"
            ]
          },
          "metadata": {
            "needs_background": "light"
          }
        }
      ],
      "source": [
        "fig = plt.figure()\n",
        "ax = fig.add_subplot(1,1,1)\n",
        "ax.hist(data[\"fare\"])\n",
        "plt.show()"
      ]
    },
    {
      "cell_type": "markdown",
      "metadata": {
        "id": "-q6DR-qYGC2B"
      },
      "source": [
        "#### 2.10 fareの欠損値は1件です。レコードを削除しても殆ど影響が無いので、削除してしまいましょう。1行減ったことを確認して下さい。"
      ]
    },
    {
      "cell_type": "code",
      "execution_count": null,
      "metadata": {
        "colab": {
          "base_uri": "https://localhost:8080/"
        },
        "id": "BpeeAnd5GC2B",
        "outputId": "9fb34fa1-c24a-4ab1-e90c-ea515c76e4c0"
      },
      "outputs": [
        {
          "output_type": "execute_result",
          "data": {
            "text/plain": [
              "(1308, 6)"
            ]
          },
          "metadata": {},
          "execution_count": 373
        }
      ],
      "source": [
        "data.dropna(subset=[\"fare\"], inplace=True)\n",
        "data.shape"
      ]
    },
    {
      "cell_type": "markdown",
      "metadata": {
        "id": "vcYAcMpJGC2B"
      },
      "source": [
        "#### 2.11 欠損値が無くなったことを確認して下さい。"
      ]
    },
    {
      "cell_type": "code",
      "execution_count": null,
      "metadata": {
        "colab": {
          "base_uri": "https://localhost:8080/"
        },
        "id": "WUaum6YwGC2B",
        "outputId": "4714f29f-0d37-49bc-f206-4ce3aa3703ac"
      },
      "outputs": [
        {
          "output_type": "execute_result",
          "data": {
            "text/plain": [
              "survived    False\n",
              "age         False\n",
              "sibsp       False\n",
              "parch       False\n",
              "fare        False\n",
              "body        False\n",
              "dtype: bool"
            ]
          },
          "metadata": {},
          "execution_count": 374
        }
      ],
      "source": [
        "data.isnull().any()"
      ]
    },
    {
      "cell_type": "markdown",
      "metadata": {
        "id": "7QhlgMWQGC2B"
      },
      "source": [
        "### 3. 特徴量の選別方法について学習します。（11問）"
      ]
    },
    {
      "cell_type": "markdown",
      "metadata": {
        "id": "3bpWks8IGC2B"
      },
      "source": [
        "#### 目的変数と説明変数の関連性の調査を行います。目的変数に対してどういう変数が影響力を持っているか、前もって調査しておくことは大切です。その方法について学んでいきましょう。今回の目的変数は「survived」です。生存：1、死亡：0となります。"
      ]
    },
    {
      "cell_type": "markdown",
      "metadata": {
        "id": "mpfQxD57GC2B"
      },
      "source": [
        "#### 3.1 「sibsp」のユニーク値毎に、生存割合を算出して下さい。※小数点3桁で表示して下さい。"
      ]
    },
    {
      "cell_type": "code",
      "execution_count": null,
      "metadata": {
        "colab": {
          "base_uri": "https://localhost:8080/"
        },
        "id": "Hkglem_lGC2B",
        "outputId": "0a203023-2971-4e37-8cbc-5e02514310b1"
      },
      "outputs": [
        {
          "output_type": "execute_result",
          "data": {
            "text/plain": [
              "sibsp\n",
              "0    0.347\n",
              "1    0.511\n",
              "2    0.452\n",
              "3    0.300\n",
              "4    0.136\n",
              "5    0.000\n",
              "8    0.000\n",
              "Name: survived, dtype: float64"
            ]
          },
          "metadata": {},
          "execution_count": 375
        }
      ],
      "source": [
        "data.groupby(\"sibsp\").mean()['survived'].round(3)"
      ]
    },
    {
      "cell_type": "markdown",
      "metadata": {
        "id": "mNah0PR2GC2B"
      },
      "source": [
        "#### 3.2 「parch」のユニーク値毎に、生存割合を算出してください。※小数点3桁で表示して下さい。"
      ]
    },
    {
      "cell_type": "code",
      "execution_count": null,
      "metadata": {
        "colab": {
          "base_uri": "https://localhost:8080/"
        },
        "id": "_CU0gGBkGC2B",
        "outputId": "48a08a22-5a6f-4964-8318-a1fade44d5f9"
      },
      "outputs": [
        {
          "output_type": "execute_result",
          "data": {
            "text/plain": [
              "parch\n",
              "0    0.336\n",
              "1    0.588\n",
              "2    0.504\n",
              "3    0.625\n",
              "4    0.167\n",
              "5    0.167\n",
              "6    0.000\n",
              "9    0.000\n",
              "Name: survived, dtype: float64"
            ]
          },
          "metadata": {},
          "execution_count": 376
        }
      ],
      "source": [
        "data.groupby('parch').mean()['survived'].round(3)"
      ]
    },
    {
      "cell_type": "markdown",
      "metadata": {
        "id": "9aH-JxQ9GC2B"
      },
      "source": [
        "#### 3.3 「parch」のユニーク値毎に、生存の件数を出力する下記グラフを出力してください。"
      ]
    },
    {
      "cell_type": "code",
      "execution_count": null,
      "metadata": {
        "colab": {
          "base_uri": "https://localhost:8080/"
        },
        "id": "4WCxvlohGC2B",
        "outputId": "01d2e705-09f9-42f5-cbe8-42149240e6cb"
      },
      "outputs": [
        {
          "output_type": "execute_result",
          "data": {
            "text/plain": [
              "<matplotlib.axes._subplots.AxesSubplot at 0x7f0a61f21810>"
            ]
          },
          "metadata": {},
          "execution_count": 377
        },
        {
          "output_type": "display_data",
          "data": {
            "text/plain": [
              "<Figure size 432x288 with 0 Axes>"
            ]
          },
          "metadata": {}
        },
        {
          "output_type": "display_data",
          "data": {
            "image/png": "[encoded data removed]",
            "text/plain": [
              "<Figure size 432x288 with 1 Axes>"
            ]
          },
          "metadata": {
            "needs_background": "light"
          }
        }
      ],
      "source": [
        "fig = plt.figure()\n",
        "\n",
        "parch_data = pd.crosstab(data['parch'],data['survived'])\n",
        "parch_data.plot.bar(stacked=True)\n"
      ]
    },
    {
      "cell_type": "markdown",
      "metadata": {
        "id": "g2iBo5ryGC2B"
      },
      "source": [
        "#### 3.4 「age」はユニーク数が多く、値をグルーピングする必要があります。値を「10」刻みでグループ化し、各グループ毎に生存割合を算出してください。"
      ]
    },
    {
      "cell_type": "code",
      "execution_count": null,
      "metadata": {
        "colab": {
          "base_uri": "https://localhost:8080/"
        },
        "id": "52jb1PnlGC2B",
        "outputId": "6abd4319-7691-4492-86ec-7b2e1094e9b2"
      },
      "outputs": [
        {
          "output_type": "execute_result",
          "data": {
            "text/plain": [
              "age\n",
              "(0, 10]      0.581\n",
              "(10, 20]     0.395\n",
              "(20, 30]     0.332\n",
              "(30, 40]     0.424\n",
              "(40, 50]     0.394\n",
              "(50, 60]     0.484\n",
              "(60, 70]     0.231\n",
              "(70, 80]     0.333\n",
              "(80, 90]       NaN\n",
              "(90, 100]      NaN\n",
              "Name: survived, dtype: float64"
            ]
          },
          "metadata": {},
          "execution_count": 378
        }
      ],
      "source": [
        "age_group = pd.cut(data['age'],[0,10,20,30,40,50,60,70,80,90,100])\n",
        "\n",
        "data.groupby(age_group).mean()[\"survived\"].round(3)"
      ]
    },
    {
      "cell_type": "markdown",
      "metadata": {
        "id": "czBm5DfXGC2C"
      },
      "source": [
        "#### 3.5「3.4」の生存の件数グラフを出力してください。"
      ]
    },
    {
      "cell_type": "code",
      "execution_count": null,
      "metadata": {
        "colab": {
          "base_uri": "https://localhost:8080/"
        },
        "id": "BJtcDwREGC2C",
        "outputId": "33aa621d-9c21-4430-c375-671233743744"
      },
      "outputs": [
        {
          "output_type": "execute_result",
          "data": {
            "text/plain": [
              "<matplotlib.axes._subplots.AxesSubplot at 0x7f0a61fd9a10>"
            ]
          },
          "metadata": {},
          "execution_count": 379
        },
        {
          "output_type": "display_data",
          "data": {
            "text/plain": [
              "<Figure size 432x288 with 0 Axes>"
            ]
          },
          "metadata": {}
        },
        {
          "output_type": "display_data",
          "data": {
            "image/png": "[encoded data removed]",
            "text/plain": [
              "<Figure size 432x288 with 1 Axes>"
            ]
          },
          "metadata": {
            "needs_background": "light"
          }
        }
      ],
      "source": [
        "fig = plt.figure()\n",
        "age_group = pd.cut(data['age'],[0,10,20,30,40,50,60,70,80,90,100])\n",
        "age_data = pd.crosstab(age_group,data['survived'])\n",
        "age_data.plot.bar(stacked=True)\n"
      ]
    },
    {
      "cell_type": "markdown",
      "metadata": {
        "id": "Gqzx4Q8NGC2C"
      },
      "source": [
        "#### 3.6 「fare」はユニーク数が多く、値をグルーピングする必要があります。値を昇順にして上から順番に「件数ができるだけ均等になるよう」グループ化を行い、各グループ毎に生存割合を算出してください。※値に重複があるので、完全に均等にする必要はありません。"
      ]
    },
    {
      "cell_type": "code",
      "execution_count": null,
      "metadata": {
        "colab": {
          "base_uri": "https://localhost:8080/"
        },
        "id": "sUG3YU6-GC2C",
        "outputId": "4d4f347b-9031-46a8-daa3-0b0d4f3274b5"
      },
      "outputs": [
        {
          "output_type": "execute_result",
          "data": {
            "text/plain": [
              "fare\n",
              "(-0.001, 7.854]      0.258\n",
              "(7.854, 10.5]        0.201\n",
              "(10.5, 21.679]       0.380\n",
              "(21.679, 41.579]     0.458\n",
              "(41.579, 512.329]    0.618\n",
              "Name: survived, dtype: float64"
            ]
          },
          "metadata": {},
          "execution_count": 380
        }
      ],
      "source": [
        "fare_group = pd.qcut(data[\"fare\"],5 )\n",
        "data.groupby(fare_group).mean()[\"survived\"].round(3)"
      ]
    },
    {
      "cell_type": "markdown",
      "metadata": {
        "id": "FE6BlmQ1GC2C"
      },
      "source": [
        "#### 3.7「3.6」の生存の件数グラフを出力してください。"
      ]
    },
    {
      "cell_type": "code",
      "execution_count": null,
      "metadata": {
        "colab": {
          "base_uri": "https://localhost:8080/"
        },
        "id": "gK1D0TaFGC2C",
        "outputId": "e0c0eecf-2d39-4534-918e-c4b5e776beca"
      },
      "outputs": [
        {
          "output_type": "execute_result",
          "data": {
            "text/plain": [
              "<matplotlib.axes._subplots.AxesSubplot at 0x7f0a621b6d10>"
            ]
          },
          "metadata": {},
          "execution_count": 381
        },
        {
          "output_type": "display_data",
          "data": {
            "text/plain": [
              "<Figure size 432x288 with 0 Axes>"
            ]
          },
          "metadata": {}
        },
        {
          "output_type": "display_data",
          "data": {
            "image/png": "[encoded data removed]",
            "text/plain": [
              "<Figure size 432x288 with 1 Axes>"
            ]
          },
          "metadata": {
            "needs_background": "light"
          }
        }
      ],
      "source": [
        "fig = plt.figure()\n",
        "fare_group = pd.qcut(data[\"fare\"],5 )\n",
        "fare_data = pd.crosstab(fare_group,data['survived'])\n",
        "fare_data.plot.bar(stacked=True)\n"
      ]
    },
    {
      "cell_type": "markdown",
      "metadata": {
        "id": "MLC7FPgbGC2C"
      },
      "source": [
        "#### 3.8 「body」はユニーク数が多く、値をグルーピングする必要があります。最大値と最小値の間を等間隔で5分割してください。"
      ]
    },
    {
      "cell_type": "code",
      "execution_count": null,
      "metadata": {
        "colab": {
          "base_uri": "https://localhost:8080/"
        },
        "id": "TfVknieyGC2C",
        "outputId": "6506b2a5-c366-4f69-b74d-a63551591b93"
      },
      "outputs": [
        {
          "output_type": "execute_result",
          "data": {
            "text/plain": [
              "body\n",
              "(-1.329, 64.8]    0.412\n",
              "(64.8, 130.6]     0.000\n",
              "(130.6, 196.4]    0.000\n",
              "(196.4, 262.2]    0.000\n",
              "(262.2, 328.0]    0.000\n",
              "Name: survived, dtype: float64"
            ]
          },
          "metadata": {},
          "execution_count": 382
        }
      ],
      "source": [
        "body_group = pd.cut(data[\"body\"],5)\n",
        "data.groupby(body_group).mean()[\"survived\"].round(3)"
      ]
    },
    {
      "cell_type": "markdown",
      "metadata": {
        "id": "sGPcovUHGC2C"
      },
      "source": [
        "#### 3.9「3.8」の生存の件数グラフを出力してください。"
      ]
    },
    {
      "cell_type": "code",
      "execution_count": null,
      "metadata": {
        "colab": {
          "base_uri": "https://localhost:8080/"
        },
        "id": "AmmfyTBWGC2C",
        "outputId": "adac447e-473f-490c-c3b2-85a37d4aab9b"
      },
      "outputs": [
        {
          "output_type": "execute_result",
          "data": {
            "text/plain": [
              "<matplotlib.axes._subplots.AxesSubplot at 0x7f0a61bf9050>"
            ]
          },
          "metadata": {},
          "execution_count": 383
        },
        {
          "output_type": "display_data",
          "data": {
            "text/plain": [
              "<Figure size 432x288 with 0 Axes>"
            ]
          },
          "metadata": {}
        },
        {
          "output_type": "display_data",
          "data": {
            "image/png": "[encoded data removed]",
            "text/plain": [
              "<Figure size 432x288 with 1 Axes>"
            ]
          },
          "metadata": {
            "needs_background": "light"
          }
        }
      ],
      "source": [
        "fig = plt.figure()\n",
        "body_group = pd.cut(data['body'],5)\n",
        "body_data = pd.crosstab(body_group,data['survived'])\n",
        "body_data.plot.bar(stacked=True)\n"
      ]
    },
    {
      "cell_type": "markdown",
      "metadata": {
        "id": "cv1fhMe8GC2C"
      },
      "source": [
        "#### 3.10 各変数間の相関係数を算出してください。"
      ]
    },
    {
      "cell_type": "code",
      "execution_count": null,
      "metadata": {
        "colab": {
          "base_uri": "https://localhost:8080/"
        },
        "id": "6qGmUaK_GC2C",
        "outputId": "dd4e4993-ff82-4d7d-deb5-54bd63841864"
      },
      "outputs": [
        {
          "output_type": "execute_result",
          "data": {
            "text/html": [
              "<div>\n",
              "<style scoped>\n",
              "    .dataframe tbody tr th:only-of-type {\n",
              "        vertical-align: middle;\n",
              "    }\n",
              "\n",
              "    .dataframe tbody tr th {\n",
              "        vertical-align: top;\n",
              "    }\n",
              "\n",
              "    .dataframe thead th {\n",
              "        text-align: right;\n",
              "    }\n",
              "</style>\n",
              "<table border=\"1\" class=\"dataframe\">\n",
              "  <thead>\n",
              "    <tr style=\"text-align: right;\">\n",
              "      <th></th>\n",
              "      <th>survived</th>\n",
              "      <th>age</th>\n",
              "      <th>sibsp</th>\n",
              "      <th>parch</th>\n",
              "      <th>fare</th>\n",
              "      <th>body</th>\n",
              "    </tr>\n",
              "  </thead>\n",
              "  <tbody>\n",
              "    <tr>\n",
              "      <th>survived</th>\n",
              "      <td>1.000000</td>\n",
              "      <td>-0.048887</td>\n",
              "      <td>-0.028122</td>\n",
              "      <td>0.082418</td>\n",
              "      <td>0.244265</td>\n",
              "      <td>-0.211151</td>\n",
              "    </tr>\n",
              "    <tr>\n",
              "      <th>age</th>\n",
              "      <td>-0.048887</td>\n",
              "      <td>1.000000</td>\n",
              "      <td>-0.190304</td>\n",
              "      <td>-0.130355</td>\n",
              "      <td>0.171893</td>\n",
              "      <td>0.136776</td>\n",
              "    </tr>\n",
              "    <tr>\n",
              "      <th>sibsp</th>\n",
              "      <td>-0.028122</td>\n",
              "      <td>-0.190304</td>\n",
              "      <td>1.000000</td>\n",
              "      <td>0.373485</td>\n",
              "      <td>0.160238</td>\n",
              "      <td>-0.051933</td>\n",
              "    </tr>\n",
              "    <tr>\n",
              "      <th>parch</th>\n",
              "      <td>0.082418</td>\n",
              "      <td>-0.130355</td>\n",
              "      <td>0.373485</td>\n",
              "      <td>1.000000</td>\n",
              "      <td>0.221539</td>\n",
              "      <td>-0.023011</td>\n",
              "    </tr>\n",
              "    <tr>\n",
              "      <th>fare</th>\n",
              "      <td>0.244265</td>\n",
              "      <td>0.171893</td>\n",
              "      <td>0.160238</td>\n",
              "      <td>0.221539</td>\n",
              "      <td>1.000000</td>\n",
              "      <td>-0.012274</td>\n",
              "    </tr>\n",
              "    <tr>\n",
              "      <th>body</th>\n",
              "      <td>-0.211151</td>\n",
              "      <td>0.136776</td>\n",
              "      <td>-0.051933</td>\n",
              "      <td>-0.023011</td>\n",
              "      <td>-0.012274</td>\n",
              "      <td>1.000000</td>\n",
              "    </tr>\n",
              "  </tbody>\n",
              "</table>\n",
              "</div>"
            ],
            "text/plain": [
              "          survived       age     sibsp     parch      fare      body\n",
              "survived  1.000000 -0.048887 -0.028122  0.082418  0.244265 -0.211151\n",
              "age      -0.048887  1.000000 -0.190304 -0.130355  0.171893  0.136776\n",
              "sibsp    -0.028122 -0.190304  1.000000  0.373485  0.160238 -0.051933\n",
              "parch     0.082418 -0.130355  0.373485  1.000000  0.221539 -0.023011\n",
              "fare      0.244265  0.171893  0.160238  0.221539  1.000000 -0.012274\n",
              "body     -0.211151  0.136776 -0.051933 -0.023011 -0.012274  1.000000"
            ]
          },
          "metadata": {},
          "execution_count": 384
        }
      ],
      "source": [
        "data.corr()"
      ]
    },
    {
      "cell_type": "markdown",
      "metadata": {
        "id": "7LyI-_6DGC2C"
      },
      "source": [
        "#### 3.11 「3.10」はこのままだと少し見辛いので、ヒートマップを作成してください。"
      ]
    },
    {
      "cell_type": "code",
      "execution_count": null,
      "metadata": {
        "colab": {
          "base_uri": "https://localhost:8080/"
        },
        "id": "uiHA0oMQGC2C",
        "outputId": "bebb3fb2-668f-4783-c68d-1d2ce60e32c1"
      },
      "outputs": [
        {
          "output_type": "execute_result",
          "data": {
            "text/html": [
              "<style  type=\"text/css\" >\n",
              "#T_fa32d6e0_59b0_11ec_a04b_0242ac1c0002row0_col0,#T_fa32d6e0_59b0_11ec_a04b_0242ac1c0002row1_col1,#T_fa32d6e0_59b0_11ec_a04b_0242ac1c0002row2_col2,#T_fa32d6e0_59b0_11ec_a04b_0242ac1c0002row3_col3,#T_fa32d6e0_59b0_11ec_a04b_0242ac1c0002row4_col4,#T_fa32d6e0_59b0_11ec_a04b_0242ac1c0002row5_col5{\n",
              "            background-color:  #023858;\n",
              "            color:  #f1f1f1;\n",
              "        }#T_fa32d6e0_59b0_11ec_a04b_0242ac1c0002row0_col1{\n",
              "            background-color:  #ede8f3;\n",
              "            color:  #000000;\n",
              "        }#T_fa32d6e0_59b0_11ec_a04b_0242ac1c0002row0_col2,#T_fa32d6e0_59b0_11ec_a04b_0242ac1c0002row1_col0{\n",
              "            background-color:  #eae6f1;\n",
              "            color:  #000000;\n",
              "        }#T_fa32d6e0_59b0_11ec_a04b_0242ac1c0002row0_col3{\n",
              "            background-color:  #dedcec;\n",
              "            color:  #000000;\n",
              "        }#T_fa32d6e0_59b0_11ec_a04b_0242ac1c0002row0_col4{\n",
              "            background-color:  #d0d1e6;\n",
              "            color:  #000000;\n",
              "        }#T_fa32d6e0_59b0_11ec_a04b_0242ac1c0002row0_col5,#T_fa32d6e0_59b0_11ec_a04b_0242ac1c0002row1_col2,#T_fa32d6e0_59b0_11ec_a04b_0242ac1c0002row1_col3,#T_fa32d6e0_59b0_11ec_a04b_0242ac1c0002row2_col1,#T_fa32d6e0_59b0_11ec_a04b_0242ac1c0002row5_col0,#T_fa32d6e0_59b0_11ec_a04b_0242ac1c0002row5_col4{\n",
              "            background-color:  #fff7fb;\n",
              "            color:  #000000;\n",
              "        }#T_fa32d6e0_59b0_11ec_a04b_0242ac1c0002row1_col4{\n",
              "            background-color:  #e0dded;\n",
              "            color:  #000000;\n",
              "        }#T_fa32d6e0_59b0_11ec_a04b_0242ac1c0002row1_col5{\n",
              "            background-color:  #c4cbe3;\n",
              "            color:  #000000;\n",
              "        }#T_fa32d6e0_59b0_11ec_a04b_0242ac1c0002row2_col0{\n",
              "            background-color:  #e7e3f0;\n",
              "            color:  #000000;\n",
              "        }#T_fa32d6e0_59b0_11ec_a04b_0242ac1c0002row2_col3{\n",
              "            background-color:  #89b1d4;\n",
              "            color:  #000000;\n",
              "        }#T_fa32d6e0_59b0_11ec_a04b_0242ac1c0002row2_col4{\n",
              "            background-color:  #e2dfee;\n",
              "            color:  #000000;\n",
              "        }#T_fa32d6e0_59b0_11ec_a04b_0242ac1c0002row2_col5{\n",
              "            background-color:  #ebe6f2;\n",
              "            color:  #000000;\n",
              "        }#T_fa32d6e0_59b0_11ec_a04b_0242ac1c0002row3_col0{\n",
              "            background-color:  #d2d2e7;\n",
              "            color:  #000000;\n",
              "        }#T_fa32d6e0_59b0_11ec_a04b_0242ac1c0002row3_col1{\n",
              "            background-color:  #f8f1f8;\n",
              "            color:  #000000;\n",
              "        }#T_fa32d6e0_59b0_11ec_a04b_0242ac1c0002row3_col2{\n",
              "            background-color:  #7eadd1;\n",
              "            color:  #000000;\n",
              "        }#T_fa32d6e0_59b0_11ec_a04b_0242ac1c0002row3_col4{\n",
              "            background-color:  #d4d4e8;\n",
              "            color:  #000000;\n",
              "        }#T_fa32d6e0_59b0_11ec_a04b_0242ac1c0002row3_col5{\n",
              "            background-color:  #e6e2ef;\n",
              "            color:  #000000;\n",
              "        }#T_fa32d6e0_59b0_11ec_a04b_0242ac1c0002row4_col0{\n",
              "            background-color:  #a5bddb;\n",
              "            color:  #000000;\n",
              "        }#T_fa32d6e0_59b0_11ec_a04b_0242ac1c0002row4_col1{\n",
              "            background-color:  #bfc9e1;\n",
              "            color:  #000000;\n",
              "        }#T_fa32d6e0_59b0_11ec_a04b_0242ac1c0002row4_col2{\n",
              "            background-color:  #c1cae2;\n",
              "            color:  #000000;\n",
              "        }#T_fa32d6e0_59b0_11ec_a04b_0242ac1c0002row4_col3{\n",
              "            background-color:  #bcc7e1;\n",
              "            color:  #000000;\n",
              "        }#T_fa32d6e0_59b0_11ec_a04b_0242ac1c0002row4_col5{\n",
              "            background-color:  #e3e0ee;\n",
              "            color:  #000000;\n",
              "        }#T_fa32d6e0_59b0_11ec_a04b_0242ac1c0002row5_col1{\n",
              "            background-color:  #c8cde4;\n",
              "            color:  #000000;\n",
              "        }#T_fa32d6e0_59b0_11ec_a04b_0242ac1c0002row5_col2{\n",
              "            background-color:  #eee8f3;\n",
              "            color:  #000000;\n",
              "        }#T_fa32d6e0_59b0_11ec_a04b_0242ac1c0002row5_col3{\n",
              "            background-color:  #f1ebf4;\n",
              "            color:  #000000;\n",
              "        }</style><table id=\"T_fa32d6e0_59b0_11ec_a04b_0242ac1c0002\" class=\"dataframe\"><thead>    <tr>        <th class=\"blank level0\" ></th>        <th class=\"col_heading level0 col0\" >survived</th>        <th class=\"col_heading level0 col1\" >age</th>        <th class=\"col_heading level0 col2\" >sibsp</th>        <th class=\"col_heading level0 col3\" >parch</th>        <th class=\"col_heading level0 col4\" >fare</th>        <th class=\"col_heading level0 col5\" >body</th>    </tr></thead><tbody>\n",
              "                <tr>\n",
              "                        <th id=\"T_fa32d6e0_59b0_11ec_a04b_0242ac1c0002level0_row0\" class=\"row_heading level0 row0\" >survived</th>\n",
              "                        <td id=\"T_fa32d6e0_59b0_11ec_a04b_0242ac1c0002row0_col0\" class=\"data row0 col0\" >1.000000</td>\n",
              "                        <td id=\"T_fa32d6e0_59b0_11ec_a04b_0242ac1c0002row0_col1\" class=\"data row0 col1\" >-0.048887</td>\n",
              "                        <td id=\"T_fa32d6e0_59b0_11ec_a04b_0242ac1c0002row0_col2\" class=\"data row0 col2\" >-0.028122</td>\n",
              "                        <td id=\"T_fa32d6e0_59b0_11ec_a04b_0242ac1c0002row0_col3\" class=\"data row0 col3\" >0.082418</td>\n",
              "                        <td id=\"T_fa32d6e0_59b0_11ec_a04b_0242ac1c0002row0_col4\" class=\"data row0 col4\" >0.244265</td>\n",
              "                        <td id=\"T_fa32d6e0_59b0_11ec_a04b_0242ac1c0002row0_col5\" class=\"data row0 col5\" >-0.211151</td>\n",
              "            </tr>\n",
              "            <tr>\n",
              "                        <th id=\"T_fa32d6e0_59b0_11ec_a04b_0242ac1c0002level0_row1\" class=\"row_heading level0 row1\" >age</th>\n",
              "                        <td id=\"T_fa32d6e0_59b0_11ec_a04b_0242ac1c0002row1_col0\" class=\"data row1 col0\" >-0.048887</td>\n",
              "                        <td id=\"T_fa32d6e0_59b0_11ec_a04b_0242ac1c0002row1_col1\" class=\"data row1 col1\" >1.000000</td>\n",
              "                        <td id=\"T_fa32d6e0_59b0_11ec_a04b_0242ac1c0002row1_col2\" class=\"data row1 col2\" >-0.190304</td>\n",
              "                        <td id=\"T_fa32d6e0_59b0_11ec_a04b_0242ac1c0002row1_col3\" class=\"data row1 col3\" >-0.130355</td>\n",
              "                        <td id=\"T_fa32d6e0_59b0_11ec_a04b_0242ac1c0002row1_col4\" class=\"data row1 col4\" >0.171893</td>\n",
              "                        <td id=\"T_fa32d6e0_59b0_11ec_a04b_0242ac1c0002row1_col5\" class=\"data row1 col5\" >0.136776</td>\n",
              "            </tr>\n",
              "            <tr>\n",
              "                        <th id=\"T_fa32d6e0_59b0_11ec_a04b_0242ac1c0002level0_row2\" class=\"row_heading level0 row2\" >sibsp</th>\n",
              "                        <td id=\"T_fa32d6e0_59b0_11ec_a04b_0242ac1c0002row2_col0\" class=\"data row2 col0\" >-0.028122</td>\n",
              "                        <td id=\"T_fa32d6e0_59b0_11ec_a04b_0242ac1c0002row2_col1\" class=\"data row2 col1\" >-0.190304</td>\n",
              "                        <td id=\"T_fa32d6e0_59b0_11ec_a04b_0242ac1c0002row2_col2\" class=\"data row2 col2\" >1.000000</td>\n",
              "                        <td id=\"T_fa32d6e0_59b0_11ec_a04b_0242ac1c0002row2_col3\" class=\"data row2 col3\" >0.373485</td>\n",
              "                        <td id=\"T_fa32d6e0_59b0_11ec_a04b_0242ac1c0002row2_col4\" class=\"data row2 col4\" >0.160238</td>\n",
              "                        <td id=\"T_fa32d6e0_59b0_11ec_a04b_0242ac1c0002row2_col5\" class=\"data row2 col5\" >-0.051933</td>\n",
              "            </tr>\n",
              "            <tr>\n",
              "                        <th id=\"T_fa32d6e0_59b0_11ec_a04b_0242ac1c0002level0_row3\" class=\"row_heading level0 row3\" >parch</th>\n",
              "                        <td id=\"T_fa32d6e0_59b0_11ec_a04b_0242ac1c0002row3_col0\" class=\"data row3 col0\" >0.082418</td>\n",
              "                        <td id=\"T_fa32d6e0_59b0_11ec_a04b_0242ac1c0002row3_col1\" class=\"data row3 col1\" >-0.130355</td>\n",
              "                        <td id=\"T_fa32d6e0_59b0_11ec_a04b_0242ac1c0002row3_col2\" class=\"data row3 col2\" >0.373485</td>\n",
              "                        <td id=\"T_fa32d6e0_59b0_11ec_a04b_0242ac1c0002row3_col3\" class=\"data row3 col3\" >1.000000</td>\n",
              "                        <td id=\"T_fa32d6e0_59b0_11ec_a04b_0242ac1c0002row3_col4\" class=\"data row3 col4\" >0.221539</td>\n",
              "                        <td id=\"T_fa32d6e0_59b0_11ec_a04b_0242ac1c0002row3_col5\" class=\"data row3 col5\" >-0.023011</td>\n",
              "            </tr>\n",
              "            <tr>\n",
              "                        <th id=\"T_fa32d6e0_59b0_11ec_a04b_0242ac1c0002level0_row4\" class=\"row_heading level0 row4\" >fare</th>\n",
              "                        <td id=\"T_fa32d6e0_59b0_11ec_a04b_0242ac1c0002row4_col0\" class=\"data row4 col0\" >0.244265</td>\n",
              "                        <td id=\"T_fa32d6e0_59b0_11ec_a04b_0242ac1c0002row4_col1\" class=\"data row4 col1\" >0.171893</td>\n",
              "                        <td id=\"T_fa32d6e0_59b0_11ec_a04b_0242ac1c0002row4_col2\" class=\"data row4 col2\" >0.160238</td>\n",
              "                        <td id=\"T_fa32d6e0_59b0_11ec_a04b_0242ac1c0002row4_col3\" class=\"data row4 col3\" >0.221539</td>\n",
              "                        <td id=\"T_fa32d6e0_59b0_11ec_a04b_0242ac1c0002row4_col4\" class=\"data row4 col4\" >1.000000</td>\n",
              "                        <td id=\"T_fa32d6e0_59b0_11ec_a04b_0242ac1c0002row4_col5\" class=\"data row4 col5\" >-0.012274</td>\n",
              "            </tr>\n",
              "            <tr>\n",
              "                        <th id=\"T_fa32d6e0_59b0_11ec_a04b_0242ac1c0002level0_row5\" class=\"row_heading level0 row5\" >body</th>\n",
              "                        <td id=\"T_fa32d6e0_59b0_11ec_a04b_0242ac1c0002row5_col0\" class=\"data row5 col0\" >-0.211151</td>\n",
              "                        <td id=\"T_fa32d6e0_59b0_11ec_a04b_0242ac1c0002row5_col1\" class=\"data row5 col1\" >0.136776</td>\n",
              "                        <td id=\"T_fa32d6e0_59b0_11ec_a04b_0242ac1c0002row5_col2\" class=\"data row5 col2\" >-0.051933</td>\n",
              "                        <td id=\"T_fa32d6e0_59b0_11ec_a04b_0242ac1c0002row5_col3\" class=\"data row5 col3\" >-0.023011</td>\n",
              "                        <td id=\"T_fa32d6e0_59b0_11ec_a04b_0242ac1c0002row5_col4\" class=\"data row5 col4\" >-0.012274</td>\n",
              "                        <td id=\"T_fa32d6e0_59b0_11ec_a04b_0242ac1c0002row5_col5\" class=\"data row5 col5\" >1.000000</td>\n",
              "            </tr>\n",
              "    </tbody></table>"
            ],
            "text/plain": [
              "<pandas.io.formats.style.Styler at 0x7f0a6e4dd9d0>"
            ]
          },
          "metadata": {},
          "execution_count": 385
        }
      ],
      "source": [
        "data.corr().style.background_gradient()"
      ]
    },
    {
      "cell_type": "markdown",
      "metadata": {
        "id": "v2HcVITGGC2C"
      },
      "source": [
        "### 4. 学習データと検証データに分割する方法を学習します。（3問）"
      ]
    },
    {
      "cell_type": "markdown",
      "metadata": {
        "id": "wVSsw7IwGC2C"
      },
      "source": [
        "#### 先程のフェーズでは、全て数値データに変換し、今回予測する「生存」との関連性を評価しました。今フェーズはモデルの作成の為の最終準備です。未知のデータに対する予測値を算出したいので、学習に使用するデータと検証に使用するデータを分割し、擬似的に未知データを作り出します。"
      ]
    },
    {
      "cell_type": "markdown",
      "metadata": {
        "id": "XbuWSG5fGC2C"
      },
      "source": [
        "#### 4.1 決定木のライブラリをインポートして下さい。"
      ]
    },
    {
      "cell_type": "code",
      "execution_count": null,
      "metadata": {
        "id": "wH9LA_EtGC2C"
      },
      "outputs": [],
      "source": [
        "from sklearn import tree"
      ]
    },
    {
      "cell_type": "markdown",
      "metadata": {
        "id": "YRe6Z7MCGC2C"
      },
      "source": [
        "#### 4.2 説明変数と目的変数を分けて、それぞれ「X」,「y」と言う変数名に格納し、カラム名を確認して下さい。"
      ]
    },
    {
      "cell_type": "code",
      "execution_count": null,
      "metadata": {
        "colab": {
          "base_uri": "https://localhost:8080/"
        },
        "id": "7iYbiU5EGC2C",
        "outputId": "1171862f-53b3-4aec-f192-8afa1e22fe0a"
      },
      "outputs": [
        {
          "output_type": "stream",
          "name": "stdout",
          "text": [
            "(1308, 5)\n",
            "(1308,)\n"
          ]
        }
      ],
      "source": [
        "X = data.drop(\"survived\",axis=1)\n",
        "y = data[\"survived\"]\n",
        "print(X.shape)\n",
        "print(y.shape)"
      ]
    },
    {
      "cell_type": "markdown",
      "metadata": {
        "id": "PePPdyABGC2C"
      },
      "source": [
        "#### 4.3 説明変数、目的変数をそれぞれ学習データと検証データを7:3の割合で作成して下さい。変数名はX_train（説明変数の学習データ）, X_test（説明変数の検証データ）, y_train（目的変数の学習データ）, y_test（目的変数の検証データ）として下さい。その際インデックスのシャッフルはしないようにして、各変数の上5行を確認して下さい。"
      ]
    },
    {
      "cell_type": "code",
      "execution_count": null,
      "metadata": {
        "colab": {
          "base_uri": "https://localhost:8080/"
        },
        "id": "-z_jrDdXGC2C",
        "outputId": "91a57c6e-1c16-4ffd-a607-ea919a620193"
      },
      "outputs": [
        {
          "output_type": "stream",
          "name": "stdout",
          "text": [
            "     age  sibsp  parch      fare   body\n",
            "0  29.00      0      0  211.3375   -1.0\n",
            "1   0.92      1      2  151.5500   -1.0\n",
            "2   2.00      1      2  151.5500   -1.0\n",
            "3  30.00      1      2  151.5500  135.0\n",
            "4  25.00      1      2  151.5500   -1.0\n",
            "           age  sibsp  parch     fare  body\n",
            "915  22.000000      0      0   7.5208  -1.0\n",
            "916   4.000000      0      1  13.4167  -1.0\n",
            "917  39.000000      0      1  13.4167  -1.0\n",
            "918  29.881138      0      0   7.2292  -1.0\n",
            "919  18.500000      0      0   7.2292  58.0\n",
            "0    1\n",
            "1    1\n",
            "2    0\n",
            "3    0\n",
            "4    0\n",
            "Name: survived, dtype: int64\n",
            "915    0\n",
            "916    1\n",
            "917    1\n",
            "918    0\n",
            "919    0\n",
            "Name: survived, dtype: int64\n"
          ]
        }
      ],
      "source": [
        "X_train, X_test = train_test_split(X, test_size=0.3, shuffle=False)\n",
        "y_train, y_test = train_test_split(y, test_size=0.3, shuffle=False)\n",
        "\n",
        "print(X_train.head(5))\n",
        "print(X_test.head(5))\n",
        "print(y_train.head(5))\n",
        "print(y_test.head(5))"
      ]
    },
    {
      "cell_type": "markdown",
      "metadata": {
        "id": "vfGOQlVlGC2C"
      },
      "source": [
        "### 5. モデリング方法について学習します。（23問）"
      ]
    },
    {
      "cell_type": "markdown",
      "metadata": {
        "id": "ZAlUqf9DGC2C"
      },
      "source": [
        "#### この章では、決定木モデルを例にして機械学習の一般的なフロー（パラメータチューニング、特徴量の追加、評価指標）を学習します。（モデルを作成するときはrandom_state=0を指定してください。）"
      ]
    },
    {
      "cell_type": "markdown",
      "metadata": {
        "id": "73n6DohnGC2D"
      },
      "source": [
        "#### 5.1 分類木を読み込んで、decision_treeと言う名前を付け、引数random_stateのみ「0」を指定し、下記のような決定木のパラメータ値を出力してください。※random_stateに数字を入れることで、結果を固定することができます。"
      ]
    },
    {
      "cell_type": "code",
      "execution_count": null,
      "metadata": {
        "colab": {
          "base_uri": "https://localhost:8080/"
        },
        "id": "sc2Ttv5nGC2D",
        "outputId": "6fa42f78-9f20-4232-af9b-beac9d8f1bb6"
      },
      "outputs": [
        {
          "output_type": "execute_result",
          "data": {
            "text/plain": [
              "DecisionTreeClassifier(random_state=0)"
            ]
          },
          "metadata": {},
          "execution_count": 389
        }
      ],
      "source": [
        "decision_tree = tree.DecisionTreeClassifier(random_state=0)\n",
        "decision_tree"
      ]
    },
    {
      "cell_type": "markdown",
      "metadata": {
        "id": "ie8DNGLvGC2D"
      },
      "source": [
        "#### 5.2 fit関数を使い、学習データを使用して決定木を作成して下さい。※ここが「学習」と呼ばれる処理になります。"
      ]
    },
    {
      "cell_type": "code",
      "execution_count": null,
      "metadata": {
        "colab": {
          "base_uri": "https://localhost:8080/"
        },
        "id": "Q3bg0S7CGC2D",
        "outputId": "c59f7fc0-425a-47ac-c7c8-a32d43818e8e"
      },
      "outputs": [
        {
          "output_type": "stream",
          "name": "stdout",
          "text": [
            "DecisionTreeClassifier(random_state=0)\n"
          ]
        }
      ],
      "source": [
        "decision_tree = decision_tree.fit(X_train, y_train)\n",
        "print(decision_tree)"
      ]
    },
    {
      "cell_type": "markdown",
      "metadata": {
        "id": "NuF0h9IGGC2D"
      },
      "source": [
        "#### 5.3 「5.2」で決定木は作成できました。作成した決定木を用いて、新規データ（X_test）に対する予測値を出力してください。※ここが「予測」と呼ばれる処理になります。"
      ]
    },
    {
      "cell_type": "code",
      "execution_count": null,
      "metadata": {
        "colab": {
          "base_uri": "https://localhost:8080/"
        },
        "id": "IsVN-5AdGC2D",
        "outputId": "60b3fd26-cf7f-414f-c3e5-eeae8390c1fb"
      },
      "outputs": [
        {
          "output_type": "execute_result",
          "data": {
            "text/plain": [
              "array([0, 1, 1, 0, 0, 0, 0, 0, 0, 0, 0, 0, 0, 0, 0, 0, 0, 0, 0, 1, 1, 0,\n",
              "       1, 1, 1, 0, 0, 0, 0, 0, 1, 1, 0, 0, 1, 1, 0, 1, 0, 1, 1, 1, 1, 1,\n",
              "       1, 0, 0, 0, 0, 0, 0, 0, 1, 0, 0, 0, 1, 1, 0, 0, 0, 0, 1, 0, 0, 0,\n",
              "       0, 0, 0, 0, 0, 0, 1, 0, 0, 1, 0, 0, 0, 0, 0, 0, 0, 0, 0, 0, 1, 1,\n",
              "       1, 0, 0, 1, 0, 0, 0, 1, 0, 0, 0, 0, 0, 0, 0, 0, 0, 0, 0, 0, 1, 0,\n",
              "       1, 1, 0, 0, 0, 0, 0, 0, 0, 0, 0, 0, 0, 0, 0, 0, 0, 0, 0, 0, 0, 0,\n",
              "       0, 1, 1, 1, 0, 0, 0, 0, 0, 1, 1, 1, 0, 0, 0, 0, 0, 0, 1, 0, 1, 0,\n",
              "       0, 0, 0, 0, 0, 0, 0, 0, 0, 1, 1, 0, 0, 1, 0, 0, 0, 0, 0, 0, 0, 0,\n",
              "       0, 0, 0, 0, 0, 1, 1, 1, 1, 0, 0, 0, 0, 0, 0, 1, 0, 0, 0, 1, 1, 1,\n",
              "       1, 0, 0, 0, 0, 0, 0, 0, 0, 0, 1, 0, 0, 0, 0, 0, 0, 0, 1, 0, 0, 0,\n",
              "       0, 1, 0, 0, 0, 0, 0, 0, 0, 0, 0, 0, 1, 0, 0, 0, 0, 0, 0, 0, 0, 1,\n",
              "       1, 1, 0, 0, 0, 0, 1, 0, 0, 0, 0, 0, 0, 1, 0, 1, 1, 1, 1, 1, 1, 1,\n",
              "       1, 1, 0, 1, 0, 1, 1, 1, 1, 1, 1, 0, 0, 0, 0, 0, 0, 1, 0, 0, 0, 0,\n",
              "       0, 0, 0, 0, 1, 1, 0, 0, 1, 0, 1, 0, 0, 0, 0, 0, 1, 0, 0, 1, 0, 0,\n",
              "       1, 0, 0, 0, 0, 0, 1, 0, 0, 0, 0, 0, 0, 0, 0, 0, 0, 0, 0, 0, 1, 0,\n",
              "       0, 0, 1, 0, 0, 0, 0, 0, 0, 0, 0, 0, 0, 0, 0, 0, 0, 0, 0, 1, 0, 0,\n",
              "       1, 0, 1, 1, 0, 1, 1, 1, 0, 0, 0, 0, 0, 1, 0, 0, 0, 0, 0, 0, 0, 0,\n",
              "       0, 0, 0, 0, 0, 0, 0, 0, 0, 0, 0, 0, 0, 0, 0, 0, 0, 0, 1])"
            ]
          },
          "metadata": {},
          "execution_count": 391
        }
      ],
      "source": [
        "predicted = decision_tree.predict(X_test)\n",
        "predicted"
      ]
    },
    {
      "cell_type": "markdown",
      "metadata": {
        "id": "fq8_BdP3GC2D"
      },
      "source": [
        "#### 5.4 精度を確認していきましょう。学習データに使用しなかった「目的変数の検証データ（y_test）」を使用して、正解率を算出してください。"
      ]
    },
    {
      "cell_type": "code",
      "execution_count": null,
      "metadata": {
        "colab": {
          "base_uri": "https://localhost:8080/"
        },
        "id": "hptLKkg-GC2D",
        "outputId": "cf15bdab-6df5-40e6-ffe5-0614f45a7571"
      },
      "outputs": [
        {
          "output_type": "execute_result",
          "data": {
            "text/plain": [
              "0.6615776081424937"
            ]
          },
          "metadata": {},
          "execution_count": 392
        }
      ],
      "source": [
        "accuracy_score(y_test, predicted)"
      ]
    },
    {
      "cell_type": "markdown",
      "metadata": {
        "id": "SwvFKQH7GC2D"
      },
      "source": [
        "#### 5.5 今回の結果の混合行列を出力してください。"
      ]
    },
    {
      "cell_type": "code",
      "execution_count": null,
      "metadata": {
        "colab": {
          "base_uri": "https://localhost:8080/"
        },
        "id": "xxJg7WfyGC2D",
        "outputId": "d1c59b33-c7ca-4b8d-9cd9-e2aa02f89a70"
      },
      "outputs": [
        {
          "output_type": "execute_result",
          "data": {
            "text/plain": [
              "array([[228,  65],\n",
              "       [ 68,  32]])"
            ]
          },
          "metadata": {},
          "execution_count": 393
        }
      ],
      "source": [
        "confusion_matrix(y_test, predicted)"
      ]
    },
    {
      "cell_type": "markdown",
      "metadata": {
        "id": "2u78hOhnGC2D"
      },
      "source": [
        "#### 5.6 正解率は算出できましたが、まだまだ向上の余地がありそうです。「max_depth」を「4」に設定して正解率を算出し直しましょう。"
      ]
    },
    {
      "cell_type": "code",
      "execution_count": null,
      "metadata": {
        "colab": {
          "base_uri": "https://localhost:8080/"
        },
        "id": "nAtG5FULGC2D",
        "outputId": "7bfec7fa-77a9-49b9-f065-d43299c688c2"
      },
      "outputs": [
        {
          "output_type": "execute_result",
          "data": {
            "text/plain": [
              "0.6870229007633588"
            ]
          },
          "metadata": {},
          "execution_count": 394
        }
      ],
      "source": [
        "decision_tree = tree.DecisionTreeClassifier(random_state=0, max_depth=4)\n",
        "decision_tree = decision_tree.fit(X_train, y_train)\n",
        "predicted2 = decision_tree.predict(X_test)\n",
        "accuracy_score(y_test, predicted2)"
      ]
    },
    {
      "cell_type": "markdown",
      "metadata": {
        "id": "1YIv8LuEGC2D"
      },
      "source": [
        "#### 5.7 やや正解率が向上したようです。混合行列も確認してみましょう。"
      ]
    },
    {
      "cell_type": "code",
      "execution_count": null,
      "metadata": {
        "colab": {
          "base_uri": "https://localhost:8080/"
        },
        "id": "3AOoW0nLGC2D",
        "outputId": "4fbea032-8015-4390-fa8c-06d1a9d89bcd"
      },
      "outputs": [
        {
          "output_type": "execute_result",
          "data": {
            "text/plain": [
              "array([[263,  30],\n",
              "       [ 93,   7]])"
            ]
          },
          "metadata": {},
          "execution_count": 395
        }
      ],
      "source": [
        "confusion_matrix(y_test, predicted2)"
      ]
    },
    {
      "cell_type": "markdown",
      "metadata": {
        "id": "LWYJycYlGC2D"
      },
      "source": [
        "#### 5.8 様々なパラメータを試す余地がありそうです。2～6までの順続きのリストを作成し、「min_samples_split_list」と名前を付けて下さい。"
      ]
    },
    {
      "cell_type": "code",
      "execution_count": null,
      "metadata": {
        "colab": {
          "base_uri": "https://localhost:8080/"
        },
        "id": "WD_Whg2JGC2D",
        "outputId": "7c912f48-cdba-48ef-dcd9-eca0b5826d34"
      },
      "outputs": [
        {
          "output_type": "execute_result",
          "data": {
            "text/plain": [
              "array([2, 3, 4, 5, 6])"
            ]
          },
          "metadata": {},
          "execution_count": 396
        }
      ],
      "source": [
        "min_samples_split_list = np.arange(2,7)\n",
        "min_samples_split_list"
      ]
    },
    {
      "cell_type": "markdown",
      "metadata": {
        "id": "KtErRua8GC2D"
      },
      "source": [
        "#### 5.9 for文を使用し、「5.8」で作成したリストの要素分、「min_samples_split」を試して下さい。※「min_samples_split」とは、分岐に必要な最小サンプル数のことです。過学習を抑制するために使用されます。"
      ]
    },
    {
      "cell_type": "code",
      "execution_count": null,
      "metadata": {
        "colab": {
          "base_uri": "https://localhost:8080/"
        },
        "id": "LQQPN0FJGC2D",
        "outputId": "f321b971-c9aa-4a18-fda7-3d6153253bdc"
      },
      "outputs": [
        {
          "output_type": "stream",
          "name": "stdout",
          "text": [
            "2 0.6615776081424937\n",
            "3 0.6641221374045801\n",
            "4 0.6437659033078881\n",
            "5 0.6513994910941476\n",
            "6 0.6590330788804071\n"
          ]
        }
      ],
      "source": [
        "for min_samples_split in min_samples_split_list:\n",
        "  decision_tree = tree.DecisionTreeClassifier(min_samples_split=min_samples_split, random_state=0)\n",
        "  decision_tree = decision_tree.fit(X_train, y_train)\n",
        "  predicted = decision_tree.predict(X_test)\n",
        "  print(min_samples_split,accuracy_score(y_test, predicted))"
      ]
    },
    {
      "cell_type": "markdown",
      "metadata": {
        "id": "d9VsXrJtGC2D"
      },
      "source": [
        "#### 5.10 大きな効果は確認できませんでした。他のパラメータも試してみましょう。0～0.1まで、0.02刻みのリストを作成し、「min_impurity_decrease_list」と名前を付けて下さい。"
      ]
    },
    {
      "cell_type": "code",
      "execution_count": null,
      "metadata": {
        "colab": {
          "base_uri": "https://localhost:8080/"
        },
        "id": "-0RcKc4GGC2D",
        "outputId": "4f316978-124a-4b4f-f1ac-55a9b19ff13a"
      },
      "outputs": [
        {
          "output_type": "execute_result",
          "data": {
            "text/plain": [
              "array([0.  , 0.02, 0.04, 0.06, 0.08])"
            ]
          },
          "metadata": {},
          "execution_count": 398
        }
      ],
      "source": [
        "min_impurity_decrease_list = np.arange(0,0.1,0.02)\n",
        "min_impurity_decrease_list"
      ]
    },
    {
      "cell_type": "markdown",
      "metadata": {
        "id": "CYO6u-FoGC2D"
      },
      "source": [
        "#### 5.11 for文を使用し、「5.10」で作成したリストの要素分、「min_impurity_decrease」を試して下さい。※「min_impurity_decrease」とは、分岐をどこで止めるかの判断指標です。大きな値にすると、過学習が抑制されます。"
      ]
    },
    {
      "cell_type": "code",
      "execution_count": null,
      "metadata": {
        "colab": {
          "base_uri": "https://localhost:8080/"
        },
        "id": "ZznetG_MGC2D",
        "outputId": "3f20db94-505f-4c05-c319-2329647d1080"
      },
      "outputs": [
        {
          "output_type": "stream",
          "name": "stdout",
          "text": [
            "0.0 0.6615776081424937\n",
            "0.02 0.6437659033078881\n",
            "0.04 0.628498727735369\n",
            "0.06 0.7455470737913485\n",
            "0.08 0.7455470737913485\n"
          ]
        }
      ],
      "source": [
        "for min_impurity_decrease in min_impurity_decrease_list:\n",
        "  decision_tree = tree.DecisionTreeClassifier(min_impurity_decrease=min_impurity_decrease, random_state=0)\n",
        "  decision_tree = decision_tree.fit(X_train, y_train)\n",
        "  predicted = decision_tree.predict(X_test)\n",
        "  print(min_impurity_decrease,accuracy_score(y_test, predicted))"
      ]
    },
    {
      "cell_type": "markdown",
      "metadata": {
        "id": "-HTfPp_TGC2D"
      },
      "source": [
        "#### 5.12 正解率は「min_impurity_decrease」が0.06以上で向上していることが確認できますが、本当にこれで大丈夫でしょうか。混合行列を確認してきましょう。"
      ]
    },
    {
      "cell_type": "code",
      "execution_count": null,
      "metadata": {
        "colab": {
          "base_uri": "https://localhost:8080/"
        },
        "id": "ATZnYxkcGC2D",
        "outputId": "c56476be-df8f-4894-f263-9597b37405b7"
      },
      "outputs": [
        {
          "output_type": "execute_result",
          "data": {
            "text/plain": [
              "array([[293,   0],\n",
              "       [100,   0]])"
            ]
          },
          "metadata": {},
          "execution_count": 400
        }
      ],
      "source": [
        "confusion_matrix(y_test, predicted)"
      ]
    },
    {
      "cell_type": "markdown",
      "metadata": {
        "id": "Gnxwj8QtGC2D"
      },
      "source": [
        "#### 5.13 全ての人に対し「0＝死亡」と予測してしまっているようです。正解率ではなく他の指標も確認してきましょう。適合率を算出して下さい。※適合率は生存と予測された人間のうち正解した人間の割合のことです。"
      ]
    },
    {
      "cell_type": "code",
      "execution_count": null,
      "metadata": {
        "colab": {
          "base_uri": "https://localhost:8080/"
        },
        "id": "MqYzxcoZGC2D",
        "outputId": "04a8a7ec-eb9f-4cfb-80e0-8aea949b7e1b"
      },
      "outputs": [
        {
          "output_type": "execute_result",
          "data": {
            "text/plain": [
              "0.0"
            ]
          },
          "metadata": {},
          "execution_count": 401
        }
      ],
      "source": [
        "from sklearn.metrics import precision_score\n",
        "precision_score(y_test, predicted)"
      ]
    },
    {
      "cell_type": "markdown",
      "metadata": {
        "id": "SEUmS8i8GC2D"
      },
      "source": [
        "#### 5.14 再現率を算出して下さい。※再現率は生存した人間のうち正解した人間の割合のことです。"
      ]
    },
    {
      "cell_type": "code",
      "execution_count": null,
      "metadata": {
        "colab": {
          "base_uri": "https://localhost:8080/"
        },
        "id": "4t2euAL2GC2D",
        "outputId": "921f214f-6aba-4cc9-ab46-0d3d1c50c01b"
      },
      "outputs": [
        {
          "output_type": "execute_result",
          "data": {
            "text/plain": [
              "0.0"
            ]
          },
          "metadata": {},
          "execution_count": 402
        }
      ],
      "source": [
        "from sklearn.metrics import recall_score\n",
        "recall_score(y_test, predicted)"
      ]
    },
    {
      "cell_type": "markdown",
      "metadata": {
        "id": "uLdy58vjGC2E"
      },
      "source": [
        "#### 5.15 F値を算出して下さい。※F値（F1-measure）は適合率と再現率の調和平均のことです。"
      ]
    },
    {
      "cell_type": "code",
      "execution_count": null,
      "metadata": {
        "colab": {
          "base_uri": "https://localhost:8080/"
        },
        "id": "cGi9Wxo8GC2E",
        "outputId": "65edd359-b7a9-4d0f-90e6-5d9fe6b47f06"
      },
      "outputs": [
        {
          "output_type": "execute_result",
          "data": {
            "text/plain": [
              "0.0"
            ]
          },
          "metadata": {},
          "execution_count": 403
        }
      ],
      "source": [
        "from sklearn.metrics import f1_score\n",
        "f1_score(y_test, predicted)"
      ]
    },
    {
      "cell_type": "markdown",
      "metadata": {
        "id": "pmK7uIHlGC2E"
      },
      "source": [
        "#### 5.16 生存していた人を評価する指標だと軒並み「0」になってしまうことが確認できました。正解率は分かりやすい指標ですが、今回のように「生存」と「死亡」の割合に差があるケースだと、間違った示唆を生み出してしまう可能性があります。それでは、「5.9」と「5.11」のリストの組み合わせ分、F値を算出して下さい。"
      ]
    },
    {
      "cell_type": "code",
      "execution_count": null,
      "metadata": {
        "colab": {
          "base_uri": "https://localhost:8080/"
        },
        "id": "7bGN3T3FGC2E",
        "outputId": "73f2f3f9-ff5b-4425-c64e-f16347ef05b1"
      },
      "outputs": [
        {
          "output_type": "stream",
          "name": "stdout",
          "text": [
            "2 0.0 0.32487309644670054\n",
            "2 0.02 0.21348314606741575\n",
            "2 0.04 0.20652173913043478\n",
            "2 0.06 0.0\n",
            "2 0.08 0.0\n",
            "3 0.0 0.29787234042553196\n",
            "3 0.02 0.21348314606741575\n",
            "3 0.04 0.20652173913043478\n",
            "3 0.06 0.0\n",
            "3 0.08 0.0\n",
            "4 0.0 0.3137254901960784\n",
            "4 0.02 0.21348314606741575\n",
            "4 0.04 0.20652173913043478\n",
            "4 0.06 0.0\n",
            "4 0.08 0.0\n",
            "5 0.0 0.33170731707317075\n",
            "5 0.02 0.21348314606741575\n",
            "5 0.04 0.20652173913043478\n",
            "5 0.06 0.0\n",
            "5 0.08 0.0\n",
            "6 0.0 0.3163265306122449\n",
            "6 0.02 0.21348314606741575\n",
            "6 0.04 0.20652173913043478\n",
            "6 0.06 0.0\n",
            "6 0.08 0.0\n"
          ]
        }
      ],
      "source": [
        "from sklearn.metrics import f1_score\n",
        "for min_samples_split in min_samples_split_list:\n",
        "  for min_impurity_decrease in min_impurity_decrease_list:\n",
        "    decision_tree = tree.DecisionTreeClassifier(min_samples_split=min_samples_split, min_impurity_decrease=min_impurity_decrease, random_state=0)\n",
        "    decision_tree = decision_tree.fit(X_train, y_train)\n",
        "    predicted = decision_tree.predict(X_test)\n",
        "    print(min_samples_split, min_impurity_decrease, f1_score(y_test, predicted))"
      ]
    },
    {
      "cell_type": "markdown",
      "metadata": {
        "id": "Al_7ddZEGC2E"
      },
      "source": [
        "#### 5.17 「min_samples_split＝5」、「min_impurity_decrease=0.0」が一番F値が高いです。もう少しパラメータチューニングの幅を広げてみましょう。「min_samples_split＝5から10まで1刻み」、「min_impurity_decrease=0から0.02まで0.005刻み」のリストの組み合わせを試し、ベストのF値とその時に使用したパラメータを出力して下さい。"
      ]
    },
    {
      "cell_type": "code",
      "execution_count": null,
      "metadata": {
        "colab": {
          "base_uri": "https://localhost:8080/"
        },
        "id": "p65Dw_Z1GC2E",
        "outputId": "7111b44d-7dfb-48d9-99e6-39f44003d5e5"
      },
      "outputs": [
        {
          "output_type": "stream",
          "name": "stdout",
          "text": [
            "{'min_samples_split': 8, 'min_impurity_decrease': 0.0, 'best_score': 0.3333333333333333}\n"
          ]
        }
      ],
      "source": [
        "min_samples_split_list = np.arange(5,11)\n",
        "min_impurity_decrease_list = np.arange(0,0.025,0.005)\n",
        "best_score=0\n",
        "\n",
        "from sklearn.metrics import f1_score\n",
        "for min_samples_split in min_samples_split_list:\n",
        "    for min_impurity_decrease in min_impurity_decrease_list:\n",
        "        decision_tree = tree.DecisionTreeClassifier(min_samples_split=min_samples_split, min_impurity_decrease=min_impurity_decrease, random_state=0)\n",
        "        decision_tree = decision_tree.fit(X_train, y_train)\n",
        "        predicted = decision_tree.predict(X_test)\n",
        "\n",
        "        score = f1_score(y_test, predicted)\n",
        "        if score > best_score:\n",
        "          best_score = score\n",
        "          best_parameters = {\"min_samples_split\":min_samples_split, \"min_impurity_decrease\":min_impurity_decrease, \"best_score\":best_score}\n",
        "\n",
        "print(best_parameters)\n"
      ]
    },
    {
      "cell_type": "markdown",
      "metadata": {
        "id": "Vew5OSFEGC2E"
      },
      "source": [
        "#### 5.18 パラメータをうまく設定することで精度が向上することが分かりました。様々なパラメータを試すことで、データに合ったモデルを作成することができます。次は、特徴量の観点でも考えてみましょう。「3.8」,「3.9」より「body」はあまり良い情報を持っていないことが確認できます。この変数を削除してみて下さい。"
      ]
    },
    {
      "cell_type": "code",
      "execution_count": null,
      "metadata": {
        "colab": {
          "base_uri": "https://localhost:8080/"
        },
        "id": "VMMcF391GC2E",
        "outputId": "7da2516c-f9b5-4253-a3d0-b1a8e504cbd0"
      },
      "outputs": [
        {
          "output_type": "stream",
          "name": "stdout",
          "text": [
            "X_train: Index(['age', 'sibsp', 'parch', 'fare'], dtype='object')\n",
            "X_test: Index(['age', 'sibsp', 'parch', 'fare'], dtype='object')\n"
          ]
        }
      ],
      "source": [
        "X_train.drop('body',axis=1,inplace=True)\n",
        "X_test.drop('body',axis=1,inplace=True)\n",
        "print(\"X_train:\",X_train.columns)\n",
        "print(\"X_test:\",X_train.columns)"
      ]
    },
    {
      "cell_type": "markdown",
      "metadata": {
        "id": "JEMBx8KwGC2E"
      },
      "source": [
        "#### 5.19 「5.17」の処理を回して、ベストスコアを確認して下さい。 "
      ]
    },
    {
      "cell_type": "code",
      "execution_count": null,
      "metadata": {
        "colab": {
          "base_uri": "https://localhost:8080/"
        },
        "id": "xfDeYU9NGC2E",
        "outputId": "f92e1fa0-7497-4b58-bc9e-2fe6a8e8e239"
      },
      "outputs": [
        {
          "output_type": "stream",
          "name": "stdout",
          "text": [
            "{'min_samples_split': 9, 'min_impurity_decrease': 0.0, 'best_score': 0.34449760765550236}\n"
          ]
        }
      ],
      "source": [
        "min_samples_split_list = np.arange(5,11)\n",
        "min_impurity_decrease_list = np.arange(0,0.025,0.005)\n",
        "best_score=0\n",
        "\n",
        "from sklearn.metrics import f1_score\n",
        "for min_samples_split in min_samples_split_list:\n",
        "    for min_impurity_decrease in min_impurity_decrease_list:\n",
        "        decision_tree = tree.DecisionTreeClassifier(min_samples_split=min_samples_split, min_impurity_decrease=min_impurity_decrease, random_state=0)\n",
        "        decision_tree = decision_tree.fit(X_train, y_train)\n",
        "        predicted = decision_tree.predict(X_test)\n",
        "\n",
        "        score = f1_score(y_test, predicted)\n",
        "        if score > best_score:\n",
        "          best_score = score\n",
        "          best_parameters = {\"min_samples_split\":min_samples_split, \"min_impurity_decrease\":min_impurity_decrease, \"best_score\":best_score}\n",
        "\n",
        "print(best_parameters)\n"
      ]
    },
    {
      "cell_type": "markdown",
      "metadata": {
        "id": "8eAPAwseGC2E"
      },
      "source": [
        "#### 5.20 変数追加も考えてみましょう。カテゴリデータの「sex」に関して下記グラフを作成して下さい。"
      ]
    },
    {
      "cell_type": "code",
      "execution_count": null,
      "metadata": {
        "colab": {
          "base_uri": "https://localhost:8080/",
          "height": 338
        },
        "id": "5FKGmoGYGC2E",
        "outputId": "85bc2109-f7df-420a-c99a-f3c3f1c69e98"
      },
      "outputs": [
        {
          "output_type": "execute_result",
          "data": {
            "text/plain": [
              "<matplotlib.axes._subplots.AxesSubplot at 0x7f0a62072310>"
            ]
          },
          "metadata": {},
          "execution_count": 408
        },
        {
          "output_type": "display_data",
          "data": {
            "text/plain": [
              "<Figure size 432x288 with 0 Axes>"
            ]
          },
          "metadata": {}
        },
        {
          "output_type": "display_data",
          "data": {
            "image/png": "[encoded data removed]",
            "text/plain": [
              "<Figure size 432x288 with 1 Axes>"
            ]
          },
          "metadata": {
            "needs_background": "light"
          }
        }
      ],
      "source": [
        "fig = plt.figure()\n",
        "\n",
        "sex_data = pd.crosstab(titanic_data['sex'],titanic_data['survived'])\n",
        "sex_data.plot.bar(stacked=True)\n"
      ]
    },
    {
      "cell_type": "markdown",
      "metadata": {
        "id": "ePsZCtW5GC2E"
      },
      "source": [
        "#### 5.21 「sex」の変数は予測に寄与する可能性がありそうです。X_trainとX_testの変数にtitanic_dataからsexを追加して下さい。インデックスを変えないように注意して下さい。"
      ]
    },
    {
      "cell_type": "code",
      "execution_count": null,
      "metadata": {
        "colab": {
          "base_uri": "https://localhost:8080/"
        },
        "id": "ViVG16SyGC2E",
        "outputId": "40233033-25f2-4b09-8f67-9a911d7e7bb0"
      },
      "outputs": [
        {
          "output_type": "stream",
          "name": "stdout",
          "text": [
            "X_train:        age  sibsp  parch      fare     sex\n",
            "0    29.00      0      0  211.3375  female\n",
            "1     0.92      1      2  151.5500    male\n",
            "2     2.00      1      2  151.5500  female\n",
            "3    30.00      1      2  151.5500    male\n",
            "4    25.00      1      2  151.5500  female\n",
            "..     ...    ...    ...       ...     ...\n",
            "910  17.00      0      0    7.1250    male\n",
            "911  21.00      0      0    8.4333    male\n",
            "912  30.00      0      0    7.8958    male\n",
            "913  21.00      0      0    7.7958    male\n",
            "914  33.00      0      0    7.8542    male\n",
            "\n",
            "[915 rows x 5 columns]\n",
            "X_test:             age  sibsp  parch     fare     sex\n",
            "915   22.000000      0      0   7.5208    male\n",
            "916    4.000000      0      1  13.4167  female\n",
            "917   39.000000      0      1  13.4167    male\n",
            "918   29.881138      0      0   7.2292    male\n",
            "919   18.500000      0      0   7.2292    male\n",
            "...         ...    ...    ...      ...     ...\n",
            "1304  14.500000      1      0  14.4542  female\n",
            "1305  29.881138      1      0  14.4542  female\n",
            "1306  26.500000      0      0   7.2250    male\n",
            "1307  27.000000      0      0   7.2250    male\n",
            "1308  29.000000      0      0   7.8750    male\n",
            "\n",
            "[393 rows x 5 columns]\n"
          ]
        }
      ],
      "source": [
        "X_train[\"sex\"] = titanic_data[\"sex\"][:915]\n",
        "X_test[\"sex\"] = titanic_data[\"sex\"][915:]\n",
        "print(\"X_train:\",X_train)\n",
        "print(\"X_test:\",X_test)"
      ]
    },
    {
      "cell_type": "markdown",
      "metadata": {
        "id": "gFyHRFztGC2E"
      },
      "source": [
        "#### 5.22 「sex」はカテゴリ変数なので、maleを0、femaleを1に変更し、数字に変わっていることを確認して下さい。"
      ]
    },
    {
      "cell_type": "code",
      "execution_count": null,
      "metadata": {
        "colab": {
          "base_uri": "https://localhost:8080/"
        },
        "id": "OLBSVEq0GC2E",
        "outputId": "c6eb3e93-646f-4df6-e57b-d055b3c2fb73"
      },
      "outputs": [
        {
          "output_type": "stream",
          "name": "stdout",
          "text": [
            "0    1\n",
            "1    0\n",
            "2    1\n",
            "3    0\n",
            "4    1\n",
            "Name: sex, dtype: int64\n",
            "915    0\n",
            "916    1\n",
            "917    0\n",
            "918    0\n",
            "919    0\n",
            "Name: sex, dtype: int64\n"
          ]
        }
      ],
      "source": [
        "X_train['sex'] = np.where(X_train['sex']=='female',1,0)\n",
        "X_test['sex'] = np.where(X_test['sex']=='female',1,0)\n",
        "print(X_train['sex'].head())\n",
        "print(X_test['sex'].head())"
      ]
    },
    {
      "cell_type": "markdown",
      "metadata": {
        "id": "2-EroJXhGC2E"
      },
      "source": [
        "#### 5.23「5.17」の処理を回して、ベストスコアを確認して下さい。 "
      ]
    },
    {
      "cell_type": "code",
      "execution_count": null,
      "metadata": {
        "colab": {
          "base_uri": "https://localhost:8080/"
        },
        "id": "M8_vN7DhGC2E",
        "outputId": "0d76fdb8-9518-4efb-b3f8-f1bfb17694c3"
      },
      "outputs": [
        {
          "output_type": "stream",
          "name": "stdout",
          "text": [
            "{'min_samples_split': 5, 'min_impurity_decrease': 0.02, 'best_score': 0.5405405405405406}\n"
          ]
        }
      ],
      "source": [
        "min_samples_split_list = np.arange(5,11)\n",
        "min_impurity_decrease_list = np.arange(0,0.025,0.005)\n",
        "best_score=0\n",
        "\n",
        "from sklearn.metrics import f1_score\n",
        "for min_samples_split in min_samples_split_list:\n",
        "    for min_impurity_decrease in min_impurity_decrease_list:\n",
        "        decision_tree = tree.DecisionTreeClassifier(min_samples_split=min_samples_split, min_impurity_decrease=min_impurity_decrease, random_state=0)\n",
        "        decision_tree = decision_tree.fit(X_train, y_train)\n",
        "        predicted = decision_tree.predict(X_test)\n",
        "\n",
        "        score = f1_score(y_test, predicted)\n",
        "        if score > best_score:\n",
        "          best_score = score\n",
        "          best_parameters = {\"min_samples_split\":min_samples_split, \"min_impurity_decrease\":min_impurity_decrease, \"best_score\":best_score}\n",
        "\n",
        "print(best_parameters)\n"
      ]
    },
    {
      "cell_type": "markdown",
      "metadata": {
        "id": "XKVYZNnRGC2E"
      },
      "source": [
        "### 6. ロジスティック回帰の方法について学習します。（8問）"
      ]
    },
    {
      "cell_type": "markdown",
      "metadata": {
        "id": "uCRudauBGC2E"
      },
      "source": [
        "#### モデルを作成するときはrandom_state=0を指定してください。"
      ]
    },
    {
      "cell_type": "markdown",
      "metadata": {
        "id": "bToTRlqzGC2E"
      },
      "source": [
        "#### 6.1 ロジスティック回帰のライブラリをインストールして下さい。"
      ]
    },
    {
      "cell_type": "code",
      "execution_count": null,
      "metadata": {
        "id": "tQTjypXsGC2E"
      },
      "outputs": [],
      "source": [
        "from sklearn.linear_model import LogisticRegression"
      ]
    },
    {
      "cell_type": "markdown",
      "metadata": {
        "id": "N1PWXm0QGC2E"
      },
      "source": [
        "#### 6.2 ロジスティック回帰を読み込んで、「logistic_regression」と言う変数名に設定して下さい。その上で引数random_stateのみ「0」を指定し、下記のようなロジスティック回帰のパラメータ値を出力してください。※random_stateに数字を入れることで、結果を固定することができます。"
      ]
    },
    {
      "cell_type": "code",
      "execution_count": null,
      "metadata": {
        "colab": {
          "base_uri": "https://localhost:8080/"
        },
        "id": "G5pwzyKlGC2E",
        "outputId": "228e884b-e9be-4a32-eaf2-32644c1d4be1"
      },
      "outputs": [
        {
          "output_type": "stream",
          "name": "stdout",
          "text": [
            "LogisticRegression(random_state=0)\n"
          ]
        }
      ],
      "source": [
        "logistic_regression = LogisticRegression(random_state=0) \n",
        "print(logistic_regression)"
      ]
    },
    {
      "cell_type": "markdown",
      "metadata": {
        "id": "4dT42C_sGC2E"
      },
      "source": [
        "#### 6.3 fit関数を使い、学習データを使用して、ロジスティック回帰の学習を行って下さい。"
      ]
    },
    {
      "cell_type": "code",
      "execution_count": null,
      "metadata": {
        "colab": {
          "base_uri": "https://localhost:8080/"
        },
        "id": "_F0QwGp6GC2E",
        "outputId": "3271a279-16a9-4e94-c16f-11e5c67f8b14"
      },
      "outputs": [
        {
          "output_type": "execute_result",
          "data": {
            "text/plain": [
              "LogisticRegression(random_state=0)"
            ]
          },
          "metadata": {},
          "execution_count": 414
        }
      ],
      "source": [
        "logistic_regression = logistic_regression.fit(X_train, y_train)\n",
        "logistic_regression"
      ]
    },
    {
      "cell_type": "markdown",
      "metadata": {
        "id": "5kzsk9hPGC2E"
      },
      "source": [
        "#### 6.4 作成したモデルを用いて、新規データ（X_test）に対する予測値を出力してください。※ここが「予測」と呼ばれる処理になります。"
      ]
    },
    {
      "cell_type": "code",
      "execution_count": null,
      "metadata": {
        "colab": {
          "base_uri": "https://localhost:8080/"
        },
        "id": "O7ytNRM9GC2E",
        "outputId": "e00209d3-b7ce-48c3-88a1-9e42d7ff08d5"
      },
      "outputs": [
        {
          "output_type": "execute_result",
          "data": {
            "text/plain": [
              "array([0, 1, 0, 0, 0, 0, 0, 1, 1, 0, 0, 0, 0, 1, 0, 0, 0, 1, 0, 1, 0, 1,\n",
              "       1, 0, 1, 0, 0, 0, 1, 0, 0, 0, 1, 0, 0, 0, 0, 0, 0, 0, 1, 1, 1, 1,\n",
              "       0, 0, 1, 0, 0, 0, 0, 1, 1, 0, 1, 0, 0, 0, 0, 0, 1, 0, 0, 0, 0, 1,\n",
              "       0, 0, 0, 1, 0, 0, 1, 0, 0, 0, 0, 1, 1, 0, 0, 0, 1, 0, 1, 0, 1, 1,\n",
              "       0, 1, 0, 1, 1, 1, 0, 0, 1, 1, 1, 1, 0, 0, 0, 0, 0, 0, 0, 0, 1, 0,\n",
              "       0, 1, 0, 1, 0, 0, 0, 0, 0, 0, 0, 1, 1, 0, 1, 1, 0, 1, 1, 1, 0, 0,\n",
              "       1, 1, 0, 1, 0, 0, 0, 1, 0, 0, 1, 1, 0, 1, 1, 0, 0, 0, 0, 0, 1, 0,\n",
              "       0, 0, 1, 0, 0, 0, 0, 1, 1, 1, 1, 0, 1, 0, 0, 0, 0, 1, 0, 0, 0, 1,\n",
              "       1, 0, 0, 1, 1, 0, 0, 1, 1, 1, 0, 0, 0, 0, 0, 1, 0, 0, 0, 0, 0, 1,\n",
              "       1, 0, 0, 0, 0, 0, 0, 0, 0, 1, 1, 1, 0, 1, 0, 0, 0, 1, 0, 0, 0, 0,\n",
              "       0, 1, 0, 0, 0, 0, 0, 0, 0, 0, 0, 1, 1, 0, 1, 0, 1, 0, 1, 0, 0, 1,\n",
              "       0, 1, 1, 0, 0, 0, 0, 0, 0, 0, 0, 0, 0, 0, 0, 0, 0, 0, 0, 0, 0, 0,\n",
              "       0, 1, 0, 1, 0, 0, 0, 0, 1, 1, 1, 0, 0, 0, 0, 0, 0, 0, 0, 1, 0, 0,\n",
              "       0, 0, 0, 0, 1, 0, 0, 1, 1, 0, 1, 0, 0, 0, 0, 1, 0, 0, 0, 0, 0, 0,\n",
              "       1, 0, 0, 1, 0, 0, 1, 1, 0, 0, 0, 0, 0, 0, 0, 0, 0, 0, 0, 0, 1, 0,\n",
              "       0, 1, 0, 0, 0, 0, 0, 0, 0, 0, 0, 1, 1, 0, 1, 1, 0, 0, 0, 1, 0, 1,\n",
              "       0, 0, 0, 0, 0, 1, 0, 0, 1, 0, 0, 1, 0, 0, 0, 0, 0, 0, 1, 0, 0, 0,\n",
              "       1, 0, 0, 0, 0, 0, 0, 0, 0, 0, 1, 0, 0, 0, 1, 1, 0, 0, 0])"
            ]
          },
          "metadata": {},
          "execution_count": 415
        }
      ],
      "source": [
        "predicted = logistic_regression.predict(X_test)\n",
        "predicted"
      ]
    },
    {
      "cell_type": "markdown",
      "metadata": {
        "id": "9Hmc4RLCGC2E"
      },
      "source": [
        "#### 6.5 混合行列を算出して下さい。"
      ]
    },
    {
      "cell_type": "code",
      "execution_count": null,
      "metadata": {
        "colab": {
          "base_uri": "https://localhost:8080/"
        },
        "id": "N-IUA_ZdGC2E",
        "outputId": "15785fb2-7ef7-46bd-93f1-fc8f5cd10909"
      },
      "outputs": [
        {
          "output_type": "execute_result",
          "data": {
            "text/plain": [
              "array([[235,  58],\n",
              "       [ 40,  60]])"
            ]
          },
          "metadata": {},
          "execution_count": 416
        }
      ],
      "source": [
        "confusion_matrix(y_test, predicted)"
      ]
    },
    {
      "cell_type": "markdown",
      "metadata": {
        "id": "5I96o5h5GC2F"
      },
      "source": [
        "#### 6.6 F値を算出して下さい。"
      ]
    },
    {
      "cell_type": "code",
      "execution_count": null,
      "metadata": {
        "colab": {
          "base_uri": "https://localhost:8080/"
        },
        "id": "LBQBgcO-GC2F",
        "outputId": "5e20fc64-5e44-45f1-f8b2-06fc1fff60af"
      },
      "outputs": [
        {
          "output_type": "execute_result",
          "data": {
            "text/plain": [
              "0.5504587155963302"
            ]
          },
          "metadata": {},
          "execution_count": 417
        }
      ],
      "source": [
        "from sklearn.metrics import f1_score\n",
        "f1_score(y_test, predicted)"
      ]
    },
    {
      "cell_type": "markdown",
      "metadata": {
        "id": "cfhBSxQaGC2F"
      },
      "source": [
        "#### 6.7 ロジスティック回帰の主要パラメータである正則化項を変更してみましょう。下記の様なリストを作成し、C_listと言う変数名に格納して下さい。"
      ]
    },
    {
      "cell_type": "code",
      "execution_count": null,
      "metadata": {
        "id": "Ea4Dfrg1GC2F"
      },
      "outputs": [],
      "source": [
        ""
      ]
    },
    {
      "cell_type": "markdown",
      "metadata": {
        "id": "yIzjnRpfGC2F"
      },
      "source": [
        "#### 6.8 C_listの各値をパラメーター「C」に設定した際の精度を全て確認して下さい。"
      ]
    },
    {
      "cell_type": "code",
      "execution_count": null,
      "metadata": {
        "id": "hOuhEui8GC2F"
      },
      "outputs": [],
      "source": [
        ""
      ]
    },
    {
      "cell_type": "markdown",
      "metadata": {
        "id": "mXAd5iuWGC2F"
      },
      "source": [
        "### 7. ランダムフォレストの方法について学習します。（16問）"
      ]
    },
    {
      "cell_type": "markdown",
      "metadata": {
        "id": "wATP3JVsGC2F"
      },
      "source": [
        "#### ランダムフォレストは機械学習のアルゴリズムのひとつで、決定木を統合させて汎化能力を向上させる、アンサンブル学習アルゴリズムです。分類（判別）・回帰（予測）どちらも使用することができます。アンサンブル学習は精度が高くなる傾向にあります。（モデルを作成するときはrandom_state=0を指定してください。）"
      ]
    },
    {
      "cell_type": "markdown",
      "metadata": {
        "id": "kmgIMe3VGC2F"
      },
      "source": [
        "#### 7.1 ランダムフォレスト（分類木）のライブラリをインストールして下さい。"
      ]
    },
    {
      "cell_type": "code",
      "execution_count": null,
      "metadata": {
        "id": "QcqsxPHfGC2F"
      },
      "outputs": [],
      "source": [
        "from sklearn.ensemble import RandomForestClassifier"
      ]
    },
    {
      "cell_type": "markdown",
      "metadata": {
        "id": "5XzT10HrGC2F"
      },
      "source": [
        "#### 7.2 ランダムフォレストを読み込んで、「random_forest」と言う変数名に設定して下さい。その上で引数random_stateのみ「0」を指定し、下記のようなランダムフォレストのパラメータ値を出力してください。※random_stateに数字を入れることで、結果を固定することができます。"
      ]
    },
    {
      "cell_type": "code",
      "execution_count": null,
      "metadata": {
        "colab": {
          "base_uri": "https://localhost:8080/"
        },
        "id": "lMfR53DkGC2F",
        "outputId": "68090bd1-032d-4017-8539-191eef510f0d"
      },
      "outputs": [
        {
          "output_type": "execute_result",
          "data": {
            "text/plain": [
              "RandomForestClassifier(random_state=0)"
            ]
          },
          "metadata": {},
          "execution_count": 419
        }
      ],
      "source": [
        "random_forest = RandomForestClassifier(random_state=0)\n",
        "random_forest"
      ]
    },
    {
      "cell_type": "markdown",
      "metadata": {
        "id": "n7Wt4s8QGC2F"
      },
      "source": [
        "#### 7.3 fit関数を使い、学習データを使用して、ランダムフォレストの学習を行って下さい。"
      ]
    },
    {
      "cell_type": "code",
      "execution_count": null,
      "metadata": {
        "colab": {
          "base_uri": "https://localhost:8080/"
        },
        "id": "8w8fhrDzGC2F",
        "outputId": "c0783ce6-9f58-45da-94fb-7a8e44dec707"
      },
      "outputs": [
        {
          "output_type": "execute_result",
          "data": {
            "text/plain": [
              "RandomForestClassifier(random_state=0)"
            ]
          },
          "metadata": {},
          "execution_count": 420
        }
      ],
      "source": [
        "random_forest = random_forest.fit(X_train, y_train)\n",
        "random_forest"
      ]
    },
    {
      "cell_type": "markdown",
      "metadata": {
        "id": "YAYoLkrFGC2F"
      },
      "source": [
        "#### 7.4 作成したモデルを用いて、新規データ（X_test）に対する予測値を出力してください。※ここが「予測」と呼ばれる処理になります。"
      ]
    },
    {
      "cell_type": "code",
      "execution_count": null,
      "metadata": {
        "colab": {
          "base_uri": "https://localhost:8080/"
        },
        "id": "oGmk5l5zGC2F",
        "outputId": "5b1b6956-213a-4208-a82a-c9387136a6c0"
      },
      "outputs": [
        {
          "output_type": "execute_result",
          "data": {
            "text/plain": [
              "array([0, 1, 0, 0, 0, 0, 0, 1, 1, 0, 0, 0, 0, 0, 0, 0, 0, 0, 0, 1, 0, 0,\n",
              "       1, 0, 1, 0, 0, 0, 0, 0, 1, 1, 1, 0, 1, 0, 1, 0, 0, 0, 1, 1, 1, 1,\n",
              "       1, 0, 0, 0, 0, 0, 0, 0, 0, 0, 1, 0, 1, 1, 0, 0, 1, 1, 1, 0, 0, 0,\n",
              "       0, 0, 0, 1, 0, 0, 0, 0, 0, 1, 0, 0, 1, 0, 0, 0, 1, 0, 1, 0, 1, 1,\n",
              "       0, 0, 0, 0, 1, 0, 0, 0, 1, 1, 1, 1, 0, 0, 0, 0, 0, 0, 0, 0, 0, 1,\n",
              "       1, 1, 0, 1, 0, 0, 0, 0, 0, 0, 0, 0, 1, 0, 1, 0, 0, 0, 0, 0, 0, 0,\n",
              "       1, 1, 0, 1, 0, 0, 0, 1, 0, 0, 1, 1, 0, 0, 0, 0, 0, 0, 1, 0, 1, 0,\n",
              "       0, 0, 0, 0, 0, 0, 0, 1, 1, 0, 1, 0, 0, 0, 0, 0, 0, 0, 0, 0, 0, 0,\n",
              "       0, 0, 0, 0, 0, 1, 1, 1, 1, 1, 1, 0, 1, 0, 0, 1, 0, 0, 0, 0, 1, 1,\n",
              "       1, 0, 0, 0, 0, 0, 0, 0, 0, 1, 1, 1, 0, 0, 0, 0, 0, 0, 0, 0, 0, 0,\n",
              "       0, 1, 0, 0, 0, 0, 0, 0, 0, 1, 0, 1, 1, 0, 1, 0, 0, 0, 1, 0, 0, 1,\n",
              "       0, 1, 1, 0, 0, 0, 0, 0, 0, 0, 0, 0, 0, 0, 0, 0, 0, 0, 0, 0, 0, 0,\n",
              "       0, 1, 0, 0, 0, 0, 0, 0, 1, 1, 1, 0, 0, 0, 0, 0, 0, 0, 0, 0, 0, 0,\n",
              "       0, 0, 0, 0, 0, 1, 0, 1, 1, 0, 1, 0, 0, 0, 0, 1, 0, 0, 0, 0, 0, 0,\n",
              "       0, 0, 0, 1, 0, 0, 1, 1, 0, 0, 0, 0, 0, 1, 1, 0, 1, 0, 0, 0, 1, 0,\n",
              "       0, 1, 1, 0, 0, 0, 0, 0, 0, 0, 0, 0, 0, 0, 1, 0, 0, 0, 0, 1, 0, 1,\n",
              "       0, 0, 0, 0, 0, 1, 0, 0, 1, 0, 0, 1, 0, 0, 0, 0, 0, 0, 1, 0, 0, 0,\n",
              "       1, 0, 0, 0, 0, 0, 0, 0, 0, 0, 0, 0, 0, 0, 0, 0, 0, 0, 0])"
            ]
          },
          "metadata": {},
          "execution_count": 421
        }
      ],
      "source": [
        "predicted = random_forest.predict(X_test)\n",
        "predicted"
      ]
    },
    {
      "cell_type": "markdown",
      "metadata": {
        "id": "_o7mwM-jGC2F"
      },
      "source": [
        "#### 7.5 混合行列を算出して下さい。"
      ]
    },
    {
      "cell_type": "code",
      "execution_count": null,
      "metadata": {
        "colab": {
          "base_uri": "https://localhost:8080/"
        },
        "id": "KN_lydxzGC2F",
        "outputId": "3bf72fa9-5789-4742-ee50-6465cdabaa0a"
      },
      "outputs": [
        {
          "output_type": "execute_result",
          "data": {
            "text/plain": [
              "array([[234,  59],\n",
              "       [ 59,  41]])"
            ]
          },
          "metadata": {},
          "execution_count": 422
        }
      ],
      "source": [
        "confusion_matrix(y_test, predicted)"
      ]
    },
    {
      "cell_type": "markdown",
      "metadata": {
        "id": "ZhFy1D63GC2F"
      },
      "source": [
        "#### 7.6 F値を算出して下さい。"
      ]
    },
    {
      "cell_type": "code",
      "execution_count": null,
      "metadata": {
        "colab": {
          "base_uri": "https://localhost:8080/"
        },
        "id": "9rQnJUWsGC2F",
        "outputId": "e09095fc-6b75-4c9a-e910-f2cb870da551"
      },
      "outputs": [
        {
          "output_type": "execute_result",
          "data": {
            "text/plain": [
              "0.41"
            ]
          },
          "metadata": {},
          "execution_count": 423
        }
      ],
      "source": [
        "from sklearn.metrics import f1_score\n",
        "f1_score(y_test, predicted)"
      ]
    },
    {
      "cell_type": "markdown",
      "metadata": {
        "id": "r5mGick1GC2F"
      },
      "source": [
        "#### 7.7 デフォルト設定だとF値があまり良くないです。ランダムフォレストの主要パラメータであるn_estimotrs（木の数）、max_depth（木の深さ）、max_features（分岐に用いる説明変数の数を設定）を変更して見ましょう。下記のようなリストを作成して下さい。"
      ]
    },
    {
      "cell_type": "code",
      "execution_count": null,
      "metadata": {
        "id": "8fdDL5vDGC2F"
      },
      "outputs": [],
      "source": [
        ""
      ]
    },
    {
      "cell_type": "markdown",
      "metadata": {
        "id": "riAt-rvRGC2F"
      },
      "source": [
        "#### 7.8 上記リストの組み合わせをパラメータとして設定し、ベストパラメータとその時のF値を算出して下さい。"
      ]
    },
    {
      "cell_type": "code",
      "execution_count": null,
      "metadata": {
        "id": "NvXjKvooGC2F"
      },
      "outputs": [],
      "source": [
        ""
      ]
    },
    {
      "cell_type": "markdown",
      "metadata": {
        "id": "nloimrraGC2F"
      },
      "source": [
        "#### 7.9 「7.8」の結果の通りランダムフォレストの様な「アンサンブル学習」はパラメータを確りチューニングする必要がありますが、精度が高くなる傾向にあります。最後にベストパラメータ時の変数需要度を算出して下さい。"
      ]
    },
    {
      "cell_type": "code",
      "execution_count": null,
      "metadata": {
        "id": "0BkjDYWRGC2F"
      },
      "outputs": [],
      "source": [
        ""
      ]
    },
    {
      "cell_type": "markdown",
      "metadata": {
        "id": "Kri7oGQJGC2F"
      },
      "source": [
        "#### 7.10 目的変数が量的変数の場合（回帰）を確認していきましょう。目的変数を「fare」に変更し、説明変数から削除して下さい。「age」,「sibsp」,「parch」,「sex」から「fare」を予測するモデルを作成することになります。"
      ]
    },
    {
      "cell_type": "code",
      "execution_count": null,
      "metadata": {
        "id": "hoYdNnnkGC2G"
      },
      "outputs": [],
      "source": [
        ""
      ]
    },
    {
      "cell_type": "markdown",
      "metadata": {
        "id": "6tL9N8iWGC2G"
      },
      "source": [
        "#### 7.11 ランダムフォレスト（回帰木）のライブラリをインストールして下さい。"
      ]
    },
    {
      "cell_type": "code",
      "execution_count": null,
      "metadata": {
        "id": "cTJGKgJOGC2G"
      },
      "outputs": [],
      "source": [
        ""
      ]
    },
    {
      "cell_type": "markdown",
      "metadata": {
        "id": "VkRHIG_tGC2G"
      },
      "source": [
        "#### 7.12 ランダムフォレスト（回帰木）を読み込んで、「random_forest」と言う変数名に設定して下さい。その上で引数random_stateのみ「0」を指定し、下記のようなランダムフォレストのパラメータ値を出力してください。※random_stateに数字を入れることで、結果を固定することができます。"
      ]
    },
    {
      "cell_type": "code",
      "execution_count": null,
      "metadata": {
        "id": "MMYS7AYfGC2G"
      },
      "outputs": [],
      "source": [
        ""
      ]
    },
    {
      "cell_type": "markdown",
      "metadata": {
        "id": "6-XolNX4GC2G"
      },
      "source": [
        "#### 7.13 fit関数を使い、学習データを使用して、ランダムフォレストの学習を行って下さい。"
      ]
    },
    {
      "cell_type": "code",
      "execution_count": null,
      "metadata": {
        "id": "WsN7hP3oGC2G"
      },
      "outputs": [],
      "source": [
        ""
      ]
    },
    {
      "cell_type": "markdown",
      "metadata": {
        "id": "tgmfgbVvGC2G"
      },
      "source": [
        "#### 7.14 作成したモデルを用いて、新規データ（X_test）に対する予測値を出力（上から50行）してください。※ここが「予測」と呼ばれる処理になります。"
      ]
    },
    {
      "cell_type": "code",
      "execution_count": null,
      "metadata": {
        "id": "rT1uQrNoGC2G"
      },
      "outputs": [],
      "source": [
        ""
      ]
    },
    {
      "cell_type": "markdown",
      "metadata": {
        "id": "-sKG6YPQGC2G"
      },
      "source": [
        "#### 7.15 実測値と予測値の平均絶対誤差を出力して下さい。"
      ]
    },
    {
      "cell_type": "code",
      "execution_count": null,
      "metadata": {
        "id": "FOkm501nGC2G"
      },
      "outputs": [],
      "source": [
        ""
      ]
    },
    {
      "cell_type": "markdown",
      "metadata": {
        "id": "ba1Ty9MtGC2G"
      },
      "source": [
        "#### 7.16 実測値と予測値の散布図を下記の形で出力して下さい。"
      ]
    },
    {
      "cell_type": "code",
      "execution_count": null,
      "metadata": {
        "id": "HXPBzihiGC2G"
      },
      "outputs": [],
      "source": [
        ""
      ]
    },
    {
      "cell_type": "markdown",
      "metadata": {
        "id": "Z4qb3_EAGC2G"
      },
      "source": [
        "### 8. K-meansの方法について学習します。（15問）"
      ]
    },
    {
      "cell_type": "markdown",
      "metadata": {
        "id": "tv_cERh8GC2G"
      },
      "source": [
        "#### K-means法は、非階層型クラスタリングのアルゴリズムです。クラスタの平均を用い、与えられたクラスタ数k個に分類することから、K-means法と呼ばれています。（モデルを作成するときはrandom_state=0を指定してください。）"
      ]
    },
    {
      "cell_type": "markdown",
      "metadata": {
        "id": "HLQxS2O0GC2G"
      },
      "source": [
        "#### 8.1 Kmeansを読み込んで下さい。"
      ]
    },
    {
      "cell_type": "code",
      "execution_count": null,
      "metadata": {
        "id": "4oitg2D_GC2G"
      },
      "outputs": [],
      "source": [
        "from sklearn.cluster import KMeans"
      ]
    },
    {
      "cell_type": "markdown",
      "metadata": {
        "id": "EqwZuglQGC2G"
      },
      "source": [
        "#### 8.2 object型データを削除して、上から5行出力して下さい。"
      ]
    },
    {
      "cell_type": "code",
      "execution_count": null,
      "metadata": {
        "colab": {
          "base_uri": "https://localhost:8080/",
          "height": 206
        },
        "id": "fUJLWWKbGC2G",
        "outputId": "6df2a62b-c932-4ead-d9af-935056c27953"
      },
      "outputs": [
        {
          "output_type": "execute_result",
          "data": {
            "text/html": [
              "<div>\n",
              "<style scoped>\n",
              "    .dataframe tbody tr th:only-of-type {\n",
              "        vertical-align: middle;\n",
              "    }\n",
              "\n",
              "    .dataframe tbody tr th {\n",
              "        vertical-align: top;\n",
              "    }\n",
              "\n",
              "    .dataframe thead th {\n",
              "        text-align: right;\n",
              "    }\n",
              "</style>\n",
              "<table border=\"1\" class=\"dataframe\">\n",
              "  <thead>\n",
              "    <tr style=\"text-align: right;\">\n",
              "      <th></th>\n",
              "      <th>survived</th>\n",
              "      <th>age</th>\n",
              "      <th>sibsp</th>\n",
              "      <th>parch</th>\n",
              "      <th>fare</th>\n",
              "      <th>body</th>\n",
              "    </tr>\n",
              "  </thead>\n",
              "  <tbody>\n",
              "    <tr>\n",
              "      <th>0</th>\n",
              "      <td>1</td>\n",
              "      <td>29.00</td>\n",
              "      <td>0</td>\n",
              "      <td>0</td>\n",
              "      <td>211.3375</td>\n",
              "      <td>NaN</td>\n",
              "    </tr>\n",
              "    <tr>\n",
              "      <th>1</th>\n",
              "      <td>1</td>\n",
              "      <td>0.92</td>\n",
              "      <td>1</td>\n",
              "      <td>2</td>\n",
              "      <td>151.5500</td>\n",
              "      <td>NaN</td>\n",
              "    </tr>\n",
              "    <tr>\n",
              "      <th>2</th>\n",
              "      <td>0</td>\n",
              "      <td>2.00</td>\n",
              "      <td>1</td>\n",
              "      <td>2</td>\n",
              "      <td>151.5500</td>\n",
              "      <td>NaN</td>\n",
              "    </tr>\n",
              "    <tr>\n",
              "      <th>3</th>\n",
              "      <td>0</td>\n",
              "      <td>30.00</td>\n",
              "      <td>1</td>\n",
              "      <td>2</td>\n",
              "      <td>151.5500</td>\n",
              "      <td>135.0</td>\n",
              "    </tr>\n",
              "    <tr>\n",
              "      <th>4</th>\n",
              "      <td>0</td>\n",
              "      <td>25.00</td>\n",
              "      <td>1</td>\n",
              "      <td>2</td>\n",
              "      <td>151.5500</td>\n",
              "      <td>NaN</td>\n",
              "    </tr>\n",
              "  </tbody>\n",
              "</table>\n",
              "</div>"
            ],
            "text/plain": [
              "   survived    age  sibsp  parch      fare   body\n",
              "0         1  29.00      0      0  211.3375    NaN\n",
              "1         1   0.92      1      2  151.5500    NaN\n",
              "2         0   2.00      1      2  151.5500    NaN\n",
              "3         0  30.00      1      2  151.5500  135.0\n",
              "4         0  25.00      1      2  151.5500    NaN"
            ]
          },
          "metadata": {},
          "execution_count": 425
        }
      ],
      "source": [
        "data_expect_object = titanic_data.select_dtypes(exclude=\"object\")\n",
        "data_expect_object.head(5)"
      ]
    },
    {
      "cell_type": "markdown",
      "metadata": {
        "id": "hVK55y7iGC2G"
      },
      "source": [
        "#### 8.3 全ての欠損値に0を埋めて下さい。欠損値がなくなったことを確認して下さい。"
      ]
    },
    {
      "cell_type": "code",
      "execution_count": null,
      "metadata": {
        "colab": {
          "base_uri": "https://localhost:8080/"
        },
        "id": "gusI66FSGC2G",
        "outputId": "0fffc2b7-3206-43e9-e378-538179254636"
      },
      "outputs": [
        {
          "output_type": "execute_result",
          "data": {
            "text/plain": [
              "survived    0\n",
              "age         0\n",
              "sibsp       0\n",
              "parch       0\n",
              "fare        0\n",
              "body        0\n",
              "dtype: int64"
            ]
          },
          "metadata": {},
          "execution_count": 426
        }
      ],
      "source": [
        "data_expect_object.fillna(0, inplace=True)\n",
        "data_expect_object.isnull().sum()"
      ]
    },
    {
      "cell_type": "markdown",
      "metadata": {
        "id": "ZCciZmP3GC2G"
      },
      "source": [
        "#### 8.4 random_state=0を指定して、Kmeans法を実行して下さい。"
      ]
    },
    {
      "cell_type": "code",
      "execution_count": null,
      "metadata": {
        "colab": {
          "base_uri": "https://localhost:8080/"
        },
        "id": "0y09eeaZGC2G",
        "outputId": "1756bbbe-9965-4174-9e3b-51381b6ca44c"
      },
      "outputs": [
        {
          "output_type": "execute_result",
          "data": {
            "text/plain": [
              "KMeans(random_state=0)"
            ]
          },
          "metadata": {},
          "execution_count": 427
        }
      ],
      "source": [
        "kmeans = KMeans(random_state=0) \n",
        "kmeans.fit(data_expect_object)\n",
        "kmeans"
      ]
    },
    {
      "cell_type": "markdown",
      "metadata": {
        "id": "EslU7AM6GC2G"
      },
      "source": [
        "#### 8.5 分類結果を上から50人確認して下さい。"
      ]
    },
    {
      "cell_type": "code",
      "execution_count": null,
      "metadata": {
        "colab": {
          "base_uri": "https://localhost:8080/"
        },
        "id": "qzGdX380GC2G",
        "outputId": "5beb5c79-54c4-40b7-dd6a-691908e35fba"
      },
      "outputs": [
        {
          "output_type": "execute_result",
          "data": {
            "text/plain": [
              "array([2, 7, 7, 1, 7, 0, 3, 0, 3, 3, 2, 2, 3, 3, 0, 4, 2, 2, 3, 3, 3, 3,\n",
              "       0, 2, 2, 1, 3, 3, 7, 0, 0, 0, 7, 0, 0, 2, 3, 4, 0, 1, 4, 0, 3, 3,\n",
              "       7, 0, 4, 0, 0, 5], dtype=int32)"
            ]
          },
          "metadata": {},
          "execution_count": 428
        }
      ],
      "source": [
        "labels = kmeans.labels_\n",
        "labels[0:50]"
      ]
    },
    {
      "cell_type": "markdown",
      "metadata": {
        "id": "8PomVz1QGC2G"
      },
      "source": [
        "#### 8.6 cluster列を作成し、クラスタリング結果を格納して下さい。"
      ]
    },
    {
      "cell_type": "code",
      "execution_count": null,
      "metadata": {
        "colab": {
          "base_uri": "https://localhost:8080/",
          "height": 423
        },
        "id": "rY_P2XrFGC2H",
        "outputId": "1c4e6fcb-ae76-4fe7-891f-e58a87b8a0d8"
      },
      "outputs": [
        {
          "output_type": "execute_result",
          "data": {
            "text/html": [
              "<div>\n",
              "<style scoped>\n",
              "    .dataframe tbody tr th:only-of-type {\n",
              "        vertical-align: middle;\n",
              "    }\n",
              "\n",
              "    .dataframe tbody tr th {\n",
              "        vertical-align: top;\n",
              "    }\n",
              "\n",
              "    .dataframe thead th {\n",
              "        text-align: right;\n",
              "    }\n",
              "</style>\n",
              "<table border=\"1\" class=\"dataframe\">\n",
              "  <thead>\n",
              "    <tr style=\"text-align: right;\">\n",
              "      <th></th>\n",
              "      <th>survived</th>\n",
              "      <th>age</th>\n",
              "      <th>sibsp</th>\n",
              "      <th>parch</th>\n",
              "      <th>fare</th>\n",
              "      <th>body</th>\n",
              "      <th>cluster</th>\n",
              "    </tr>\n",
              "  </thead>\n",
              "  <tbody>\n",
              "    <tr>\n",
              "      <th>0</th>\n",
              "      <td>1</td>\n",
              "      <td>29.00</td>\n",
              "      <td>0</td>\n",
              "      <td>0</td>\n",
              "      <td>211.3375</td>\n",
              "      <td>0.0</td>\n",
              "      <td>2</td>\n",
              "    </tr>\n",
              "    <tr>\n",
              "      <th>1</th>\n",
              "      <td>1</td>\n",
              "      <td>0.92</td>\n",
              "      <td>1</td>\n",
              "      <td>2</td>\n",
              "      <td>151.5500</td>\n",
              "      <td>0.0</td>\n",
              "      <td>7</td>\n",
              "    </tr>\n",
              "    <tr>\n",
              "      <th>2</th>\n",
              "      <td>0</td>\n",
              "      <td>2.00</td>\n",
              "      <td>1</td>\n",
              "      <td>2</td>\n",
              "      <td>151.5500</td>\n",
              "      <td>0.0</td>\n",
              "      <td>7</td>\n",
              "    </tr>\n",
              "    <tr>\n",
              "      <th>3</th>\n",
              "      <td>0</td>\n",
              "      <td>30.00</td>\n",
              "      <td>1</td>\n",
              "      <td>2</td>\n",
              "      <td>151.5500</td>\n",
              "      <td>135.0</td>\n",
              "      <td>1</td>\n",
              "    </tr>\n",
              "    <tr>\n",
              "      <th>4</th>\n",
              "      <td>0</td>\n",
              "      <td>25.00</td>\n",
              "      <td>1</td>\n",
              "      <td>2</td>\n",
              "      <td>151.5500</td>\n",
              "      <td>0.0</td>\n",
              "      <td>7</td>\n",
              "    </tr>\n",
              "    <tr>\n",
              "      <th>...</th>\n",
              "      <td>...</td>\n",
              "      <td>...</td>\n",
              "      <td>...</td>\n",
              "      <td>...</td>\n",
              "      <td>...</td>\n",
              "      <td>...</td>\n",
              "      <td>...</td>\n",
              "    </tr>\n",
              "    <tr>\n",
              "      <th>1304</th>\n",
              "      <td>0</td>\n",
              "      <td>14.50</td>\n",
              "      <td>1</td>\n",
              "      <td>0</td>\n",
              "      <td>14.4542</td>\n",
              "      <td>328.0</td>\n",
              "      <td>6</td>\n",
              "    </tr>\n",
              "    <tr>\n",
              "      <th>1305</th>\n",
              "      <td>0</td>\n",
              "      <td>0.00</td>\n",
              "      <td>1</td>\n",
              "      <td>0</td>\n",
              "      <td>14.4542</td>\n",
              "      <td>0.0</td>\n",
              "      <td>4</td>\n",
              "    </tr>\n",
              "    <tr>\n",
              "      <th>1306</th>\n",
              "      <td>0</td>\n",
              "      <td>26.50</td>\n",
              "      <td>0</td>\n",
              "      <td>0</td>\n",
              "      <td>7.2250</td>\n",
              "      <td>304.0</td>\n",
              "      <td>6</td>\n",
              "    </tr>\n",
              "    <tr>\n",
              "      <th>1307</th>\n",
              "      <td>0</td>\n",
              "      <td>27.00</td>\n",
              "      <td>0</td>\n",
              "      <td>0</td>\n",
              "      <td>7.2250</td>\n",
              "      <td>0.0</td>\n",
              "      <td>0</td>\n",
              "    </tr>\n",
              "    <tr>\n",
              "      <th>1308</th>\n",
              "      <td>0</td>\n",
              "      <td>29.00</td>\n",
              "      <td>0</td>\n",
              "      <td>0</td>\n",
              "      <td>7.8750</td>\n",
              "      <td>0.0</td>\n",
              "      <td>0</td>\n",
              "    </tr>\n",
              "  </tbody>\n",
              "</table>\n",
              "<p>1309 rows × 7 columns</p>\n",
              "</div>"
            ],
            "text/plain": [
              "      survived    age  sibsp  parch      fare   body  cluster\n",
              "0            1  29.00      0      0  211.3375    0.0        2\n",
              "1            1   0.92      1      2  151.5500    0.0        7\n",
              "2            0   2.00      1      2  151.5500    0.0        7\n",
              "3            0  30.00      1      2  151.5500  135.0        1\n",
              "4            0  25.00      1      2  151.5500    0.0        7\n",
              "...        ...    ...    ...    ...       ...    ...      ...\n",
              "1304         0  14.50      1      0   14.4542  328.0        6\n",
              "1305         0   0.00      1      0   14.4542    0.0        4\n",
              "1306         0  26.50      0      0    7.2250  304.0        6\n",
              "1307         0  27.00      0      0    7.2250    0.0        0\n",
              "1308         0  29.00      0      0    7.8750    0.0        0\n",
              "\n",
              "[1309 rows x 7 columns]"
            ]
          },
          "metadata": {},
          "execution_count": 429
        }
      ],
      "source": [
        "data_expect_object[\"cluster\"] = labels\n",
        "data_expect_object"
      ]
    },
    {
      "cell_type": "markdown",
      "metadata": {
        "id": "2FqaS-oeGC2H"
      },
      "source": [
        "#### 8.7 クラスタリング結果を確認していきましょう。それぞれのグループのサンプル数を出力して下さい。"
      ]
    },
    {
      "cell_type": "code",
      "execution_count": null,
      "metadata": {
        "colab": {
          "base_uri": "https://localhost:8080/"
        },
        "id": "NvbbQyl6GC2H",
        "outputId": "d11198f5-1fca-43e7-c2a7-ac2a563ab10e"
      },
      "outputs": [
        {
          "output_type": "execute_result",
          "data": {
            "text/plain": [
              "cluster\n",
              "0    629\n",
              "1     49\n",
              "2     34\n",
              "3    163\n",
              "4    350\n",
              "5      4\n",
              "6     38\n",
              "7     42\n",
              "dtype: int64"
            ]
          },
          "metadata": {},
          "execution_count": 430
        }
      ],
      "source": [
        "data_expect_object[\"cluster\"].value_counts()\n",
        "data_expect_object.groupby(\"cluster\").size()"
      ]
    },
    {
      "cell_type": "markdown",
      "metadata": {
        "id": "HrWD-dwTGC2H"
      },
      "source": [
        "#### 8.8 グループ毎に各カラムの値の平均値を出力して下さい。"
      ]
    },
    {
      "cell_type": "markdown",
      "source": [
        ""
      ],
      "metadata": {
        "id": "OAH5CU9pOBOT"
      }
    },
    {
      "cell_type": "code",
      "execution_count": null,
      "metadata": {
        "colab": {
          "base_uri": "https://localhost:8080/",
          "height": 331
        },
        "id": "KDl0DOLiGC2H",
        "outputId": "ff686abf-3da5-4249-a835-18e1300b3988"
      },
      "outputs": [
        {
          "output_type": "execute_result",
          "data": {
            "text/html": [
              "<div>\n",
              "<style scoped>\n",
              "    .dataframe tbody tr th:only-of-type {\n",
              "        vertical-align: middle;\n",
              "    }\n",
              "\n",
              "    .dataframe tbody tr th {\n",
              "        vertical-align: top;\n",
              "    }\n",
              "\n",
              "    .dataframe thead th {\n",
              "        text-align: right;\n",
              "    }\n",
              "</style>\n",
              "<table border=\"1\" class=\"dataframe\">\n",
              "  <thead>\n",
              "    <tr style=\"text-align: right;\">\n",
              "      <th></th>\n",
              "      <th>survived</th>\n",
              "      <th>age</th>\n",
              "      <th>sibsp</th>\n",
              "      <th>parch</th>\n",
              "      <th>fare</th>\n",
              "      <th>body</th>\n",
              "    </tr>\n",
              "    <tr>\n",
              "      <th>cluster</th>\n",
              "      <th></th>\n",
              "      <th></th>\n",
              "      <th></th>\n",
              "      <th></th>\n",
              "      <th></th>\n",
              "      <th></th>\n",
              "    </tr>\n",
              "  </thead>\n",
              "  <tbody>\n",
              "    <tr>\n",
              "      <th>0</th>\n",
              "      <td>0.338633</td>\n",
              "      <td>31.202703</td>\n",
              "      <td>0.273450</td>\n",
              "      <td>0.232114</td>\n",
              "      <td>14.434101</td>\n",
              "      <td>1.618442</td>\n",
              "    </tr>\n",
              "    <tr>\n",
              "      <th>1</th>\n",
              "      <td>0.000000</td>\n",
              "      <td>35.061224</td>\n",
              "      <td>0.204082</td>\n",
              "      <td>0.367347</td>\n",
              "      <td>27.566241</td>\n",
              "      <td>148.673469</td>\n",
              "    </tr>\n",
              "    <tr>\n",
              "      <th>2</th>\n",
              "      <td>0.647059</td>\n",
              "      <td>34.867647</td>\n",
              "      <td>0.852941</td>\n",
              "      <td>1.088235</td>\n",
              "      <td>237.787624</td>\n",
              "      <td>7.794118</td>\n",
              "    </tr>\n",
              "    <tr>\n",
              "      <th>3</th>\n",
              "      <td>0.619632</td>\n",
              "      <td>30.512270</td>\n",
              "      <td>1.141104</td>\n",
              "      <td>0.656442</td>\n",
              "      <td>66.305958</td>\n",
              "      <td>0.877301</td>\n",
              "    </tr>\n",
              "    <tr>\n",
              "      <th>4</th>\n",
              "      <td>0.360000</td>\n",
              "      <td>2.413571</td>\n",
              "      <td>0.622857</td>\n",
              "      <td>0.448571</td>\n",
              "      <td>15.639988</td>\n",
              "      <td>0.014286</td>\n",
              "    </tr>\n",
              "    <tr>\n",
              "      <th>5</th>\n",
              "      <td>1.000000</td>\n",
              "      <td>41.000000</td>\n",
              "      <td>0.000000</td>\n",
              "      <td>0.500000</td>\n",
              "      <td>512.329200</td>\n",
              "      <td>0.000000</td>\n",
              "    </tr>\n",
              "    <tr>\n",
              "      <th>6</th>\n",
              "      <td>0.000000</td>\n",
              "      <td>37.750000</td>\n",
              "      <td>0.315789</td>\n",
              "      <td>0.263158</td>\n",
              "      <td>29.597587</td>\n",
              "      <td>281.052632</td>\n",
              "    </tr>\n",
              "    <tr>\n",
              "      <th>7</th>\n",
              "      <td>0.809524</td>\n",
              "      <td>31.164762</td>\n",
              "      <td>0.619048</td>\n",
              "      <td>0.642857</td>\n",
              "      <td>132.857636</td>\n",
              "      <td>1.476190</td>\n",
              "    </tr>\n",
              "  </tbody>\n",
              "</table>\n",
              "</div>"
            ],
            "text/plain": [
              "         survived        age     sibsp     parch        fare        body\n",
              "cluster                                                                 \n",
              "0        0.338633  31.202703  0.273450  0.232114   14.434101    1.618442\n",
              "1        0.000000  35.061224  0.204082  0.367347   27.566241  148.673469\n",
              "2        0.647059  34.867647  0.852941  1.088235  237.787624    7.794118\n",
              "3        0.619632  30.512270  1.141104  0.656442   66.305958    0.877301\n",
              "4        0.360000   2.413571  0.622857  0.448571   15.639988    0.014286\n",
              "5        1.000000  41.000000  0.000000  0.500000  512.329200    0.000000\n",
              "6        0.000000  37.750000  0.315789  0.263158   29.597587  281.052632\n",
              "7        0.809524  31.164762  0.619048  0.642857  132.857636    1.476190"
            ]
          },
          "metadata": {},
          "execution_count": 431
        }
      ],
      "source": [
        "data_expect_object.groupby(\"cluster\").mean()\n"
      ]
    },
    {
      "cell_type": "markdown",
      "metadata": {
        "id": "bSDNanPaGC2H"
      },
      "source": [
        "#### 8.9 「body」,「fare」,「survived」が特に分類に寄与しているようです。2次元プロットで可視化してみましょう。主成分分析のライブラリを読み込んで下さい。"
      ]
    },
    {
      "cell_type": "code",
      "execution_count": null,
      "metadata": {
        "id": "n7R-w18YGC2H"
      },
      "outputs": [],
      "source": [
        ""
      ]
    },
    {
      "cell_type": "markdown",
      "metadata": {
        "id": "JKaEyLEoGC2H"
      },
      "source": [
        "#### 8.10　PCAを読み込んで、「pca」と言う変数名に設定して下さい。その上で引数random_stateのみ「0」を指定し、下記のようなpcaのパラメータ値を出力してください。※random_stateに数字を入れることで、結果を固定することができます。"
      ]
    },
    {
      "cell_type": "code",
      "execution_count": null,
      "metadata": {
        "id": "fiZVP2MSGC2H"
      },
      "outputs": [],
      "source": [
        ""
      ]
    },
    {
      "cell_type": "markdown",
      "metadata": {
        "id": "-yeTnRyYGC2H"
      },
      "source": [
        "#### 8.11 主成分分析を実行して下さい。"
      ]
    },
    {
      "cell_type": "code",
      "execution_count": null,
      "metadata": {
        "id": "p2kuIwNTGC2H"
      },
      "outputs": [],
      "source": [
        ""
      ]
    },
    {
      "cell_type": "markdown",
      "metadata": {
        "id": "FUb4IpXYGC2H"
      },
      "source": [
        "#### 8.12 次元削減を実行し、featureと言う変数に格納して下さい。"
      ]
    },
    {
      "cell_type": "code",
      "execution_count": null,
      "metadata": {
        "id": "hoJzqwUiGC2H"
      },
      "outputs": [],
      "source": [
        ""
      ]
    },
    {
      "cell_type": "markdown",
      "metadata": {
        "id": "xeWZlnDLGC2H"
      },
      "source": [
        "#### 8.13 1行目の主成分分析結果を出力して下さい。"
      ]
    },
    {
      "cell_type": "code",
      "execution_count": null,
      "metadata": {
        "id": "wHQOCiZdGC2H"
      },
      "outputs": [],
      "source": [
        ""
      ]
    },
    {
      "cell_type": "markdown",
      "metadata": {
        "id": "Ujzpo8KTGC2H"
      },
      "source": [
        "#### 8.14 主成分分析を可視化します。各ラベルに{0:'#00FF00', 1:'#FF0000', 2:'#0000FF',  3:'#ffff00'}の色を付けて、リストを作成し、colorsと言う変数に格納して下さい。確認の為上から50行表示して下さい。"
      ]
    },
    {
      "cell_type": "code",
      "execution_count": null,
      "metadata": {
        "id": "NjajOeRJGC2H"
      },
      "outputs": [],
      "source": [
        ""
      ]
    },
    {
      "cell_type": "markdown",
      "metadata": {
        "id": "EXInotIsGC2H"
      },
      "source": [
        "#### 8.15 第一主成分と第二主成分を下記のようにグループごとに色分けして出力して下さい。"
      ]
    },
    {
      "cell_type": "code",
      "execution_count": null,
      "metadata": {
        "id": "g6glhnjBGC2H"
      },
      "outputs": [],
      "source": [
        ""
      ]
    }
  ],
  "metadata": {
    "anaconda-cloud": {},
    "kernelspec": {
      "display_name": "Python 3",
      "language": "python",
      "name": "python3"
    },
    "language_info": {
      "codemirror_mode": {
        "name": "ipython",
        "version": 3
      },
      "file_extension": ".py",
      "mimetype": "text/x-python",
      "name": "python",
      "nbconvert_exporter": "python",
      "pygments_lexer": "ipython3",
      "version": "3.7.6"
    },
    "latex_envs": {
      "LaTeX_envs_menu_present": true,
      "autocomplete": true,
      "bibliofile": "biblio.bib",
      "cite_by": "apalike",
      "current_citInitial": 1,
      "eqLabelWithNumbers": true,
      "eqNumInitial": 1,
      "hotkeys": {
        "equation": "Ctrl-E",
        "itemize": "Ctrl-I"
      },
      "labels_anchors": false,
      "latex_user_defs": false,
      "report_style_numbering": false,
      "user_envs_cfg": false
    },
    "toc": {
      "nav_menu": {
        "height": "336px",
        "width": "252px"
      },
      "number_sections": true,
      "sideBar": true,
      "skip_h1_title": false,
      "title_cell": "Table of Contents",
      "title_sidebar": "Contents",
      "toc_cell": false,
      "toc_position": {
        "height": "calc(100% - 180px)",
        "left": "10px",
        "top": "150px",
        "width": "254px"
      },
      "toc_section_display": "block",
      "toc_window_display": true
    },
    "varInspector": {
      "cols": {
        "lenName": 16,
        "lenType": 16,
        "lenVar": 40
      },
      "kernels_config": {
        "python": {
          "delete_cmd_postfix": "",
          "delete_cmd_prefix": "del ",
          "library": "var_list.py",
          "varRefreshCmd": "print(var_dic_list())"
        },
        "r": {
          "delete_cmd_postfix": ") ",
          "delete_cmd_prefix": "rm(",
          "library": "var_list.r",
          "varRefreshCmd": "cat(var_dic_list()) "
        }
      },
      "types_to_exclude": [
        "module",
        "function",
        "builtin_function_or_method",
        "instance",
        "_Feature"
      ],
      "window_display": false
    },
    "colab": {
      "name": "machine_learning_editor.ipynb",
      "provenance": [],
      "include_colab_link": true
    }
  },
  "nbformat": 4,
  "nbformat_minor": 0
}